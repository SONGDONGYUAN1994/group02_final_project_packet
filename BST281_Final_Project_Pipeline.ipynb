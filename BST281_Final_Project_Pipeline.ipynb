{
 "cells": [
  {
   "cell_type": "markdown",
   "metadata": {},
   "source": [
    "# BST281 Final Project Pipeline"
   ]
  },
  {
   "cell_type": "markdown",
   "metadata": {},
   "source": [
    "Group 2  \n",
    "Dongyuan Song, Siquan Wang, Xutao Wang, Linying Zhang"
   ]
  },
  {
   "cell_type": "markdown",
   "metadata": {},
   "source": [
    "## Set Up\n",
    "Import packages; set working direcotries."
   ]
  },
  {
   "cell_type": "code",
   "execution_count": 2,
   "metadata": {},
   "outputs": [],
   "source": [
    "import os\n",
    "import numpy as np\n",
    "import pandas as pd\n",
    "import matplotlib.pyplot as plt\n",
    "from matplotlib import rcParams\n",
    "rcParams['pdf.fonttype'] = 42\n",
    "rcParams['font.sans-serif'] = 'Arial'\n",
    "import warnings\n",
    "warnings.filterwarnings(\"ignore\")\n",
    "import urllib3\n",
    "urllib3.disable_warnings()\n",
    "import rpy2\n",
    "import rpy2.robjects as robjects\n",
    "from rpy2.robjects.packages import importr\n",
    "from IPython.display import FileLinks"
   ]
  },
  {
   "cell_type": "code",
   "execution_count": 3,
   "metadata": {},
   "outputs": [
    {
     "name": "stdout",
     "output_type": "stream",
     "text": [
      "C:\\Users\\songdongyuan\\group02_final_project_packet\n"
     ]
    }
   ],
   "source": [
    "current_path = os.getcwd()\n",
    "print(current_path)"
   ]
  },
  {
   "cell_type": "markdown",
   "metadata": {},
   "source": [
    "Set working directory. Default is this package folder."
   ]
  },
  {
   "cell_type": "code",
   "execution_count": 4,
   "metadata": {},
   "outputs": [],
   "source": [
    "os.chdir(current_path)"
   ]
  },
  {
   "cell_type": "markdown",
   "metadata": {},
   "source": [
    "Enable using R in Jupyter notebook."
   ]
  },
  {
   "cell_type": "code",
   "execution_count": 5,
   "metadata": {
    "scrolled": true
   },
   "outputs": [],
   "source": [
    "%load_ext rpy2.ipython"
   ]
  },
  {
   "cell_type": "markdown",
   "metadata": {},
   "source": [
    "## RNA-seq analysis"
   ]
  },
  {
   "cell_type": "code",
   "execution_count": 6,
   "metadata": {},
   "outputs": [],
   "source": [
    "expr_df = pd.read_csv(\"expressionFile_counts_MM.csv\")"
   ]
  },
  {
   "cell_type": "code",
   "execution_count": 7,
   "metadata": {
    "scrolled": true
   },
   "outputs": [
    {
     "data": {
      "text/html": [
       "<div>\n",
       "<style scoped>\n",
       "    .dataframe tbody tr th:only-of-type {\n",
       "        vertical-align: middle;\n",
       "    }\n",
       "\n",
       "    .dataframe tbody tr th {\n",
       "        vertical-align: top;\n",
       "    }\n",
       "\n",
       "    .dataframe thead th {\n",
       "        text-align: right;\n",
       "    }\n",
       "</style>\n",
       "<table border=\"1\" class=\"dataframe\">\n",
       "  <thead>\n",
       "    <tr style=\"text-align: right;\">\n",
       "      <th></th>\n",
       "      <th>..NM89_RPMI_salmon.quant.sf</th>\n",
       "      <th>..NM90_RPMI_HS5_salmon.quant.sf</th>\n",
       "      <th>..NM91_MM1S_salmon.quant.sf</th>\n",
       "      <th>..NM92_MM1S_HS5_salmon.quant.sf</th>\n",
       "      <th>..NM95_KMS11_salmon.quant.sf</th>\n",
       "      <th>..NM96_KMS11_HS5_salmon.quant.sf</th>\n",
       "    </tr>\n",
       "    <tr>\n",
       "      <th>Name</th>\n",
       "      <th></th>\n",
       "      <th></th>\n",
       "      <th></th>\n",
       "      <th></th>\n",
       "      <th></th>\n",
       "      <th></th>\n",
       "    </tr>\n",
       "  </thead>\n",
       "  <tbody>\n",
       "    <tr>\n",
       "      <th>5_8S_rRNA</th>\n",
       "      <td>0.00000</td>\n",
       "      <td>0.00000</td>\n",
       "      <td>0.00000</td>\n",
       "      <td>0.00000</td>\n",
       "      <td>0.00000</td>\n",
       "      <td>0.00000</td>\n",
       "    </tr>\n",
       "    <tr>\n",
       "      <th>5S_rRNA</th>\n",
       "      <td>6.45945</td>\n",
       "      <td>21.44398</td>\n",
       "      <td>10.03000</td>\n",
       "      <td>10.11391</td>\n",
       "      <td>0.00000</td>\n",
       "      <td>1.01000</td>\n",
       "    </tr>\n",
       "    <tr>\n",
       "      <th>7SK</th>\n",
       "      <td>3.03000</td>\n",
       "      <td>3.26734</td>\n",
       "      <td>0.78000</td>\n",
       "      <td>0.00000</td>\n",
       "      <td>0.00000</td>\n",
       "      <td>2.78045</td>\n",
       "    </tr>\n",
       "    <tr>\n",
       "      <th>A1BG</th>\n",
       "      <td>980.97371</td>\n",
       "      <td>1196.18930</td>\n",
       "      <td>38.39037</td>\n",
       "      <td>79.96080</td>\n",
       "      <td>4.68050</td>\n",
       "      <td>20.19474</td>\n",
       "    </tr>\n",
       "    <tr>\n",
       "      <th>A1BG-AS1</th>\n",
       "      <td>944.94700</td>\n",
       "      <td>1099.25405</td>\n",
       "      <td>3.76547</td>\n",
       "      <td>21.01000</td>\n",
       "      <td>1.84924</td>\n",
       "      <td>2.56537</td>\n",
       "    </tr>\n",
       "  </tbody>\n",
       "</table>\n",
       "</div>"
      ],
      "text/plain": [
       "           ..NM89_RPMI_salmon.quant.sf  ..NM90_RPMI_HS5_salmon.quant.sf  \\\n",
       "Name                                                                      \n",
       "5_8S_rRNA                      0.00000                          0.00000   \n",
       "5S_rRNA                        6.45945                         21.44398   \n",
       "7SK                            3.03000                          3.26734   \n",
       "A1BG                         980.97371                       1196.18930   \n",
       "A1BG-AS1                     944.94700                       1099.25405   \n",
       "\n",
       "           ..NM91_MM1S_salmon.quant.sf  ..NM92_MM1S_HS5_salmon.quant.sf  \\\n",
       "Name                                                                      \n",
       "5_8S_rRNA                      0.00000                          0.00000   \n",
       "5S_rRNA                       10.03000                         10.11391   \n",
       "7SK                            0.78000                          0.00000   \n",
       "A1BG                          38.39037                         79.96080   \n",
       "A1BG-AS1                       3.76547                         21.01000   \n",
       "\n",
       "           ..NM95_KMS11_salmon.quant.sf  ..NM96_KMS11_HS5_salmon.quant.sf  \n",
       "Name                                                                       \n",
       "5_8S_rRNA                       0.00000                           0.00000  \n",
       "5S_rRNA                         0.00000                           1.01000  \n",
       "7SK                             0.00000                           2.78045  \n",
       "A1BG                            4.68050                          20.19474  \n",
       "A1BG-AS1                        1.84924                           2.56537  "
      ]
     },
     "execution_count": 7,
     "metadata": {},
     "output_type": "execute_result"
    }
   ],
   "source": [
    "expr_df = expr_df.set_index(expr_df.columns[0])\n",
    "expr_df.head()"
   ]
  },
  {
   "cell_type": "markdown",
   "metadata": {},
   "source": [
    "### Quality Control\n",
    "Filter out none or low expressed genes."
   ]
  },
  {
   "cell_type": "code",
   "execution_count": 8,
   "metadata": {},
   "outputs": [
    {
     "name": "stdout",
     "output_type": "stream",
     "text": [
      "(58671, 6)\n"
     ]
    }
   ],
   "source": [
    "print(expr_df.shape)"
   ]
  },
  {
   "cell_type": "markdown",
   "metadata": {},
   "source": [
    "Here we only keep genes which counts are larger than 1 in each samples."
   ]
  },
  {
   "cell_type": "code",
   "execution_count": 9,
   "metadata": {},
   "outputs": [
    {
     "name": "stdout",
     "output_type": "stream",
     "text": [
      "(22366, 6)\n"
     ]
    }
   ],
   "source": [
    "mask_low_vals = (expr_df > 0).sum(axis=1) == 6\n",
    "expr_df = expr_df.loc[mask_low_vals, :]\n",
    "print(expr_df.shape)"
   ]
  },
  {
   "cell_type": "markdown",
   "metadata": {},
   "source": [
    "Save the result in working directory."
   ]
  },
  {
   "cell_type": "code",
   "execution_count": 10,
   "metadata": {},
   "outputs": [],
   "source": [
    "expr_df.to_csv('filtered.tsv',sep='\\t')"
   ]
  },
  {
   "cell_type": "markdown",
   "metadata": {},
   "source": [
    "### Normalization and Differential Expression Analysis"
   ]
  },
  {
   "cell_type": "markdown",
   "metadata": {},
   "source": [
    "This step was finished in R. Use Bioconductor Package *edgeR*, *limma* and *DEseq2*."
   ]
  },
  {
   "cell_type": "code",
   "execution_count": 17,
   "metadata": {
    "scrolled": true
   },
   "outputs": [
    {
     "name": "stdout",
     "output_type": "stream",
     "text": [
      "[1] 151367130 149539132  41809527 107076869 118426651  40173989\n",
      "\n",
      "out of 22366 with nonzero total read count\n",
      "adjusted p-value < 0.1\n",
      "LFC > 0 (up)     : 1, 0.0045% \n",
      "LFC < 0 (down)   : 156, 0.7% \n",
      "outliers [1]     : 604, 2.7% \n",
      "low counts [2]   : 0, 0% \n",
      "(mean count < 1)\n",
      "[1] see 'cooksCutoff' argument of ?results\n",
      "[2] see 'independentFiltering' argument of ?results\n",
      "\n"
     ]
    },
    {
     "name": "stderr",
     "output_type": "stream",
     "text": [
      "\n",
      "载入程辑包：'gplots'\n",
      "\n",
      "The following object is masked from 'package:stats':\n",
      "\n",
      "    lowess\n",
      "\n",
      "载入需要的程辑包：limma\n",
      "载入需要的程辑包：methods\n",
      "载入需要的程辑包：AnnotationDbi\n",
      "载入需要的程辑包：stats4\n",
      "载入需要的程辑包：BiocGenerics\n",
      "载入需要的程辑包：parallel\n",
      "\n",
      "载入程辑包：'BiocGenerics'\n",
      "\n",
      "The following objects are masked from 'package:parallel':\n",
      "\n",
      "    clusterApply, clusterApplyLB, clusterCall, clusterEvalQ,\n",
      "    clusterExport, clusterMap, parApply, parCapply, parLapply,\n",
      "    parLapplyLB, parRapply, parSapply, parSapplyLB\n",
      "\n",
      "The following object is masked from 'package:limma':\n",
      "\n",
      "    plotMA\n",
      "\n",
      "The following objects are masked from 'package:stats':\n",
      "\n",
      "    IQR, mad, sd, var, xtabs\n",
      "\n",
      "The following objects are masked from 'package:base':\n",
      "\n",
      "    anyDuplicated, append, as.data.frame, cbind, colMeans, colnames,\n",
      "    colSums, do.call, duplicated, eval, evalq, Filter, Find, get, grep,\n",
      "    grepl, intersect, is.unsorted, lapply, lengths, Map, mapply, match,\n",
      "    mget, order, paste, pmax, pmax.int, pmin, pmin.int, Position, rank,\n",
      "    rbind, Reduce, rowMeans, rownames, rowSums, sapply, setdiff, sort,\n",
      "    table, tapply, union, unique, unsplit, which, which.max, which.min\n",
      "\n",
      "载入需要的程辑包：Biobase\n",
      "Welcome to Bioconductor\n",
      "\n",
      "    Vignettes contain introductory material; view with\n",
      "    'browseVignettes()'. To cite Bioconductor, see\n",
      "    'citation(\"Biobase\")', and for packages 'citation(\"pkgname\")'.\n",
      "\n",
      "载入需要的程辑包：IRanges\n",
      "载入需要的程辑包：S4Vectors\n",
      "\n",
      "载入程辑包：'S4Vectors'\n",
      "\n",
      "The following object is masked from 'package:gplots':\n",
      "\n",
      "    space\n",
      "\n",
      "The following object is masked from 'package:base':\n",
      "\n",
      "    expand.grid\n",
      "\n",
      "\n",
      "载入需要的程辑包：GenomicRanges\n",
      "载入需要的程辑包：GenomeInfoDb\n",
      "载入需要的程辑包：SummarizedExperiment\n",
      "载入需要的程辑包：DelayedArray\n",
      "载入需要的程辑包：matrixStats\n",
      "\n",
      "载入程辑包：'matrixStats'\n",
      "\n",
      "The following objects are masked from 'package:Biobase':\n",
      "\n",
      "    anyMissing, rowMedians\n",
      "\n",
      "\n",
      "载入程辑包：'DelayedArray'\n",
      "\n",
      "The following objects are masked from 'package:matrixStats':\n",
      "\n",
      "    colMaxs, colMins, colRanges, rowMaxs, rowMins, rowRanges\n",
      "\n",
      "The following object is masked from 'package:base':\n",
      "\n",
      "    apply\n",
      "\n",
      "Warning messages:\n",
      "1: 程辑包'GenomicRanges'是用R版本3.4.4 来建造的 \n",
      "2: 程辑包'matrixStats'是用R版本3.4.4 来建造的 \n",
      "converting counts to integer mode\n",
      "estimating size factors\n",
      "estimating dispersions\n",
      "gene-wise dispersion estimates\n",
      "mean-dispersion relationship\n",
      "final dispersion estimates\n",
      "fitting model and testing\n"
     ]
    }
   ],
   "source": [
    "!Rscript RNA_seq.R"
   ]
  },
  {
   "cell_type": "markdown",
   "metadata": {},
   "source": [
    "## Mint-ChIP analysis"
   ]
  },
  {
   "cell_type": "markdown",
   "metadata": {},
   "source": [
    "### Quality Control"
   ]
  },
  {
   "cell_type": "markdown",
   "metadata": {},
   "source": [
    "The input Mint-ChIP files are BAM file already. Use **fastqc** to do quality control."
   ]
  },
  {
   "cell_type": "code",
   "execution_count": 8,
   "metadata": {
    "scrolled": true
   },
   "outputs": [
    {
     "name": "stderr",
     "output_type": "stream",
     "text": [
      "-bash: line 13: cd: /n/home08/songdongyuan/BST281/: No such file or directory\n",
      "-bash: line 15: new-modules.sh: No such file or directory\n",
      "-bash: line 16: module: command not found\n",
      "-bash: line 18: fastqc: command not found\n",
      "-bash: line 19: /home/songdongyuan/BST281/chip/Alignment_Post_Processing_15005.bam: No such file or directory\n",
      "-bash: line 20: /home/songdongyuan/BST281/chip/Alignment_Post_Processing_15009.bam: No such file or directory\n",
      "-bash: line 21: /home/songdongyuan/BST281/chip/Alignment_Post_Processing_15022.bam: No such file or directory\n",
      "-bash: line 22: /home/songdongyuan/BST281/chip/Alignment_Post_Processing_15175.bam: No such file or directory\n",
      "-bash: line 23: /home/songdongyuan/BST281/chip/Alignment_Post_Processing_15180.bam: No such file or directory\n",
      "-bash: line 24: /home/songdongyuan/BST281/chip/Alignment_Post_Processing_15193.bam: No such file or directory\n",
      "-bash: line 25: /home/songdongyuan/BST281/chip/Alignment_Post_Processing_15223.bam: No such file or directory\n",
      "-bash: line 26: /home/songdongyuan/BST281/chip/Alignment_Post_Processing_15280.bam: No such file or directory\n"
     ]
    }
   ],
   "source": [
    "%%bash\n",
    "sbatch fastqc.sh\n",
    "\n",
    "#!/bin/bash\n",
    "#SBATCH -p general\n",
    "#SBATCH -J fastqc\n",
    "#SBATCH -n 4\n",
    "#SBATCH -N 1\n",
    "#SBATCH -t 0-10:00\n",
    "#SBATCH --mem 8000\n",
    "#SBATCH -o fastqc.out\n",
    "#SBATCH -e fastqc.err\n",
    "#SBATCH --mail-type=ALL\n",
    "#SBATCH --mail-user=dsong@hsph.harvard.edu\n",
    "\n",
    "cd /n/home08/songdongyuan/BST281/\n",
    "\n",
    "source new-modules.sh\n",
    "module load fastqc/0.11.5-fasrc01\n",
    "\n",
    "fastqc -o ~/BST281/fastqc_output -t 16 \n",
    "~/BST281/chip/Alignment_Post_Processing_15005.bam \n",
    "~/BST281/chip/Alignment_Post_Processing_15009.bam \n",
    "~/BST281/chip/Alignment_Post_Processing_15022.bam \n",
    "~/BST281/chip/Alignment_Post_Processing_15175.bam \n",
    "~/BST281/chip/Alignment_Post_Processing_15180.bam \n",
    "~/BST281/chip/Alignment_Post_Processing_15193.bam \n",
    "~/BST281/chip/Alignment_Post_Processing_15223.bam \n",
    "~/BST281/chip/Alignment_Post_Processing_15280.bam"
   ]
  },
  {
   "cell_type": "markdown",
   "metadata": {},
   "source": [
    "Show the fastqc reports."
   ]
  },
  {
   "cell_type": "code",
   "execution_count": 15,
   "metadata": {},
   "outputs": [
    {
     "data": {
      "text/html": [
       "./fastqc_output/<br>\n",
       "&nbsp;&nbsp;<a href='./fastqc_output/Alignment_Post_Processing_15005_fastqc.html' target='_blank'>Alignment_Post_Processing_15005_fastqc.html</a><br>\n",
       "&nbsp;&nbsp;<a href='./fastqc_output/Alignment_Post_Processing_15009_fastqc.html' target='_blank'>Alignment_Post_Processing_15009_fastqc.html</a><br>\n",
       "&nbsp;&nbsp;<a href='./fastqc_output/Alignment_Post_Processing_15022_fastqc.html' target='_blank'>Alignment_Post_Processing_15022_fastqc.html</a><br>\n",
       "&nbsp;&nbsp;<a href='./fastqc_output/Alignment_Post_Processing_15175_fastqc.html' target='_blank'>Alignment_Post_Processing_15175_fastqc.html</a><br>\n",
       "&nbsp;&nbsp;<a href='./fastqc_output/Alignment_Post_Processing_15180_fastqc.html' target='_blank'>Alignment_Post_Processing_15180_fastqc.html</a><br>\n",
       "&nbsp;&nbsp;<a href='./fastqc_output/Alignment_Post_Processing_15193_fastqc.html' target='_blank'>Alignment_Post_Processing_15193_fastqc.html</a><br>\n",
       "&nbsp;&nbsp;<a href='./fastqc_output/Alignment_Post_Processing_15223_fastqc.html' target='_blank'>Alignment_Post_Processing_15223_fastqc.html</a><br>\n",
       "&nbsp;&nbsp;<a href='./fastqc_output/Alignment_Post_Processing_15280_fastqc.html' target='_blank'>Alignment_Post_Processing_15280_fastqc.html</a><br>"
      ],
      "text/plain": [
       "./fastqc_output/\n",
       "  Alignment_Post_Processing_15005_fastqc.html\n",
       "  Alignment_Post_Processing_15009_fastqc.html\n",
       "  Alignment_Post_Processing_15022_fastqc.html\n",
       "  Alignment_Post_Processing_15175_fastqc.html\n",
       "  Alignment_Post_Processing_15180_fastqc.html\n",
       "  Alignment_Post_Processing_15193_fastqc.html\n",
       "  Alignment_Post_Processing_15223_fastqc.html\n",
       "  Alignment_Post_Processing_15280_fastqc.html"
      ]
     },
     "execution_count": 15,
     "metadata": {},
     "output_type": "execute_result"
    }
   ],
   "source": [
    "FileLinks(os.path.join('./fastqc_output'), included_suffixes=['.html'])"
   ]
  },
  {
   "cell_type": "markdown",
   "metadata": {},
   "source": [
    "The reports show that the quality is fine. Use the BAM file for next step."
   ]
  },
  {
   "cell_type": "markdown",
   "metadata": {},
   "source": [
    "### Peak Calling"
   ]
  },
  {
   "cell_type": "markdown",
   "metadata": {},
   "source": [
    "Use MACS2 do peak calling. Notice some parameters: file type is BAMPE, q = 0.01."
   ]
  },
  {
   "cell_type": "code",
   "execution_count": 17,
   "metadata": {},
   "outputs": [
    {
     "name": "stderr",
     "output_type": "stream",
     "text": [
      "-bash: line 1: sbatch: command not found\n",
      "-bash: line 15: cd: /n/home08/songdongyuan/BST281/: No such file or directory\n",
      "-bash: line 17: new-modules.sh: No such file or directory\n",
      "-bash: line 18: module: command not found\n",
      "-bash: line 20: macs2: command not found\n",
      "-bash: line 21: macs2: command not found\n",
      "-bash: line 22: macs2: command not found\n",
      "-bash: line 23: macs2: command not found\n",
      "-bash: line 24: macs2: command not found\n",
      "-bash: line 25: macs2: command not found\n",
      "-bash: line 26: macs2: command not found\n",
      "-bash: line 27: macs2: command not found\n"
     ]
    }
   ],
   "source": [
    "%%bash\n",
    "sbatch MACS2.sh\n",
    "\n",
    "#!/bin/bash\n",
    "#SBATCH -p general\n",
    "#SBATCH -J macs2\n",
    "#SBATCH -n 4\n",
    "#SBATCH -N 1\n",
    "#SBATCH -t 0-10:00\n",
    "#SBATCH --mem 8000\n",
    "#SBATCH -o macs2.out\n",
    "#SBATCH -e macs2.err\n",
    "#SBATCH --mail-type=ALL\n",
    "#SBATCH --mail-user=dsong@hsph.harvard.edu\n",
    "\n",
    "cd /n/home08/songdongyuan/BST281/\n",
    "\n",
    "source new-modules.sh\n",
    "module load macs2/2.1.1.20160309-fasrc01\n",
    "\n",
    "macs2 callpeak -t ~/BST281/chip/Alignment_Post_Processing_15005.bam --outdir ~/BST281/macs2_output -f BAMPE -g hs -n 15005 -q 0.01\n",
    "macs2 callpeak -t ~/BST281/chip/Alignment_Post_Processing_15009.bam --outdir ~/BST281/macs2_output -f BAMPE -g hs -n 15009 -q 0.01\n",
    "macs2 callpeak -t ~/BST281/chip/Alignment_Post_Processing_15022.bam --outdir ~/BST281/macs2_output -f BAMPE -g hs -n 15022 -q 0.01\n",
    "macs2 callpeak -t ~/BST281/chip/Alignment_Post_Processing_15175.bam --outdir ~/BST281/macs2_output -f BAMPE -g hs -n 15175 -q 0.01\n",
    "macs2 callpeak -t ~/BST281/chip/Alignment_Post_Processing_15180.bam --outdir ~/BST281/macs2_output -f BAMPE -g hs -n 15180 -q 0.01\n",
    "macs2 callpeak -t ~/BST281/chip/Alignment_Post_Processing_15193.bam --outdir ~/BST281/macs2_output -f BAMPE -g hs -n 15193 -q 0.01\n",
    "macs2 callpeak -t ~/BST281/chip/Alignment_Post_Processing_15223.bam --outdir ~/BST281/macs2_output -f BAMPE -g hs -n 15223 -q 0.01\n",
    "macs2 callpeak -t ~/BST281/chip/Alignment_Post_Processing_15280.bam --outdir ~/BST281/macs2_output -f BAMPE -g hs -n 15280 -q 0.01"
   ]
  },
  {
   "cell_type": "code",
   "execution_count": 18,
   "metadata": {},
   "outputs": [
    {
     "data": {
      "text/html": [
       "./macs2_output/<br>\n",
       "&nbsp;&nbsp;<a href='./macs2_output/15005_peaks.xls' target='_blank'>15005_peaks.xls</a><br>\n",
       "&nbsp;&nbsp;<a href='./macs2_output/15009_peaks.xls' target='_blank'>15009_peaks.xls</a><br>\n",
       "&nbsp;&nbsp;<a href='./macs2_output/15022_peaks.xls' target='_blank'>15022_peaks.xls</a><br>\n",
       "&nbsp;&nbsp;<a href='./macs2_output/15175_peaks.xls' target='_blank'>15175_peaks.xls</a><br>\n",
       "&nbsp;&nbsp;<a href='./macs2_output/15180_peaks.xls' target='_blank'>15180_peaks.xls</a><br>\n",
       "&nbsp;&nbsp;<a href='./macs2_output/15193_peaks.xls' target='_blank'>15193_peaks.xls</a><br>"
      ],
      "text/plain": [
       "./macs2_output/\n",
       "  15005_peaks.xls\n",
       "  15009_peaks.xls\n",
       "  15022_peaks.xls\n",
       "  15175_peaks.xls\n",
       "  15180_peaks.xls\n",
       "  15193_peaks.xls"
      ]
     },
     "execution_count": 18,
     "metadata": {},
     "output_type": "execute_result"
    }
   ],
   "source": [
    "FileLinks(os.path.join('./macs2_output'), included_suffixes=['.xls'])"
   ]
  },
  {
   "cell_type": "markdown",
   "metadata": {},
   "source": [
    "### Differential Binding Analysis"
   ]
  }
 ],
 "metadata": {
  "kernelspec": {
   "display_name": "Python 3",
   "language": "python",
   "name": "python3"
  },
  "language_info": {
   "codemirror_mode": {
    "name": "ipython",
    "version": 3
   },
   "file_extension": ".py",
   "mimetype": "text/x-python",
   "name": "python",
   "nbconvert_exporter": "python",
   "pygments_lexer": "ipython3",
   "version": "3.6.4"
  }
 },
 "nbformat": 4,
 "nbformat_minor": 2
}
