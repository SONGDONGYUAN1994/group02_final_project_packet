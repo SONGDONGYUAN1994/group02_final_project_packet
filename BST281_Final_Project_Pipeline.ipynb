{
 "cells": [
  {
   "cell_type": "markdown",
   "metadata": {},
   "source": [
    "# BST281 Final Project Pipeline"
   ]
  },
  {
   "cell_type": "markdown",
   "metadata": {},
   "source": [
    "Group 2  \n",
    "Dongyuan Song, Siquan Wang, Xutao Wang, Linying Zhang"
   ]
  },
  {
   "cell_type": "markdown",
   "metadata": {},
   "source": [
    "## Set Up\n",
    "Import packages; set working direcotries."
   ]
  },
  {
   "cell_type": "code",
   "execution_count": 1,
   "metadata": {},
   "outputs": [],
   "source": [
    "import os\n",
    "import numpy as np\n",
    "import pandas as pd\n",
    "import matplotlib.pyplot as plt\n",
    "from matplotlib import rcParams\n",
    "rcParams['pdf.fonttype'] = 42\n",
    "rcParams['font.sans-serif'] = 'Arial'\n",
    "import warnings\n",
    "warnings.filterwarnings(\"ignore\")\n",
    "import urllib3\n",
    "urllib3.disable_warnings()\n",
    "import rpy2\n",
    "import rpy2.robjects as robjects\n",
    "from rpy2.robjects.packages import importr\n",
    "from IPython.display import FileLinks\n",
    "from IPython.display import FileLink\n",
    "import IPython"
   ]
  },
  {
   "cell_type": "code",
   "execution_count": 22,
   "metadata": {
    "scrolled": true
   },
   "outputs": [
    {
     "name": "stdout",
     "output_type": "stream",
     "text": [
      "C:\\Users\\songdongyuan\\group02_final_project_packet\n"
     ]
    }
   ],
   "source": [
    "current_path = os.getcwd()\n",
    "print(current_path)"
   ]
  },
  {
   "cell_type": "markdown",
   "metadata": {},
   "source": [
    "Set working directory. Default is this package folder."
   ]
  },
  {
   "cell_type": "code",
   "execution_count": 23,
   "metadata": {},
   "outputs": [],
   "source": [
    "os.chdir(current_path)"
   ]
  },
  {
   "cell_type": "markdown",
   "metadata": {},
   "source": [
    "Enable using R in Jupyter notebook."
   ]
  },
  {
   "cell_type": "code",
   "execution_count": 24,
   "metadata": {
    "scrolled": false
   },
   "outputs": [
    {
     "name": "stdout",
     "output_type": "stream",
     "text": [
      "The rpy2.ipython extension is already loaded. To reload it, use:\n",
      "  %reload_ext rpy2.ipython\n"
     ]
    }
   ],
   "source": [
    "%load_ext rpy2.ipython"
   ]
  },
  {
   "cell_type": "markdown",
   "metadata": {},
   "source": [
    "Function for displaying Bash code"
   ]
  },
  {
   "cell_type": "code",
   "execution_count": 24,
   "metadata": {},
   "outputs": [],
   "source": [
    "def highlight_source_bash(filename):\n",
    "    \"\"\"For use inside an IPython notebook: given a filename, print the source code. Bash version.\"\"\"\n",
    "\n",
    "    from pygments import highlight\n",
    "    from pygments.lexers import BashLexer\n",
    "    from pygments.formatters import HtmlFormatter\n",
    "    from IPython.core.display import HTML\n",
    "\n",
    "    with open (filename, \"r\") as myfile:\n",
    "        data = myfile.read()\n",
    "\n",
    "    return HTML(highlight(data, BashLexer(), HtmlFormatter(full=True)))"
   ]
  },
  {
   "cell_type": "markdown",
   "metadata": {},
   "source": [
    "Function for displaying R code"
   ]
  },
  {
   "cell_type": "code",
   "execution_count": 33,
   "metadata": {},
   "outputs": [],
   "source": [
    "def highlight_source_r(filename):\n",
    "    \"\"\"For use inside an IPython notebook: given a filename, print the source code. R version.\"\"\"\n",
    "\n",
    "    from pygments import highlight\n",
    "    from pygments.lexers import SLexer\n",
    "    from pygments.formatters import HtmlFormatter\n",
    "    from IPython.core.display import HTML\n",
    "\n",
    "    with open (filename, \"r\") as myfile:\n",
    "        data = myfile.read()\n",
    "\n",
    "    return HTML(highlight(data, SLexer(), HtmlFormatter(full=True)))"
   ]
  },
  {
   "cell_type": "markdown",
   "metadata": {},
   "source": [
    "## RNA-seq analysis"
   ]
  },
  {
   "cell_type": "markdown",
   "metadata": {},
   "source": [
    "### Check raw data"
   ]
  },
  {
   "cell_type": "code",
   "execution_count": 25,
   "metadata": {},
   "outputs": [],
   "source": [
    "expr_df = pd.read_csv(\"expressionFile_counts_MM.csv\")"
   ]
  },
  {
   "cell_type": "code",
   "execution_count": 26,
   "metadata": {
    "scrolled": false
   },
   "outputs": [
    {
     "data": {
      "text/html": [
       "<div>\n",
       "<style scoped>\n",
       "    .dataframe tbody tr th:only-of-type {\n",
       "        vertical-align: middle;\n",
       "    }\n",
       "\n",
       "    .dataframe tbody tr th {\n",
       "        vertical-align: top;\n",
       "    }\n",
       "\n",
       "    .dataframe thead th {\n",
       "        text-align: right;\n",
       "    }\n",
       "</style>\n",
       "<table border=\"1\" class=\"dataframe\">\n",
       "  <thead>\n",
       "    <tr style=\"text-align: right;\">\n",
       "      <th></th>\n",
       "      <th>..NM89_RPMI_salmon.quant.sf</th>\n",
       "      <th>..NM90_RPMI_HS5_salmon.quant.sf</th>\n",
       "      <th>..NM91_MM1S_salmon.quant.sf</th>\n",
       "      <th>..NM92_MM1S_HS5_salmon.quant.sf</th>\n",
       "      <th>..NM95_KMS11_salmon.quant.sf</th>\n",
       "      <th>..NM96_KMS11_HS5_salmon.quant.sf</th>\n",
       "    </tr>\n",
       "    <tr>\n",
       "      <th>Name</th>\n",
       "      <th></th>\n",
       "      <th></th>\n",
       "      <th></th>\n",
       "      <th></th>\n",
       "      <th></th>\n",
       "      <th></th>\n",
       "    </tr>\n",
       "  </thead>\n",
       "  <tbody>\n",
       "    <tr>\n",
       "      <th>5_8S_rRNA</th>\n",
       "      <td>0.00000</td>\n",
       "      <td>0.00000</td>\n",
       "      <td>0.00000</td>\n",
       "      <td>0.00000</td>\n",
       "      <td>0.00000</td>\n",
       "      <td>0.00000</td>\n",
       "    </tr>\n",
       "    <tr>\n",
       "      <th>5S_rRNA</th>\n",
       "      <td>6.45945</td>\n",
       "      <td>21.44398</td>\n",
       "      <td>10.03000</td>\n",
       "      <td>10.11391</td>\n",
       "      <td>0.00000</td>\n",
       "      <td>1.01000</td>\n",
       "    </tr>\n",
       "    <tr>\n",
       "      <th>7SK</th>\n",
       "      <td>3.03000</td>\n",
       "      <td>3.26734</td>\n",
       "      <td>0.78000</td>\n",
       "      <td>0.00000</td>\n",
       "      <td>0.00000</td>\n",
       "      <td>2.78045</td>\n",
       "    </tr>\n",
       "    <tr>\n",
       "      <th>A1BG</th>\n",
       "      <td>980.97371</td>\n",
       "      <td>1196.18930</td>\n",
       "      <td>38.39037</td>\n",
       "      <td>79.96080</td>\n",
       "      <td>4.68050</td>\n",
       "      <td>20.19474</td>\n",
       "    </tr>\n",
       "    <tr>\n",
       "      <th>A1BG-AS1</th>\n",
       "      <td>944.94700</td>\n",
       "      <td>1099.25405</td>\n",
       "      <td>3.76547</td>\n",
       "      <td>21.01000</td>\n",
       "      <td>1.84924</td>\n",
       "      <td>2.56537</td>\n",
       "    </tr>\n",
       "  </tbody>\n",
       "</table>\n",
       "</div>"
      ],
      "text/plain": [
       "           ..NM89_RPMI_salmon.quant.sf  ..NM90_RPMI_HS5_salmon.quant.sf  \\\n",
       "Name                                                                      \n",
       "5_8S_rRNA                      0.00000                          0.00000   \n",
       "5S_rRNA                        6.45945                         21.44398   \n",
       "7SK                            3.03000                          3.26734   \n",
       "A1BG                         980.97371                       1196.18930   \n",
       "A1BG-AS1                     944.94700                       1099.25405   \n",
       "\n",
       "           ..NM91_MM1S_salmon.quant.sf  ..NM92_MM1S_HS5_salmon.quant.sf  \\\n",
       "Name                                                                      \n",
       "5_8S_rRNA                      0.00000                          0.00000   \n",
       "5S_rRNA                       10.03000                         10.11391   \n",
       "7SK                            0.78000                          0.00000   \n",
       "A1BG                          38.39037                         79.96080   \n",
       "A1BG-AS1                       3.76547                         21.01000   \n",
       "\n",
       "           ..NM95_KMS11_salmon.quant.sf  ..NM96_KMS11_HS5_salmon.quant.sf  \n",
       "Name                                                                       \n",
       "5_8S_rRNA                       0.00000                           0.00000  \n",
       "5S_rRNA                         0.00000                           1.01000  \n",
       "7SK                             0.00000                           2.78045  \n",
       "A1BG                            4.68050                          20.19474  \n",
       "A1BG-AS1                        1.84924                           2.56537  "
      ]
     },
     "execution_count": 26,
     "metadata": {},
     "output_type": "execute_result"
    }
   ],
   "source": [
    "expr_df = expr_df.set_index(expr_df.columns[0])\n",
    "expr_df.head()"
   ]
  },
  {
   "cell_type": "markdown",
   "metadata": {},
   "source": [
    "### Quality Control\n",
    "Filter out none or low expressed genes."
   ]
  },
  {
   "cell_type": "code",
   "execution_count": 27,
   "metadata": {},
   "outputs": [
    {
     "name": "stdout",
     "output_type": "stream",
     "text": [
      "(58671, 6)\n"
     ]
    }
   ],
   "source": [
    "print(expr_df.shape)"
   ]
  },
  {
   "cell_type": "markdown",
   "metadata": {},
   "source": [
    "Here we only keep genes which counts are larger than 1 in each samples."
   ]
  },
  {
   "cell_type": "code",
   "execution_count": 28,
   "metadata": {},
   "outputs": [
    {
     "name": "stdout",
     "output_type": "stream",
     "text": [
      "(22366, 6)\n"
     ]
    }
   ],
   "source": [
    "mask_low_vals = (expr_df > 0).sum(axis=1) == 6\n",
    "expr_df = expr_df.loc[mask_low_vals, :]\n",
    "print(expr_df.shape)"
   ]
  },
  {
   "cell_type": "markdown",
   "metadata": {},
   "source": [
    "Save the result in working directory."
   ]
  },
  {
   "cell_type": "code",
   "execution_count": 29,
   "metadata": {},
   "outputs": [],
   "source": [
    "expr_df.to_csv('filtered.tsv',sep='\\t')"
   ]
  },
  {
   "cell_type": "markdown",
   "metadata": {},
   "source": [
    "### Normalization and Differential Expression Analysis"
   ]
  },
  {
   "cell_type": "markdown",
   "metadata": {},
   "source": [
    "This step was finished in R. Use Bioconductor Package *edgeR*, *limma* and *DEseq2*."
   ]
  },
  {
   "cell_type": "code",
   "execution_count": 38,
   "metadata": {
    "scrolled": true
   },
   "outputs": [
    {
     "name": "stdout",
     "output_type": "stream",
     "text": [
      "\n",
      "out of 22366 with nonzero total read count\n",
      "adjusted p-value < 0.1\n",
      "LFC > 0 (up)     : 1, 0.0045% \n",
      "LFC < 0 (down)   : 156, 0.7% \n",
      "outliers [1]     : 604, 2.7% \n",
      "low counts [2]   : 0, 0% \n",
      "(mean count < 1)\n",
      "[1] see 'cooksCutoff' argument of ?results\n",
      "[2] see 'independentFiltering' argument of ?results\n",
      "\n"
     ]
    },
    {
     "name": "stderr",
     "output_type": "stream",
     "text": [
      "Warning messages:\n",
      "1: 程辑包'GenomicRanges'是用R版本3.4.4 来建造的 \n",
      "2: 程辑包'matrixStats'是用R版本3.4.4 来建造的 \n",
      "converting counts to integer mode\n",
      "estimating size factors\n",
      "estimating dispersions\n",
      "gene-wise dispersion estimates\n",
      "mean-dispersion relationship\n",
      "final dispersion estimates\n",
      "fitting model and testing\n"
     ]
    }
   ],
   "source": [
    "!Rscript RNA_seq.R"
   ]
  },
  {
   "cell_type": "markdown",
   "metadata": {},
   "source": [
    "The codes are showed below."
   ]
  },
  {
   "cell_type": "code",
   "execution_count": 34,
   "metadata": {},
   "outputs": [
    {
     "data": {
      "text/html": [
       "<!DOCTYPE html PUBLIC \"-//W3C//DTD HTML 4.01//EN\"\n",
       "   \"http://www.w3.org/TR/html4/strict.dtd\">\n",
       "\n",
       "<html>\n",
       "<head>\n",
       "  <title></title>\n",
       "  <meta http-equiv=\"content-type\" content=\"text/html; charset=None\">\n",
       "  <style type=\"text/css\">\n",
       "td.linenos { background-color: #f0f0f0; padding-right: 10px; }\n",
       "span.lineno { background-color: #f0f0f0; padding: 0 5px 0 5px; }\n",
       "pre { line-height: 125%; }\n",
       "body .hll { background-color: #ffffcc }\n",
       "body  { background: #f8f8f8; }\n",
       "body .c { color: #408080; font-style: italic } /* Comment */\n",
       "body .err { border: 1px solid #FF0000 } /* Error */\n",
       "body .k { color: #008000; font-weight: bold } /* Keyword */\n",
       "body .o { color: #666666 } /* Operator */\n",
       "body .ch { color: #408080; font-style: italic } /* Comment.Hashbang */\n",
       "body .cm { color: #408080; font-style: italic } /* Comment.Multiline */\n",
       "body .cp { color: #BC7A00 } /* Comment.Preproc */\n",
       "body .cpf { color: #408080; font-style: italic } /* Comment.PreprocFile */\n",
       "body .c1 { color: #408080; font-style: italic } /* Comment.Single */\n",
       "body .cs { color: #408080; font-style: italic } /* Comment.Special */\n",
       "body .gd { color: #A00000 } /* Generic.Deleted */\n",
       "body .ge { font-style: italic } /* Generic.Emph */\n",
       "body .gr { color: #FF0000 } /* Generic.Error */\n",
       "body .gh { color: #000080; font-weight: bold } /* Generic.Heading */\n",
       "body .gi { color: #00A000 } /* Generic.Inserted */\n",
       "body .go { color: #888888 } /* Generic.Output */\n",
       "body .gp { color: #000080; font-weight: bold } /* Generic.Prompt */\n",
       "body .gs { font-weight: bold } /* Generic.Strong */\n",
       "body .gu { color: #800080; font-weight: bold } /* Generic.Subheading */\n",
       "body .gt { color: #0044DD } /* Generic.Traceback */\n",
       "body .kc { color: #008000; font-weight: bold } /* Keyword.Constant */\n",
       "body .kd { color: #008000; font-weight: bold } /* Keyword.Declaration */\n",
       "body .kn { color: #008000; font-weight: bold } /* Keyword.Namespace */\n",
       "body .kp { color: #008000 } /* Keyword.Pseudo */\n",
       "body .kr { color: #008000; font-weight: bold } /* Keyword.Reserved */\n",
       "body .kt { color: #B00040 } /* Keyword.Type */\n",
       "body .m { color: #666666 } /* Literal.Number */\n",
       "body .s { color: #BA2121 } /* Literal.String */\n",
       "body .na { color: #7D9029 } /* Name.Attribute */\n",
       "body .nb { color: #008000 } /* Name.Builtin */\n",
       "body .nc { color: #0000FF; font-weight: bold } /* Name.Class */\n",
       "body .no { color: #880000 } /* Name.Constant */\n",
       "body .nd { color: #AA22FF } /* Name.Decorator */\n",
       "body .ni { color: #999999; font-weight: bold } /* Name.Entity */\n",
       "body .ne { color: #D2413A; font-weight: bold } /* Name.Exception */\n",
       "body .nf { color: #0000FF } /* Name.Function */\n",
       "body .nl { color: #A0A000 } /* Name.Label */\n",
       "body .nn { color: #0000FF; font-weight: bold } /* Name.Namespace */\n",
       "body .nt { color: #008000; font-weight: bold } /* Name.Tag */\n",
       "body .nv { color: #19177C } /* Name.Variable */\n",
       "body .ow { color: #AA22FF; font-weight: bold } /* Operator.Word */\n",
       "body .w { color: #bbbbbb } /* Text.Whitespace */\n",
       "body .mb { color: #666666 } /* Literal.Number.Bin */\n",
       "body .mf { color: #666666 } /* Literal.Number.Float */\n",
       "body .mh { color: #666666 } /* Literal.Number.Hex */\n",
       "body .mi { color: #666666 } /* Literal.Number.Integer */\n",
       "body .mo { color: #666666 } /* Literal.Number.Oct */\n",
       "body .sa { color: #BA2121 } /* Literal.String.Affix */\n",
       "body .sb { color: #BA2121 } /* Literal.String.Backtick */\n",
       "body .sc { color: #BA2121 } /* Literal.String.Char */\n",
       "body .dl { color: #BA2121 } /* Literal.String.Delimiter */\n",
       "body .sd { color: #BA2121; font-style: italic } /* Literal.String.Doc */\n",
       "body .s2 { color: #BA2121 } /* Literal.String.Double */\n",
       "body .se { color: #BB6622; font-weight: bold } /* Literal.String.Escape */\n",
       "body .sh { color: #BA2121 } /* Literal.String.Heredoc */\n",
       "body .si { color: #BB6688; font-weight: bold } /* Literal.String.Interpol */\n",
       "body .sx { color: #008000 } /* Literal.String.Other */\n",
       "body .sr { color: #BB6688 } /* Literal.String.Regex */\n",
       "body .s1 { color: #BA2121 } /* Literal.String.Single */\n",
       "body .ss { color: #19177C } /* Literal.String.Symbol */\n",
       "body .bp { color: #008000 } /* Name.Builtin.Pseudo */\n",
       "body .fm { color: #0000FF } /* Name.Function.Magic */\n",
       "body .vc { color: #19177C } /* Name.Variable.Class */\n",
       "body .vg { color: #19177C } /* Name.Variable.Global */\n",
       "body .vi { color: #19177C } /* Name.Variable.Instance */\n",
       "body .vm { color: #19177C } /* Name.Variable.Magic */\n",
       "body .il { color: #666666 } /* Literal.Number.Integer.Long */\n",
       "\n",
       "  </style>\n",
       "</head>\n",
       "<body>\n",
       "<h2></h2>\n",
       "\n",
       "<div class=\"highlight\"><pre><span></span><span class=\"kp\">setwd</span><span class=\"p\">(</span><span class=\"s\">&quot;C:/Users/songdongyuan/group02_final_project_packet&quot;</span><span class=\"p\">)</span>\n",
       "\n",
       "<span class=\"c1\">#source(&quot;https://bioconductor.org/biocLite.R&quot;)</span>\n",
       "\n",
       "<span class=\"c1\">#R3.5.0 has issues when installing data.table</span>\n",
       "<span class=\"c1\">#install.packages(&quot;https://socialsciences.mcmaster.ca/jfox/.Pickup/data.table_1.10.4-3.zip&quot;,</span>\n",
       "                 <span class=\"c1\">#repos=NULL, type=&quot;win.binary&quot;)</span>\n",
       "\n",
       "<span class=\"c1\">#biocLite(&quot;edgeR&quot;)</span>\n",
       "<span class=\"c1\">#biocLite(&quot;limma&quot;)</span>\n",
       "<span class=\"c1\">#biocLite(&quot;Glimma&quot;)</span>\n",
       "<span class=\"c1\">#biocLite(&quot;org.Mm.eg.db&quot;)</span>\n",
       "<span class=\"c1\">#biocLite(&quot;RColorBrewer&quot;)</span>\n",
       "<span class=\"c1\">#biocLite(&quot;DESeq2&quot;)</span>\n",
       "<span class=\"c1\">#biocLite(&quot;DEFormats&quot;)</span>\n",
       "<span class=\"c1\">#install.packages(&quot;gplots&quot;)</span>\n",
       "\n",
       "<span class=\"kn\">library</span><span class=\"p\">(</span>gplots<span class=\"p\">)</span>\n",
       "<span class=\"kn\">library</span><span class=\"p\">(</span>edgeR<span class=\"p\">)</span>\n",
       "<span class=\"kn\">library</span><span class=\"p\">(</span>limma<span class=\"p\">)</span>\n",
       "<span class=\"kn\">library</span><span class=\"p\">(</span>Glimma<span class=\"p\">)</span>\n",
       "<span class=\"kn\">library</span><span class=\"p\">(</span>org.Mm.eg.db<span class=\"p\">)</span>\n",
       "<span class=\"kn\">library</span><span class=\"p\">(</span>RColorBrewer<span class=\"p\">)</span>\n",
       "<span class=\"kn\">library</span><span class=\"p\">(</span>DESeq2<span class=\"p\">)</span>\n",
       "<span class=\"kn\">library</span><span class=\"p\">(</span>DEFormats<span class=\"p\">)</span>\n",
       "\n",
       "filtered <span class=\"o\">&lt;-</span> read.csv<span class=\"p\">(</span><span class=\"s\">&quot;filtered.tsv&quot;</span><span class=\"p\">,</span> sep <span class=\"o\">=</span> <span class=\"s\">&quot;\\t&quot;</span><span class=\"p\">,</span> row.names <span class=\"o\">=</span> <span class=\"m\">1</span><span class=\"p\">,</span> header<span class=\"o\">=</span> <span class=\"kc\">TRUE</span><span class=\"p\">,</span> stringsAsFactors <span class=\"o\">=</span> <span class=\"bp\">F</span><span class=\"p\">)</span>\n",
       "filtered <span class=\"o\">&lt;-</span> filtered<span class=\"p\">[,</span> <span class=\"kt\">c</span><span class=\"p\">(</span><span class=\"m\">4</span><span class=\"p\">,</span><span class=\"m\">2</span><span class=\"p\">,</span><span class=\"m\">6</span><span class=\"p\">,</span> <span class=\"m\">3</span><span class=\"p\">,</span><span class=\"m\">1</span><span class=\"p\">,</span><span class=\"m\">5</span><span class=\"p\">)]</span>\n",
       "\n",
       "group <span class=\"o\">&lt;-</span> <span class=\"kt\">c</span><span class=\"p\">(</span><span class=\"s\">&quot;Co&quot;</span><span class=\"p\">,</span> <span class=\"s\">&quot;Co&quot;</span><span class=\"p\">,</span> <span class=\"s\">&quot;Co&quot;</span><span class=\"p\">,</span> <span class=\"s\">&quot;Mono&quot;</span><span class=\"p\">,</span> <span class=\"s\">&quot;Mono&quot;</span><span class=\"p\">,</span> <span class=\"s\">&quot;Mono&quot;</span><span class=\"p\">)</span>\n",
       "<span class=\"kp\">names</span><span class=\"p\">(</span>filtered<span class=\"p\">)</span> <span class=\"o\">&lt;-</span> <span class=\"kt\">c</span><span class=\"p\">(</span><span class=\"s\">&quot;MM_HS5&quot;</span><span class=\"p\">,</span> <span class=\"s\">&quot;RPMI_HS5&quot;</span><span class=\"p\">,</span> <span class=\"s\">&quot;KMS11_HS5&quot;</span><span class=\"p\">,</span> <span class=\"s\">&quot;MM&quot;</span><span class=\"p\">,</span> <span class=\"s\">&quot;RPMI&quot;</span><span class=\"p\">,</span> <span class=\"s\">&quot;KMS11&quot;</span><span class=\"p\">)</span>\n",
       "\n",
       "filtered_counts <span class=\"o\">&lt;-</span> DGEList<span class=\"p\">(</span>filtered<span class=\"p\">,</span> group <span class=\"o\">=</span> group<span class=\"p\">)</span>\n",
       "filtered_counts<span class=\"o\">$</span>samples<span class=\"o\">$</span>lib.size\n",
       "barplot<span class=\"p\">(</span>filtered_counts<span class=\"o\">$</span>samples<span class=\"o\">$</span>lib.size<span class=\"p\">,</span>names<span class=\"o\">=</span><span class=\"kp\">colnames</span><span class=\"p\">(</span>filtered_counts<span class=\"p\">),</span>las<span class=\"o\">=</span><span class=\"m\">2</span><span class=\"p\">)</span>\n",
       "<span class=\"c1\"># Add a title to the plot</span>\n",
       "title<span class=\"p\">(</span><span class=\"s\">&quot;Barplot of library sizes&quot;</span><span class=\"p\">)</span>\n",
       "\n",
       "<span class=\"c1\"># Get log2 counts per million</span>\n",
       "logcounts <span class=\"o\">&lt;-</span> cpm<span class=\"p\">(</span>filtered_counts<span class=\"p\">,</span>log<span class=\"o\">=</span><span class=\"kc\">TRUE</span><span class=\"p\">)</span>\n",
       "<span class=\"c1\"># Check distributions of samples using boxplots</span>\n",
       "boxplot<span class=\"p\">(</span>logcounts<span class=\"p\">,</span> xlab<span class=\"o\">=</span><span class=\"s\">&quot;&quot;</span><span class=\"p\">,</span> ylab<span class=\"o\">=</span><span class=\"s\">&quot;Log2 counts per million&quot;</span><span class=\"p\">,</span>las<span class=\"o\">=</span><span class=\"m\">2</span><span class=\"p\">)</span>\n",
       "<span class=\"c1\"># Let&#39;s add a blue horizontal line that corresponds to the median logCPM</span>\n",
       "abline<span class=\"p\">(</span>h<span class=\"o\">=</span>median<span class=\"p\">(</span>logcounts<span class=\"p\">),</span>col<span class=\"o\">=</span><span class=\"s\">&quot;blue&quot;</span><span class=\"p\">)</span>\n",
       "title<span class=\"p\">(</span><span class=\"s\">&quot;Boxplots of logCPMs (unnormalised)&quot;</span><span class=\"p\">)</span>\n",
       "<span class=\"c1\"># MA plot</span>\n",
       "par<span class=\"p\">(</span>mfrow <span class=\"o\">=</span> <span class=\"kt\">c</span><span class=\"p\">(</span><span class=\"m\">2</span><span class=\"p\">,</span><span class=\"m\">3</span><span class=\"p\">))</span>\n",
       "maPlot<span class=\"p\">(</span>filtered_counts<span class=\"o\">$</span>counts<span class=\"p\">[,</span><span class=\"m\">1</span><span class=\"p\">],</span> filtered_counts<span class=\"o\">$</span>counts<span class=\"p\">[,</span><span class=\"m\">2</span><span class=\"p\">],</span> lowess <span class=\"o\">=</span> <span class=\"bp\">T</span><span class=\"p\">)</span>\n",
       "title<span class=\"p\">(</span><span class=\"s\">&quot;MA plot (unnormalised) of #1 &amp; #2&quot;</span><span class=\"p\">)</span>\n",
       "maPlot<span class=\"p\">(</span>filtered_counts<span class=\"o\">$</span>counts<span class=\"p\">[,</span><span class=\"m\">1</span><span class=\"p\">],</span> filtered_counts<span class=\"o\">$</span>counts<span class=\"p\">[,</span><span class=\"m\">3</span><span class=\"p\">],</span> lowess <span class=\"o\">=</span> <span class=\"bp\">T</span><span class=\"p\">)</span>\n",
       "title<span class=\"p\">(</span><span class=\"s\">&quot;MA plot (unnormalised) of #1 &amp; #3&quot;</span><span class=\"p\">)</span>\n",
       "maPlot<span class=\"p\">(</span>filtered_counts<span class=\"o\">$</span>counts<span class=\"p\">[,</span><span class=\"m\">2</span><span class=\"p\">],</span> filtered_counts<span class=\"o\">$</span>counts<span class=\"p\">[,</span><span class=\"m\">3</span><span class=\"p\">],</span> lowess <span class=\"o\">=</span> <span class=\"bp\">T</span><span class=\"p\">)</span>\n",
       "title<span class=\"p\">(</span><span class=\"s\">&quot;MA plot (unnormalised) of #2 &amp; #3&quot;</span><span class=\"p\">)</span>\n",
       "maPlot<span class=\"p\">(</span>filtered_counts<span class=\"o\">$</span>counts<span class=\"p\">[,</span><span class=\"m\">4</span><span class=\"p\">],</span> filtered_counts<span class=\"o\">$</span>counts<span class=\"p\">[,</span><span class=\"m\">5</span><span class=\"p\">],</span> lowess <span class=\"o\">=</span> <span class=\"bp\">T</span><span class=\"p\">)</span>\n",
       "title<span class=\"p\">(</span><span class=\"s\">&quot;MA plot (unnormalised) of #4 &amp; #5&quot;</span><span class=\"p\">)</span>\n",
       "maPlot<span class=\"p\">(</span>filtered_counts<span class=\"o\">$</span>counts<span class=\"p\">[,</span><span class=\"m\">4</span><span class=\"p\">],</span> filtered_counts<span class=\"o\">$</span>counts<span class=\"p\">[,</span><span class=\"m\">6</span><span class=\"p\">],</span> lowess <span class=\"o\">=</span> <span class=\"bp\">T</span><span class=\"p\">)</span>\n",
       "title<span class=\"p\">(</span><span class=\"s\">&quot;MA plot (unnormalised) of #4 &amp; #6&quot;</span><span class=\"p\">)</span>\n",
       "maPlot<span class=\"p\">(</span>filtered_counts<span class=\"o\">$</span>counts<span class=\"p\">[,</span><span class=\"m\">5</span><span class=\"p\">],</span> filtered_counts<span class=\"o\">$</span>counts<span class=\"p\">[,</span><span class=\"m\">6</span><span class=\"p\">],</span> lowess <span class=\"o\">=</span> <span class=\"bp\">T</span><span class=\"p\">)</span>\n",
       "title<span class=\"p\">(</span><span class=\"s\">&quot;MA plot (unnormalised) of #5 &amp; #6&quot;</span><span class=\"p\">)</span>\n",
       "\n",
       "<span class=\"c1\"># Apply normalisation to DGEList object</span>\n",
       "filtered_counts_n <span class=\"o\">&lt;-</span> calcNormFactors<span class=\"p\">(</span>filtered_counts<span class=\"p\">,</span> method <span class=\"o\">=</span> <span class=\"s\">&quot;TMM&quot;</span><span class=\"p\">)</span>\n",
       "\n",
       "par<span class=\"p\">(</span>mfrow <span class=\"o\">=</span> <span class=\"kt\">c</span><span class=\"p\">(</span><span class=\"m\">2</span><span class=\"p\">,</span><span class=\"m\">3</span><span class=\"p\">))</span>\n",
       "maPlot<span class=\"p\">(</span>filtered_counts_n<span class=\"o\">$</span>counts<span class=\"p\">[,</span><span class=\"m\">1</span><span class=\"p\">],</span> filtered_counts_n<span class=\"o\">$</span>counts<span class=\"p\">[,</span><span class=\"m\">2</span><span class=\"p\">],</span> lowess <span class=\"o\">=</span> <span class=\"bp\">T</span><span class=\"p\">)</span>\n",
       "title<span class=\"p\">(</span><span class=\"s\">&quot;MA plot (normalised with TMM) of #1 &amp; #2&quot;</span><span class=\"p\">)</span>\n",
       "maPlot<span class=\"p\">(</span>filtered_counts_n<span class=\"o\">$</span>counts<span class=\"p\">[,</span><span class=\"m\">1</span><span class=\"p\">],</span> filtered_counts_n<span class=\"o\">$</span>counts<span class=\"p\">[,</span><span class=\"m\">3</span><span class=\"p\">],</span> lowess <span class=\"o\">=</span> <span class=\"bp\">T</span><span class=\"p\">)</span>\n",
       "title<span class=\"p\">(</span><span class=\"s\">&quot;MA plot (normalised with TMM) of #1 &amp; #3&quot;</span><span class=\"p\">)</span>\n",
       "maPlot<span class=\"p\">(</span>filtered_counts_n<span class=\"o\">$</span>counts<span class=\"p\">[,</span><span class=\"m\">2</span><span class=\"p\">],</span> filtered_counts_n<span class=\"o\">$</span>counts<span class=\"p\">[,</span><span class=\"m\">3</span><span class=\"p\">],</span> lowess <span class=\"o\">=</span> <span class=\"bp\">T</span><span class=\"p\">)</span>\n",
       "title<span class=\"p\">(</span><span class=\"s\">&quot;MA plot (normalised with TMM) of #2 &amp; #3&quot;</span><span class=\"p\">)</span>\n",
       "maPlot<span class=\"p\">(</span>filtered_counts_n<span class=\"o\">$</span>counts<span class=\"p\">[,</span><span class=\"m\">4</span><span class=\"p\">],</span> filtered_counts_n<span class=\"o\">$</span>counts<span class=\"p\">[,</span><span class=\"m\">5</span><span class=\"p\">],</span> lowess <span class=\"o\">=</span> <span class=\"bp\">T</span><span class=\"p\">)</span>\n",
       "title<span class=\"p\">(</span><span class=\"s\">&quot;MA plot (normalised with TMM) of #4 &amp; #5&quot;</span><span class=\"p\">)</span>\n",
       "maPlot<span class=\"p\">(</span>filtered_counts_n<span class=\"o\">$</span>counts<span class=\"p\">[,</span><span class=\"m\">4</span><span class=\"p\">],</span> filtered_counts_n<span class=\"o\">$</span>counts<span class=\"p\">[,</span><span class=\"m\">6</span><span class=\"p\">],</span> lowess <span class=\"o\">=</span> <span class=\"bp\">T</span><span class=\"p\">)</span>\n",
       "title<span class=\"p\">(</span><span class=\"s\">&quot;MA plot (normalised with TMM) of #4 &amp; #6&quot;</span><span class=\"p\">)</span>\n",
       "maPlot<span class=\"p\">(</span>filtered_counts_n<span class=\"o\">$</span>counts<span class=\"p\">[,</span><span class=\"m\">5</span><span class=\"p\">],</span> filtered_counts_n<span class=\"o\">$</span>counts<span class=\"p\">[,</span><span class=\"m\">6</span><span class=\"p\">],</span> lowess <span class=\"o\">=</span> <span class=\"bp\">T</span><span class=\"p\">)</span>\n",
       "title<span class=\"p\">(</span><span class=\"s\">&quot;MA plot (normalised with TMM) of #5 &amp; #6&quot;</span><span class=\"p\">)</span>\n",
       "\n",
       "\n",
       "par<span class=\"p\">(</span>mfrow <span class=\"o\">=</span> <span class=\"kt\">c</span><span class=\"p\">(</span><span class=\"m\">1</span><span class=\"p\">,</span> <span class=\"m\">2</span><span class=\"p\">))</span>\n",
       "<span class=\"c1\"># Get log2 counts per million</span>\n",
       "logcounts <span class=\"o\">&lt;-</span> cpm<span class=\"p\">(</span>filtered_counts<span class=\"p\">,</span>log<span class=\"o\">=</span><span class=\"kc\">TRUE</span><span class=\"p\">)</span>\n",
       "<span class=\"c1\"># Check distributions of samples using boxplots</span>\n",
       "boxplot<span class=\"p\">(</span>logcounts<span class=\"p\">,</span> xlab<span class=\"o\">=</span><span class=\"s\">&quot;&quot;</span><span class=\"p\">,</span> ylab<span class=\"o\">=</span><span class=\"s\">&quot;Log2 counts per million&quot;</span><span class=\"p\">,</span>las<span class=\"o\">=</span><span class=\"m\">2</span><span class=\"p\">)</span>\n",
       "<span class=\"c1\"># Let&#39;s add a blue horizontal line that corresponds to the median logCPM</span>\n",
       "abline<span class=\"p\">(</span>h<span class=\"o\">=</span>median<span class=\"p\">(</span>logcounts<span class=\"p\">),</span>col<span class=\"o\">=</span><span class=\"s\">&quot;blue&quot;</span><span class=\"p\">)</span>\n",
       "title<span class=\"p\">(</span><span class=\"s\">&quot;Boxplots of logCPMs (unnormalised)&quot;</span><span class=\"p\">)</span>\n",
       "<span class=\"c1\"># Get log2 counts per million</span>\n",
       "logcounts <span class=\"o\">&lt;-</span> cpm<span class=\"p\">(</span>filtered_counts_n<span class=\"p\">,</span>log<span class=\"o\">=</span><span class=\"kc\">TRUE</span><span class=\"p\">)</span>\n",
       "<span class=\"c1\"># Check distributions of samples using boxplots</span>\n",
       "boxplot<span class=\"p\">(</span>logcounts<span class=\"p\">,</span> xlab<span class=\"o\">=</span><span class=\"s\">&quot;&quot;</span><span class=\"p\">,</span> ylab<span class=\"o\">=</span><span class=\"s\">&quot;Log2 counts per million&quot;</span><span class=\"p\">,</span>las<span class=\"o\">=</span><span class=\"m\">2</span><span class=\"p\">)</span>\n",
       "<span class=\"c1\"># Let&#39;s add a blue horizontal line that corresponds to the median logCPM</span>\n",
       "abline<span class=\"p\">(</span>h<span class=\"o\">=</span>median<span class=\"p\">(</span>logcounts<span class=\"p\">),</span>col<span class=\"o\">=</span><span class=\"s\">&quot;blue&quot;</span><span class=\"p\">)</span>\n",
       "title<span class=\"p\">(</span><span class=\"s\">&quot;Boxplots of logCPMs (TMM normalised)&quot;</span><span class=\"p\">)</span>\n",
       "\n",
       "\n",
       "\n",
       "<span class=\"c1\"># Using limma</span>\n",
       "\n",
       "<span class=\"c1\"># Create design matrix</span>\n",
       "design <span class=\"o\">&lt;-</span> model.matrix<span class=\"p\">(</span><span class=\"o\">~</span> <span class=\"m\">0</span> <span class=\"o\">+</span> group<span class=\"p\">)</span>\n",
       "\n",
       "<span class=\"c1\"># Fit limma</span>\n",
       "logCPM <span class=\"o\">&lt;-</span> cpm<span class=\"p\">(</span>filtered_counts_n<span class=\"p\">,</span> log<span class=\"o\">=</span><span class=\"kc\">TRUE</span><span class=\"p\">,</span> prior.count<span class=\"o\">=</span><span class=\"m\">1</span><span class=\"p\">)</span>\n",
       "fit <span class=\"o\">&lt;-</span> lmFit<span class=\"p\">(</span>logCPM<span class=\"p\">,</span> design<span class=\"p\">)</span>\n",
       "fit <span class=\"o\">&lt;-</span> eBayes<span class=\"p\">(</span>fit<span class=\"p\">,</span> trend<span class=\"o\">=</span><span class=\"kc\">TRUE</span><span class=\"p\">)</span>\n",
       "\n",
       "<span class=\"c1\"># Using DESeq2</span>\n",
       "\n",
       "filtered_counts_n<span class=\"o\">$</span>counts <span class=\"o\">&lt;-</span> <span class=\"kp\">round</span><span class=\"p\">(</span>filtered_counts_n<span class=\"o\">$</span>counts<span class=\"p\">)</span>\n",
       "\n",
       "<span class=\"c1\"># You can easily convert data format between edgeR and DESeq2</span>\n",
       "dds <span class=\"o\">&lt;-</span> as.DESeqDataSet<span class=\"p\">(</span>filtered_counts_n<span class=\"p\">)</span>\n",
       "res <span class=\"o\">&lt;-</span> DESeq<span class=\"p\">(</span>dds<span class=\"p\">)</span>\n",
       "res <span class=\"o\">&lt;-</span> results<span class=\"p\">(</span>res<span class=\"p\">)</span>\n",
       "<span class=\"kp\">summary</span><span class=\"p\">(</span>res<span class=\"p\">)</span>\n",
       "\n",
       "resSig <span class=\"o\">&lt;-</span> res<span class=\"p\">[</span> <span class=\"kp\">which</span><span class=\"p\">(</span>res<span class=\"o\">$</span>padj <span class=\"o\">&lt;</span> <span class=\"m\">0.1</span> <span class=\"p\">),</span> <span class=\"p\">]</span>\n",
       "\n",
       "DEgene_list <span class=\"o\">&lt;-</span> <span class=\"kp\">rownames</span><span class=\"p\">(</span>resSig<span class=\"p\">)</span>\n",
       "write.table<span class=\"p\">(</span>DEgene_list<span class=\"p\">,</span> file <span class=\"o\">=</span> <span class=\"s\">&quot;DEgene_list.tsv&quot;</span><span class=\"p\">,</span> row.names <span class=\"o\">=</span> <span class=\"kc\">FALSE</span><span class=\"p\">,</span> sep <span class=\"o\">=</span> <span class=\"s\">&#39;\\t&#39;</span><span class=\"p\">,</span> col.names <span class=\"o\">=</span> <span class=\"bp\">F</span><span class=\"p\">)</span>\n",
       "</pre></div>\n",
       "</body>\n",
       "</html>\n"
      ],
      "text/plain": [
       "<IPython.core.display.HTML object>"
      ]
     },
     "execution_count": 34,
     "metadata": {},
     "output_type": "execute_result"
    }
   ],
   "source": [
    "highlight_source_r(\"RNA_seq.R\")"
   ]
  },
  {
   "cell_type": "markdown",
   "metadata": {},
   "source": [
    "Since here almost all differential expressed genes were up regulated, we only do functional analysis on them."
   ]
  },
  {
   "cell_type": "markdown",
   "metadata": {},
   "source": [
    "See the list of DE genes."
   ]
  },
  {
   "cell_type": "code",
   "execution_count": 43,
   "metadata": {},
   "outputs": [],
   "source": [
    "rna_de = pd.read_csv(\"DEgene_list.tsv\", header=None)"
   ]
  },
  {
   "cell_type": "code",
   "execution_count": 44,
   "metadata": {
    "scrolled": false
   },
   "outputs": [
    {
     "data": {
      "text/html": [
       "<div>\n",
       "<style scoped>\n",
       "    .dataframe tbody tr th:only-of-type {\n",
       "        vertical-align: middle;\n",
       "    }\n",
       "\n",
       "    .dataframe tbody tr th {\n",
       "        vertical-align: top;\n",
       "    }\n",
       "\n",
       "    .dataframe thead th {\n",
       "        text-align: right;\n",
       "    }\n",
       "</style>\n",
       "<table border=\"1\" class=\"dataframe\">\n",
       "  <thead>\n",
       "    <tr style=\"text-align: right;\">\n",
       "      <th></th>\n",
       "      <th>0</th>\n",
       "    </tr>\n",
       "  </thead>\n",
       "  <tbody>\n",
       "    <tr>\n",
       "      <th>0</th>\n",
       "      <td>ABI3BP</td>\n",
       "    </tr>\n",
       "    <tr>\n",
       "      <th>1</th>\n",
       "      <td>ABLIM3</td>\n",
       "    </tr>\n",
       "    <tr>\n",
       "      <th>2</th>\n",
       "      <td>ACKR3</td>\n",
       "    </tr>\n",
       "    <tr>\n",
       "      <th>3</th>\n",
       "      <td>ADAM12</td>\n",
       "    </tr>\n",
       "    <tr>\n",
       "      <th>4</th>\n",
       "      <td>ADAMTS1</td>\n",
       "    </tr>\n",
       "  </tbody>\n",
       "</table>\n",
       "</div>"
      ],
      "text/plain": [
       "         0\n",
       "0   ABI3BP\n",
       "1   ABLIM3\n",
       "2    ACKR3\n",
       "3   ADAM12\n",
       "4  ADAMTS1"
      ]
     },
     "execution_count": 44,
     "metadata": {},
     "output_type": "execute_result"
    }
   ],
   "source": [
    "rna_de.head()"
   ]
  },
  {
   "cell_type": "code",
   "execution_count": null,
   "metadata": {},
   "outputs": [],
   "source": []
  },
  {
   "cell_type": "markdown",
   "metadata": {},
   "source": [
    "### Enrichment analysis"
   ]
  },
  {
   "cell_type": "markdown",
   "metadata": {},
   "source": [
    "Use **David** <https://david.ncifcrf.gov/> to perform online enrichment analysis. See the result of KEGG and Biological Process below."
   ]
  },
  {
   "cell_type": "code",
   "execution_count": 50,
   "metadata": {},
   "outputs": [],
   "source": [
    "rna_KEGG = pd.read_csv(\"RNA_seq_David_KEGG.txt\", sep='\\t')"
   ]
  },
  {
   "cell_type": "code",
   "execution_count": 51,
   "metadata": {
    "scrolled": true
   },
   "outputs": [
    {
     "data": {
      "text/html": [
       "<div>\n",
       "<style scoped>\n",
       "    .dataframe tbody tr th:only-of-type {\n",
       "        vertical-align: middle;\n",
       "    }\n",
       "\n",
       "    .dataframe tbody tr th {\n",
       "        vertical-align: top;\n",
       "    }\n",
       "\n",
       "    .dataframe thead th {\n",
       "        text-align: right;\n",
       "    }\n",
       "</style>\n",
       "<table border=\"1\" class=\"dataframe\">\n",
       "  <thead>\n",
       "    <tr style=\"text-align: right;\">\n",
       "      <th></th>\n",
       "      <th>Category</th>\n",
       "      <th>Term</th>\n",
       "      <th>Count</th>\n",
       "      <th>%</th>\n",
       "      <th>PValue</th>\n",
       "      <th>Genes</th>\n",
       "      <th>List Total</th>\n",
       "      <th>Pop Hits</th>\n",
       "      <th>Pop Total</th>\n",
       "      <th>Fold Enrichment</th>\n",
       "      <th>Bonferroni</th>\n",
       "      <th>Benjamini</th>\n",
       "      <th>FDR</th>\n",
       "    </tr>\n",
       "  </thead>\n",
       "  <tbody>\n",
       "    <tr>\n",
       "      <th>0</th>\n",
       "      <td>KEGG_PATHWAY</td>\n",
       "      <td>hsa04512:ECM-receptor interaction</td>\n",
       "      <td>12</td>\n",
       "      <td>7.741935</td>\n",
       "      <td>7.803741e-10</td>\n",
       "      <td>LAMA1, COL4A2, LAMA4, TNC, COL1A2, COL6A2, COL...</td>\n",
       "      <td>71</td>\n",
       "      <td>87</td>\n",
       "      <td>6910</td>\n",
       "      <td>13.423992</td>\n",
       "      <td>1.186169e-07</td>\n",
       "      <td>1.186169e-07</td>\n",
       "      <td>9.340311e-07</td>\n",
       "    </tr>\n",
       "    <tr>\n",
       "      <th>1</th>\n",
       "      <td>KEGG_PATHWAY</td>\n",
       "      <td>hsa04151:PI3K-Akt signaling pathway</td>\n",
       "      <td>19</td>\n",
       "      <td>12.258065</td>\n",
       "      <td>5.137308e-09</td>\n",
       "      <td>CSF3, EGFR, FGF5, COL4A2, IL6, OSMR, TNC, LPAR...</td>\n",
       "      <td>71</td>\n",
       "      <td>345</td>\n",
       "      <td>6910</td>\n",
       "      <td>5.359869</td>\n",
       "      <td>7.808704e-07</td>\n",
       "      <td>3.904353e-07</td>\n",
       "      <td>6.148852e-06</td>\n",
       "    </tr>\n",
       "    <tr>\n",
       "      <th>2</th>\n",
       "      <td>KEGG_PATHWAY</td>\n",
       "      <td>hsa04510:Focal adhesion</td>\n",
       "      <td>15</td>\n",
       "      <td>9.677419</td>\n",
       "      <td>1.249131e-08</td>\n",
       "      <td>EGFR, COL4A2, TNC, COL5A2, COL5A1, MYL9, LAMA1...</td>\n",
       "      <td>71</td>\n",
       "      <td>206</td>\n",
       "      <td>6910</td>\n",
       "      <td>7.086695</td>\n",
       "      <td>1.898677e-06</td>\n",
       "      <td>6.328926e-07</td>\n",
       "      <td>1.495086e-05</td>\n",
       "    </tr>\n",
       "    <tr>\n",
       "      <th>3</th>\n",
       "      <td>KEGG_PATHWAY</td>\n",
       "      <td>hsa05146:Amoebiasis</td>\n",
       "      <td>10</td>\n",
       "      <td>6.451613</td>\n",
       "      <td>9.977432e-07</td>\n",
       "      <td>LAMA1, COL4A2, LAMA4, IL6, COL1A2, CXCL8, IL1B...</td>\n",
       "      <td>71</td>\n",
       "      <td>106</td>\n",
       "      <td>6910</td>\n",
       "      <td>9.181504</td>\n",
       "      <td>1.516455e-04</td>\n",
       "      <td>3.791354e-05</td>\n",
       "      <td>1.194194e-03</td>\n",
       "    </tr>\n",
       "    <tr>\n",
       "      <th>4</th>\n",
       "      <td>KEGG_PATHWAY</td>\n",
       "      <td>hsa04974:Protein digestion and absorption</td>\n",
       "      <td>9</td>\n",
       "      <td>5.806452</td>\n",
       "      <td>2.487070e-06</td>\n",
       "      <td>COL4A2, COL1A2, COL6A2, MME, COL6A1, COL1A1, C...</td>\n",
       "      <td>71</td>\n",
       "      <td>88</td>\n",
       "      <td>6910</td>\n",
       "      <td>9.953585</td>\n",
       "      <td>3.779637e-04</td>\n",
       "      <td>7.560416e-05</td>\n",
       "      <td>2.976738e-03</td>\n",
       "    </tr>\n",
       "  </tbody>\n",
       "</table>\n",
       "</div>"
      ],
      "text/plain": [
       "       Category                                       Term  Count          %  \\\n",
       "0  KEGG_PATHWAY          hsa04512:ECM-receptor interaction     12   7.741935   \n",
       "1  KEGG_PATHWAY        hsa04151:PI3K-Akt signaling pathway     19  12.258065   \n",
       "2  KEGG_PATHWAY                    hsa04510:Focal adhesion     15   9.677419   \n",
       "3  KEGG_PATHWAY                        hsa05146:Amoebiasis     10   6.451613   \n",
       "4  KEGG_PATHWAY  hsa04974:Protein digestion and absorption      9   5.806452   \n",
       "\n",
       "         PValue                                              Genes  \\\n",
       "0  7.803741e-10  LAMA1, COL4A2, LAMA4, TNC, COL1A2, COL6A2, COL...   \n",
       "1  5.137308e-09  CSF3, EGFR, FGF5, COL4A2, IL6, OSMR, TNC, LPAR...   \n",
       "2  1.249131e-08  EGFR, COL4A2, TNC, COL5A2, COL5A1, MYL9, LAMA1...   \n",
       "3  9.977432e-07  LAMA1, COL4A2, LAMA4, IL6, COL1A2, CXCL8, IL1B...   \n",
       "4  2.487070e-06  COL4A2, COL1A2, COL6A2, MME, COL6A1, COL1A1, C...   \n",
       "\n",
       "   List Total  Pop Hits  Pop Total  Fold Enrichment    Bonferroni  \\\n",
       "0          71        87       6910        13.423992  1.186169e-07   \n",
       "1          71       345       6910         5.359869  7.808704e-07   \n",
       "2          71       206       6910         7.086695  1.898677e-06   \n",
       "3          71       106       6910         9.181504  1.516455e-04   \n",
       "4          71        88       6910         9.953585  3.779637e-04   \n",
       "\n",
       "      Benjamini           FDR  \n",
       "0  1.186169e-07  9.340311e-07  \n",
       "1  3.904353e-07  6.148852e-06  \n",
       "2  6.328926e-07  1.495086e-05  \n",
       "3  3.791354e-05  1.194194e-03  \n",
       "4  7.560416e-05  2.976738e-03  "
      ]
     },
     "execution_count": 51,
     "metadata": {},
     "output_type": "execute_result"
    }
   ],
   "source": [
    "rna_KEGG.head()"
   ]
  },
  {
   "cell_type": "code",
   "execution_count": 52,
   "metadata": {},
   "outputs": [
    {
     "data": {
      "text/html": [
       "<div>\n",
       "<style scoped>\n",
       "    .dataframe tbody tr th:only-of-type {\n",
       "        vertical-align: middle;\n",
       "    }\n",
       "\n",
       "    .dataframe tbody tr th {\n",
       "        vertical-align: top;\n",
       "    }\n",
       "\n",
       "    .dataframe thead th {\n",
       "        text-align: right;\n",
       "    }\n",
       "</style>\n",
       "<table border=\"1\" class=\"dataframe\">\n",
       "  <thead>\n",
       "    <tr style=\"text-align: right;\">\n",
       "      <th></th>\n",
       "      <th>Category</th>\n",
       "      <th>Term</th>\n",
       "      <th>Count</th>\n",
       "      <th>%</th>\n",
       "      <th>PValue</th>\n",
       "      <th>Genes</th>\n",
       "      <th>List Total</th>\n",
       "      <th>Pop Hits</th>\n",
       "      <th>Pop Total</th>\n",
       "      <th>Fold Enrichment</th>\n",
       "      <th>Bonferroni</th>\n",
       "      <th>Benjamini</th>\n",
       "      <th>FDR</th>\n",
       "    </tr>\n",
       "  </thead>\n",
       "  <tbody>\n",
       "    <tr>\n",
       "      <th>0</th>\n",
       "      <td>GOTERM_BP_DIRECT</td>\n",
       "      <td>GO:0030198~extracellular matrix organization</td>\n",
       "      <td>23</td>\n",
       "      <td>14.838710</td>\n",
       "      <td>9.133737e-19</td>\n",
       "      <td>MATN3, COL4A2, TNC, FBN1, CCDC80, DCN, COL5A2,...</td>\n",
       "      <td>143</td>\n",
       "      <td>196</td>\n",
       "      <td>16792</td>\n",
       "      <td>13.779649</td>\n",
       "      <td>1.064080e-15</td>\n",
       "      <td>1.064080e-15</td>\n",
       "      <td>1.471183e-15</td>\n",
       "    </tr>\n",
       "    <tr>\n",
       "      <th>1</th>\n",
       "      <td>GOTERM_BP_DIRECT</td>\n",
       "      <td>GO:0030574~collagen catabolic process</td>\n",
       "      <td>11</td>\n",
       "      <td>7.096774</td>\n",
       "      <td>1.394084e-10</td>\n",
       "      <td>COL4A2, MRC2, COL1A2, COL6A2, COL6A1, COL1A1, ...</td>\n",
       "      <td>143</td>\n",
       "      <td>64</td>\n",
       "      <td>16792</td>\n",
       "      <td>20.182692</td>\n",
       "      <td>1.624107e-07</td>\n",
       "      <td>8.120537e-08</td>\n",
       "      <td>2.245468e-07</td>\n",
       "    </tr>\n",
       "    <tr>\n",
       "      <th>2</th>\n",
       "      <td>GOTERM_BP_DIRECT</td>\n",
       "      <td>GO:0045766~positive regulation of angiogenesis</td>\n",
       "      <td>11</td>\n",
       "      <td>7.096774</td>\n",
       "      <td>4.758890e-08</td>\n",
       "      <td>SASH1, C3, F3, CCBE1, SERPINE1, CXCL8, IL1B, T...</td>\n",
       "      <td>143</td>\n",
       "      <td>115</td>\n",
       "      <td>16792</td>\n",
       "      <td>11.232107</td>\n",
       "      <td>5.543953e-05</td>\n",
       "      <td>1.848018e-05</td>\n",
       "      <td>7.665201e-05</td>\n",
       "    </tr>\n",
       "    <tr>\n",
       "      <th>3</th>\n",
       "      <td>GOTERM_BP_DIRECT</td>\n",
       "      <td>GO:0007155~cell adhesion</td>\n",
       "      <td>18</td>\n",
       "      <td>11.612903</td>\n",
       "      <td>3.442427e-07</td>\n",
       "      <td>TNC, ACKR3, COL5A1, LAMA1, CDH13, LGALS3BP, LA...</td>\n",
       "      <td>143</td>\n",
       "      <td>459</td>\n",
       "      <td>16792</td>\n",
       "      <td>4.604964</td>\n",
       "      <td>4.009625e-04</td>\n",
       "      <td>1.002557e-04</td>\n",
       "      <td>5.544747e-04</td>\n",
       "    </tr>\n",
       "    <tr>\n",
       "      <th>4</th>\n",
       "      <td>GOTERM_BP_DIRECT</td>\n",
       "      <td>GO:0030199~collagen fibril organization</td>\n",
       "      <td>7</td>\n",
       "      <td>4.516129</td>\n",
       "      <td>8.528437e-07</td>\n",
       "      <td>COL1A2, COL1A1, LOX, GREM1, LOXL2, COL5A2, COL5A1</td>\n",
       "      <td>143</td>\n",
       "      <td>39</td>\n",
       "      <td>16792</td>\n",
       "      <td>21.076564</td>\n",
       "      <td>9.930699e-04</td>\n",
       "      <td>1.986929e-04</td>\n",
       "      <td>1.373677e-03</td>\n",
       "    </tr>\n",
       "  </tbody>\n",
       "</table>\n",
       "</div>"
      ],
      "text/plain": [
       "           Category                                            Term  Count  \\\n",
       "0  GOTERM_BP_DIRECT    GO:0030198~extracellular matrix organization     23   \n",
       "1  GOTERM_BP_DIRECT           GO:0030574~collagen catabolic process     11   \n",
       "2  GOTERM_BP_DIRECT  GO:0045766~positive regulation of angiogenesis     11   \n",
       "3  GOTERM_BP_DIRECT                        GO:0007155~cell adhesion     18   \n",
       "4  GOTERM_BP_DIRECT         GO:0030199~collagen fibril organization      7   \n",
       "\n",
       "           %        PValue                                              Genes  \\\n",
       "0  14.838710  9.133737e-19  MATN3, COL4A2, TNC, FBN1, CCDC80, DCN, COL5A2,...   \n",
       "1   7.096774  1.394084e-10  COL4A2, MRC2, COL1A2, COL6A2, COL6A1, COL1A1, ...   \n",
       "2   7.096774  4.758890e-08  SASH1, C3, F3, CCBE1, SERPINE1, CXCL8, IL1B, T...   \n",
       "3  11.612903  3.442427e-07  TNC, ACKR3, COL5A1, LAMA1, CDH13, LGALS3BP, LA...   \n",
       "4   4.516129  8.528437e-07  COL1A2, COL1A1, LOX, GREM1, LOXL2, COL5A2, COL5A1   \n",
       "\n",
       "   List Total  Pop Hits  Pop Total  Fold Enrichment    Bonferroni  \\\n",
       "0         143       196      16792        13.779649  1.064080e-15   \n",
       "1         143        64      16792        20.182692  1.624107e-07   \n",
       "2         143       115      16792        11.232107  5.543953e-05   \n",
       "3         143       459      16792         4.604964  4.009625e-04   \n",
       "4         143        39      16792        21.076564  9.930699e-04   \n",
       "\n",
       "      Benjamini           FDR  \n",
       "0  1.064080e-15  1.471183e-15  \n",
       "1  8.120537e-08  2.245468e-07  \n",
       "2  1.848018e-05  7.665201e-05  \n",
       "3  1.002557e-04  5.544747e-04  \n",
       "4  1.986929e-04  1.373677e-03  "
      ]
     },
     "execution_count": 52,
     "metadata": {},
     "output_type": "execute_result"
    }
   ],
   "source": [
    "rna_BP = pd.read_csv(\"RNA_seq_David_BP.txt\", sep='\\t')\n",
    "rna_BP.head()"
   ]
  },
  {
   "cell_type": "markdown",
   "metadata": {},
   "source": [
    "## Mint-ChIP analysis"
   ]
  },
  {
   "cell_type": "markdown",
   "metadata": {},
   "source": [
    "### Quality Control"
   ]
  },
  {
   "cell_type": "markdown",
   "metadata": {},
   "source": [
    "The input Mint-ChIP files are BAM file already. Use **fastqc** to do quality control. Computation was done on clusters"
   ]
  },
  {
   "cell_type": "code",
   "execution_count": 33,
   "metadata": {},
   "outputs": [
    {
     "name": "stderr",
     "output_type": "stream",
     "text": [
      "-bash: line 1: sbatch: command not found\n"
     ]
    }
   ],
   "source": [
    "%%bash\n",
    "sbatch fastqc.sh"
   ]
  },
  {
   "cell_type": "markdown",
   "metadata": {},
   "source": [
    "The codes are showed below."
   ]
  },
  {
   "cell_type": "code",
   "execution_count": 25,
   "metadata": {
    "scrolled": false
   },
   "outputs": [
    {
     "data": {
      "text/html": [
       "<!DOCTYPE html PUBLIC \"-//W3C//DTD HTML 4.01//EN\"\n",
       "   \"http://www.w3.org/TR/html4/strict.dtd\">\n",
       "\n",
       "<html>\n",
       "<head>\n",
       "  <title></title>\n",
       "  <meta http-equiv=\"content-type\" content=\"text/html; charset=None\">\n",
       "  <style type=\"text/css\">\n",
       "td.linenos { background-color: #f0f0f0; padding-right: 10px; }\n",
       "span.lineno { background-color: #f0f0f0; padding: 0 5px 0 5px; }\n",
       "pre { line-height: 125%; }\n",
       "body .hll { background-color: #ffffcc }\n",
       "body  { background: #f8f8f8; }\n",
       "body .c { color: #408080; font-style: italic } /* Comment */\n",
       "body .err { border: 1px solid #FF0000 } /* Error */\n",
       "body .k { color: #008000; font-weight: bold } /* Keyword */\n",
       "body .o { color: #666666 } /* Operator */\n",
       "body .ch { color: #408080; font-style: italic } /* Comment.Hashbang */\n",
       "body .cm { color: #408080; font-style: italic } /* Comment.Multiline */\n",
       "body .cp { color: #BC7A00 } /* Comment.Preproc */\n",
       "body .cpf { color: #408080; font-style: italic } /* Comment.PreprocFile */\n",
       "body .c1 { color: #408080; font-style: italic } /* Comment.Single */\n",
       "body .cs { color: #408080; font-style: italic } /* Comment.Special */\n",
       "body .gd { color: #A00000 } /* Generic.Deleted */\n",
       "body .ge { font-style: italic } /* Generic.Emph */\n",
       "body .gr { color: #FF0000 } /* Generic.Error */\n",
       "body .gh { color: #000080; font-weight: bold } /* Generic.Heading */\n",
       "body .gi { color: #00A000 } /* Generic.Inserted */\n",
       "body .go { color: #888888 } /* Generic.Output */\n",
       "body .gp { color: #000080; font-weight: bold } /* Generic.Prompt */\n",
       "body .gs { font-weight: bold } /* Generic.Strong */\n",
       "body .gu { color: #800080; font-weight: bold } /* Generic.Subheading */\n",
       "body .gt { color: #0044DD } /* Generic.Traceback */\n",
       "body .kc { color: #008000; font-weight: bold } /* Keyword.Constant */\n",
       "body .kd { color: #008000; font-weight: bold } /* Keyword.Declaration */\n",
       "body .kn { color: #008000; font-weight: bold } /* Keyword.Namespace */\n",
       "body .kp { color: #008000 } /* Keyword.Pseudo */\n",
       "body .kr { color: #008000; font-weight: bold } /* Keyword.Reserved */\n",
       "body .kt { color: #B00040 } /* Keyword.Type */\n",
       "body .m { color: #666666 } /* Literal.Number */\n",
       "body .s { color: #BA2121 } /* Literal.String */\n",
       "body .na { color: #7D9029 } /* Name.Attribute */\n",
       "body .nb { color: #008000 } /* Name.Builtin */\n",
       "body .nc { color: #0000FF; font-weight: bold } /* Name.Class */\n",
       "body .no { color: #880000 } /* Name.Constant */\n",
       "body .nd { color: #AA22FF } /* Name.Decorator */\n",
       "body .ni { color: #999999; font-weight: bold } /* Name.Entity */\n",
       "body .ne { color: #D2413A; font-weight: bold } /* Name.Exception */\n",
       "body .nf { color: #0000FF } /* Name.Function */\n",
       "body .nl { color: #A0A000 } /* Name.Label */\n",
       "body .nn { color: #0000FF; font-weight: bold } /* Name.Namespace */\n",
       "body .nt { color: #008000; font-weight: bold } /* Name.Tag */\n",
       "body .nv { color: #19177C } /* Name.Variable */\n",
       "body .ow { color: #AA22FF; font-weight: bold } /* Operator.Word */\n",
       "body .w { color: #bbbbbb } /* Text.Whitespace */\n",
       "body .mb { color: #666666 } /* Literal.Number.Bin */\n",
       "body .mf { color: #666666 } /* Literal.Number.Float */\n",
       "body .mh { color: #666666 } /* Literal.Number.Hex */\n",
       "body .mi { color: #666666 } /* Literal.Number.Integer */\n",
       "body .mo { color: #666666 } /* Literal.Number.Oct */\n",
       "body .sa { color: #BA2121 } /* Literal.String.Affix */\n",
       "body .sb { color: #BA2121 } /* Literal.String.Backtick */\n",
       "body .sc { color: #BA2121 } /* Literal.String.Char */\n",
       "body .dl { color: #BA2121 } /* Literal.String.Delimiter */\n",
       "body .sd { color: #BA2121; font-style: italic } /* Literal.String.Doc */\n",
       "body .s2 { color: #BA2121 } /* Literal.String.Double */\n",
       "body .se { color: #BB6622; font-weight: bold } /* Literal.String.Escape */\n",
       "body .sh { color: #BA2121 } /* Literal.String.Heredoc */\n",
       "body .si { color: #BB6688; font-weight: bold } /* Literal.String.Interpol */\n",
       "body .sx { color: #008000 } /* Literal.String.Other */\n",
       "body .sr { color: #BB6688 } /* Literal.String.Regex */\n",
       "body .s1 { color: #BA2121 } /* Literal.String.Single */\n",
       "body .ss { color: #19177C } /* Literal.String.Symbol */\n",
       "body .bp { color: #008000 } /* Name.Builtin.Pseudo */\n",
       "body .fm { color: #0000FF } /* Name.Function.Magic */\n",
       "body .vc { color: #19177C } /* Name.Variable.Class */\n",
       "body .vg { color: #19177C } /* Name.Variable.Global */\n",
       "body .vi { color: #19177C } /* Name.Variable.Instance */\n",
       "body .vm { color: #19177C } /* Name.Variable.Magic */\n",
       "body .il { color: #666666 } /* Literal.Number.Integer.Long */\n",
       "\n",
       "  </style>\n",
       "</head>\n",
       "<body>\n",
       "<h2></h2>\n",
       "\n",
       "<div class=\"highlight\"><pre><span></span><span class=\"ch\">#!/bin/bash</span>\n",
       "<span class=\"c1\">#SBATCH -p general</span>\n",
       "<span class=\"c1\">#SBATCH -J fastqc</span>\n",
       "<span class=\"c1\">#SBATCH -n 4</span>\n",
       "<span class=\"c1\">#SBATCH -N 1</span>\n",
       "<span class=\"c1\">#SBATCH -t 0-10:00</span>\n",
       "<span class=\"c1\">#SBATCH --mem 8000</span>\n",
       "<span class=\"c1\">#SBATCH -o fastqc.out</span>\n",
       "<span class=\"c1\">#SBATCH -e fastqc.err</span>\n",
       "<span class=\"c1\">#SBATCH --mail-type=ALL</span>\n",
       "<span class=\"c1\">#SBATCH --mail-user=dsong@hsph.harvard.edu</span>\n",
       "\n",
       "<span class=\"nb\">cd</span> /n/home08/songdongyuan/BST281/\n",
       "\n",
       "<span class=\"nb\">source</span> new-modules.sh\n",
       "module load fastqc/0.11.5-fasrc01\n",
       "\n",
       "fastqc -o ~/BST281/fastqc_output -t <span class=\"m\">16</span> ~/BST281/chip/Alignment_Post_Processing_15005.bam ~/BST281/chip/Alignment_Post_Processing_15009.bam ~/BST281/chip/Alignment_Post_Processing_15022.bam ~/BST281/chip/Alignment_Post_Processing_15175.bam ~/BST281/chip/Alignment_Post_Processing_15180.bam ~/BST281/chip/Alignment_Post_Processing_15193.bam ~/BST281/chip/Alignment_Post_Processing_15223.bam ~/BST281/chip/Alignment_Post_Processing_15280.bam\n",
       "</pre></div>\n",
       "</body>\n",
       "</html>\n"
      ],
      "text/plain": [
       "<IPython.core.display.HTML object>"
      ]
     },
     "execution_count": 25,
     "metadata": {},
     "output_type": "execute_result"
    }
   ],
   "source": [
    "highlight_source_bash(\"fastqc.sh\")"
   ]
  },
  {
   "cell_type": "markdown",
   "metadata": {},
   "source": [
    "Show the fastqc reports."
   ]
  },
  {
   "cell_type": "code",
   "execution_count": 35,
   "metadata": {},
   "outputs": [
    {
     "data": {
      "text/html": [
       "./fastqc_output/<br>\n",
       "&nbsp;&nbsp;<a href='./fastqc_output/Alignment_Post_Processing_15005_fastqc.html' target='_blank'>Alignment_Post_Processing_15005_fastqc.html</a><br>\n",
       "&nbsp;&nbsp;<a href='./fastqc_output/Alignment_Post_Processing_15009_fastqc.html' target='_blank'>Alignment_Post_Processing_15009_fastqc.html</a><br>\n",
       "&nbsp;&nbsp;<a href='./fastqc_output/Alignment_Post_Processing_15022_fastqc.html' target='_blank'>Alignment_Post_Processing_15022_fastqc.html</a><br>\n",
       "&nbsp;&nbsp;<a href='./fastqc_output/Alignment_Post_Processing_15175_fastqc.html' target='_blank'>Alignment_Post_Processing_15175_fastqc.html</a><br>\n",
       "&nbsp;&nbsp;<a href='./fastqc_output/Alignment_Post_Processing_15180_fastqc.html' target='_blank'>Alignment_Post_Processing_15180_fastqc.html</a><br>\n",
       "&nbsp;&nbsp;<a href='./fastqc_output/Alignment_Post_Processing_15193_fastqc.html' target='_blank'>Alignment_Post_Processing_15193_fastqc.html</a><br>\n",
       "&nbsp;&nbsp;<a href='./fastqc_output/Alignment_Post_Processing_15223_fastqc.html' target='_blank'>Alignment_Post_Processing_15223_fastqc.html</a><br>\n",
       "&nbsp;&nbsp;<a href='./fastqc_output/Alignment_Post_Processing_15280_fastqc.html' target='_blank'>Alignment_Post_Processing_15280_fastqc.html</a><br>"
      ],
      "text/plain": [
       "./fastqc_output/\n",
       "  Alignment_Post_Processing_15005_fastqc.html\n",
       "  Alignment_Post_Processing_15009_fastqc.html\n",
       "  Alignment_Post_Processing_15022_fastqc.html\n",
       "  Alignment_Post_Processing_15175_fastqc.html\n",
       "  Alignment_Post_Processing_15180_fastqc.html\n",
       "  Alignment_Post_Processing_15193_fastqc.html\n",
       "  Alignment_Post_Processing_15223_fastqc.html\n",
       "  Alignment_Post_Processing_15280_fastqc.html"
      ]
     },
     "execution_count": 35,
     "metadata": {},
     "output_type": "execute_result"
    }
   ],
   "source": [
    "FileLinks(os.path.join('./fastqc_output'), included_suffixes=['.html'])"
   ]
  },
  {
   "cell_type": "markdown",
   "metadata": {},
   "source": [
    "The reports show that the quality is fine. Use the BAM file for next step."
   ]
  },
  {
   "cell_type": "markdown",
   "metadata": {},
   "source": [
    "### Peak Calling"
   ]
  },
  {
   "cell_type": "markdown",
   "metadata": {},
   "source": [
    "Use MACS2 to do peak calling. Notice some parameters: file type is BAMPE, q = 0.01. Cimputation was done on clusters."
   ]
  },
  {
   "cell_type": "code",
   "execution_count": 36,
   "metadata": {},
   "outputs": [
    {
     "name": "stderr",
     "output_type": "stream",
     "text": [
      "-bash: line 1: sbatch: command not found\n"
     ]
    }
   ],
   "source": [
    "%%bash\n",
    "sbatch MACS2.sh"
   ]
  },
  {
   "cell_type": "markdown",
   "metadata": {},
   "source": [
    "The codes are showed below."
   ]
  },
  {
   "cell_type": "code",
   "execution_count": 26,
   "metadata": {},
   "outputs": [
    {
     "data": {
      "text/html": [
       "<!DOCTYPE html PUBLIC \"-//W3C//DTD HTML 4.01//EN\"\n",
       "   \"http://www.w3.org/TR/html4/strict.dtd\">\n",
       "\n",
       "<html>\n",
       "<head>\n",
       "  <title></title>\n",
       "  <meta http-equiv=\"content-type\" content=\"text/html; charset=None\">\n",
       "  <style type=\"text/css\">\n",
       "td.linenos { background-color: #f0f0f0; padding-right: 10px; }\n",
       "span.lineno { background-color: #f0f0f0; padding: 0 5px 0 5px; }\n",
       "pre { line-height: 125%; }\n",
       "body .hll { background-color: #ffffcc }\n",
       "body  { background: #f8f8f8; }\n",
       "body .c { color: #408080; font-style: italic } /* Comment */\n",
       "body .err { border: 1px solid #FF0000 } /* Error */\n",
       "body .k { color: #008000; font-weight: bold } /* Keyword */\n",
       "body .o { color: #666666 } /* Operator */\n",
       "body .ch { color: #408080; font-style: italic } /* Comment.Hashbang */\n",
       "body .cm { color: #408080; font-style: italic } /* Comment.Multiline */\n",
       "body .cp { color: #BC7A00 } /* Comment.Preproc */\n",
       "body .cpf { color: #408080; font-style: italic } /* Comment.PreprocFile */\n",
       "body .c1 { color: #408080; font-style: italic } /* Comment.Single */\n",
       "body .cs { color: #408080; font-style: italic } /* Comment.Special */\n",
       "body .gd { color: #A00000 } /* Generic.Deleted */\n",
       "body .ge { font-style: italic } /* Generic.Emph */\n",
       "body .gr { color: #FF0000 } /* Generic.Error */\n",
       "body .gh { color: #000080; font-weight: bold } /* Generic.Heading */\n",
       "body .gi { color: #00A000 } /* Generic.Inserted */\n",
       "body .go { color: #888888 } /* Generic.Output */\n",
       "body .gp { color: #000080; font-weight: bold } /* Generic.Prompt */\n",
       "body .gs { font-weight: bold } /* Generic.Strong */\n",
       "body .gu { color: #800080; font-weight: bold } /* Generic.Subheading */\n",
       "body .gt { color: #0044DD } /* Generic.Traceback */\n",
       "body .kc { color: #008000; font-weight: bold } /* Keyword.Constant */\n",
       "body .kd { color: #008000; font-weight: bold } /* Keyword.Declaration */\n",
       "body .kn { color: #008000; font-weight: bold } /* Keyword.Namespace */\n",
       "body .kp { color: #008000 } /* Keyword.Pseudo */\n",
       "body .kr { color: #008000; font-weight: bold } /* Keyword.Reserved */\n",
       "body .kt { color: #B00040 } /* Keyword.Type */\n",
       "body .m { color: #666666 } /* Literal.Number */\n",
       "body .s { color: #BA2121 } /* Literal.String */\n",
       "body .na { color: #7D9029 } /* Name.Attribute */\n",
       "body .nb { color: #008000 } /* Name.Builtin */\n",
       "body .nc { color: #0000FF; font-weight: bold } /* Name.Class */\n",
       "body .no { color: #880000 } /* Name.Constant */\n",
       "body .nd { color: #AA22FF } /* Name.Decorator */\n",
       "body .ni { color: #999999; font-weight: bold } /* Name.Entity */\n",
       "body .ne { color: #D2413A; font-weight: bold } /* Name.Exception */\n",
       "body .nf { color: #0000FF } /* Name.Function */\n",
       "body .nl { color: #A0A000 } /* Name.Label */\n",
       "body .nn { color: #0000FF; font-weight: bold } /* Name.Namespace */\n",
       "body .nt { color: #008000; font-weight: bold } /* Name.Tag */\n",
       "body .nv { color: #19177C } /* Name.Variable */\n",
       "body .ow { color: #AA22FF; font-weight: bold } /* Operator.Word */\n",
       "body .w { color: #bbbbbb } /* Text.Whitespace */\n",
       "body .mb { color: #666666 } /* Literal.Number.Bin */\n",
       "body .mf { color: #666666 } /* Literal.Number.Float */\n",
       "body .mh { color: #666666 } /* Literal.Number.Hex */\n",
       "body .mi { color: #666666 } /* Literal.Number.Integer */\n",
       "body .mo { color: #666666 } /* Literal.Number.Oct */\n",
       "body .sa { color: #BA2121 } /* Literal.String.Affix */\n",
       "body .sb { color: #BA2121 } /* Literal.String.Backtick */\n",
       "body .sc { color: #BA2121 } /* Literal.String.Char */\n",
       "body .dl { color: #BA2121 } /* Literal.String.Delimiter */\n",
       "body .sd { color: #BA2121; font-style: italic } /* Literal.String.Doc */\n",
       "body .s2 { color: #BA2121 } /* Literal.String.Double */\n",
       "body .se { color: #BB6622; font-weight: bold } /* Literal.String.Escape */\n",
       "body .sh { color: #BA2121 } /* Literal.String.Heredoc */\n",
       "body .si { color: #BB6688; font-weight: bold } /* Literal.String.Interpol */\n",
       "body .sx { color: #008000 } /* Literal.String.Other */\n",
       "body .sr { color: #BB6688 } /* Literal.String.Regex */\n",
       "body .s1 { color: #BA2121 } /* Literal.String.Single */\n",
       "body .ss { color: #19177C } /* Literal.String.Symbol */\n",
       "body .bp { color: #008000 } /* Name.Builtin.Pseudo */\n",
       "body .fm { color: #0000FF } /* Name.Function.Magic */\n",
       "body .vc { color: #19177C } /* Name.Variable.Class */\n",
       "body .vg { color: #19177C } /* Name.Variable.Global */\n",
       "body .vi { color: #19177C } /* Name.Variable.Instance */\n",
       "body .vm { color: #19177C } /* Name.Variable.Magic */\n",
       "body .il { color: #666666 } /* Literal.Number.Integer.Long */\n",
       "\n",
       "  </style>\n",
       "</head>\n",
       "<body>\n",
       "<h2></h2>\n",
       "\n",
       "<div class=\"highlight\"><pre><span></span><span class=\"ch\">#!/bin/bash</span>\n",
       "<span class=\"c1\">#SBATCH -p general</span>\n",
       "<span class=\"c1\">#SBATCH -J macs2</span>\n",
       "<span class=\"c1\">#SBATCH -n 4</span>\n",
       "<span class=\"c1\">#SBATCH -N 1</span>\n",
       "<span class=\"c1\">#SBATCH -t 0-10:00</span>\n",
       "<span class=\"c1\">#SBATCH --mem 8000</span>\n",
       "<span class=\"c1\">#SBATCH -o macs2.out</span>\n",
       "<span class=\"c1\">#SBATCH -e macs2.err</span>\n",
       "<span class=\"c1\">#SBATCH --mail-type=ALL</span>\n",
       "<span class=\"c1\">#SBATCH --mail-user=dsong@hsph.harvard.edu</span>\n",
       "\n",
       "<span class=\"nb\">cd</span> /n/home08/songdongyuan/BST281/\n",
       "\n",
       "<span class=\"nb\">source</span> new-modules.sh\n",
       "module load macs2/2.1.1.20160309-fasrc01\n",
       "\n",
       "macs2 callpeak -t ~/BST281/chip/Alignment_Post_Processing_15005.bam --outdir ~/BST281/macs2_output -f BAMPE -g hs -n <span class=\"m\">15005</span> -q <span class=\"m\">0</span>.01\n",
       "macs2 callpeak -t ~/BST281/chip/Alignment_Post_Processing_15009.bam --outdir ~/BST281/macs2_output -f BAMPE -g hs -n <span class=\"m\">15009</span> -q <span class=\"m\">0</span>.01\n",
       "macs2 callpeak -t ~/BST281/chip/Alignment_Post_Processing_15022.bam --outdir ~/BST281/macs2_output -f BAMPE -g hs -n <span class=\"m\">15022</span> -q <span class=\"m\">0</span>.01\n",
       "macs2 callpeak -t ~/BST281/chip/Alignment_Post_Processing_15175.bam --outdir ~/BST281/macs2_output -f BAMPE -g hs -n <span class=\"m\">15175</span> -q <span class=\"m\">0</span>.01\n",
       "macs2 callpeak -t ~/BST281/chip/Alignment_Post_Processing_15180.bam --outdir ~/BST281/macs2_output -f BAMPE -g hs -n <span class=\"m\">15180</span> -q <span class=\"m\">0</span>.01\n",
       "macs2 callpeak -t ~/BST281/chip/Alignment_Post_Processing_15193.bam --outdir ~/BST281/macs2_output -f BAMPE -g hs -n <span class=\"m\">15193</span> -q <span class=\"m\">0</span>.01\n",
       "macs2 callpeak -t ~/BST281/chip/Alignment_Post_Processing_15223.bam --outdir ~/BST281/macs2_output -f BAMPE -g hs -n <span class=\"m\">15223</span> -q <span class=\"m\">0</span>.01\n",
       "macs2 callpeak -t ~/BST281/chip/Alignment_Post_Processing_15280.bam --outdir ~/BST281/macs2_output -f BAMPE -g hs -n <span class=\"m\">15280</span> -q <span class=\"m\">0</span>.01\n",
       "</pre></div>\n",
       "</body>\n",
       "</html>\n"
      ],
      "text/plain": [
       "<IPython.core.display.HTML object>"
      ]
     },
     "execution_count": 26,
     "metadata": {},
     "output_type": "execute_result"
    }
   ],
   "source": [
    "highlight_source_bash(\"MACS2.sh\")"
   ]
  },
  {
   "cell_type": "markdown",
   "metadata": {},
   "source": [
    "The peak calling results are showed below."
   ]
  },
  {
   "cell_type": "code",
   "execution_count": 38,
   "metadata": {},
   "outputs": [
    {
     "data": {
      "text/html": [
       "./macs2_output/<br>\n",
       "&nbsp;&nbsp;<a href='./macs2_output/15005_peaks.xls' target='_blank'>15005_peaks.xls</a><br>\n",
       "&nbsp;&nbsp;<a href='./macs2_output/15009_peaks.xls' target='_blank'>15009_peaks.xls</a><br>\n",
       "&nbsp;&nbsp;<a href='./macs2_output/15022_peaks.xls' target='_blank'>15022_peaks.xls</a><br>\n",
       "&nbsp;&nbsp;<a href='./macs2_output/15175_peaks.xls' target='_blank'>15175_peaks.xls</a><br>\n",
       "&nbsp;&nbsp;<a href='./macs2_output/15180_peaks.xls' target='_blank'>15180_peaks.xls</a><br>\n",
       "&nbsp;&nbsp;<a href='./macs2_output/15193_peaks.xls' target='_blank'>15193_peaks.xls</a><br>"
      ],
      "text/plain": [
       "./macs2_output/\n",
       "  15005_peaks.xls\n",
       "  15009_peaks.xls\n",
       "  15022_peaks.xls\n",
       "  15175_peaks.xls\n",
       "  15180_peaks.xls\n",
       "  15193_peaks.xls"
      ]
     },
     "execution_count": 38,
     "metadata": {},
     "output_type": "execute_result"
    }
   ],
   "source": [
    "FileLinks(os.path.join('./macs2_output'), included_suffixes=['.xls'])"
   ]
  },
  {
   "cell_type": "markdown",
   "metadata": {},
   "source": [
    "### Differential Binding Analysis"
   ]
  },
  {
   "cell_type": "code",
   "execution_count": null,
   "metadata": {},
   "outputs": [],
   "source": []
  },
  {
   "cell_type": "markdown",
   "metadata": {},
   "source": [
    "### Motif Analysis"
   ]
  },
  {
   "cell_type": "markdown",
   "metadata": {},
   "source": [
    "Use Homer to do Motif Analysis. Computation was done on clusters."
   ]
  },
  {
   "cell_type": "code",
   "execution_count": 39,
   "metadata": {},
   "outputs": [
    {
     "name": "stderr",
     "output_type": "stream",
     "text": [
      "-bash: line 1: sbatch: command not found\n"
     ]
    }
   ],
   "source": [
    "%%bash\n",
    "sbatch homer.sh"
   ]
  },
  {
   "cell_type": "markdown",
   "metadata": {},
   "source": [
    "The codes are showed below."
   ]
  },
  {
   "cell_type": "code",
   "execution_count": 27,
   "metadata": {},
   "outputs": [
    {
     "data": {
      "text/html": [
       "<!DOCTYPE html PUBLIC \"-//W3C//DTD HTML 4.01//EN\"\n",
       "   \"http://www.w3.org/TR/html4/strict.dtd\">\n",
       "\n",
       "<html>\n",
       "<head>\n",
       "  <title></title>\n",
       "  <meta http-equiv=\"content-type\" content=\"text/html; charset=None\">\n",
       "  <style type=\"text/css\">\n",
       "td.linenos { background-color: #f0f0f0; padding-right: 10px; }\n",
       "span.lineno { background-color: #f0f0f0; padding: 0 5px 0 5px; }\n",
       "pre { line-height: 125%; }\n",
       "body .hll { background-color: #ffffcc }\n",
       "body  { background: #f8f8f8; }\n",
       "body .c { color: #408080; font-style: italic } /* Comment */\n",
       "body .err { border: 1px solid #FF0000 } /* Error */\n",
       "body .k { color: #008000; font-weight: bold } /* Keyword */\n",
       "body .o { color: #666666 } /* Operator */\n",
       "body .ch { color: #408080; font-style: italic } /* Comment.Hashbang */\n",
       "body .cm { color: #408080; font-style: italic } /* Comment.Multiline */\n",
       "body .cp { color: #BC7A00 } /* Comment.Preproc */\n",
       "body .cpf { color: #408080; font-style: italic } /* Comment.PreprocFile */\n",
       "body .c1 { color: #408080; font-style: italic } /* Comment.Single */\n",
       "body .cs { color: #408080; font-style: italic } /* Comment.Special */\n",
       "body .gd { color: #A00000 } /* Generic.Deleted */\n",
       "body .ge { font-style: italic } /* Generic.Emph */\n",
       "body .gr { color: #FF0000 } /* Generic.Error */\n",
       "body .gh { color: #000080; font-weight: bold } /* Generic.Heading */\n",
       "body .gi { color: #00A000 } /* Generic.Inserted */\n",
       "body .go { color: #888888 } /* Generic.Output */\n",
       "body .gp { color: #000080; font-weight: bold } /* Generic.Prompt */\n",
       "body .gs { font-weight: bold } /* Generic.Strong */\n",
       "body .gu { color: #800080; font-weight: bold } /* Generic.Subheading */\n",
       "body .gt { color: #0044DD } /* Generic.Traceback */\n",
       "body .kc { color: #008000; font-weight: bold } /* Keyword.Constant */\n",
       "body .kd { color: #008000; font-weight: bold } /* Keyword.Declaration */\n",
       "body .kn { color: #008000; font-weight: bold } /* Keyword.Namespace */\n",
       "body .kp { color: #008000 } /* Keyword.Pseudo */\n",
       "body .kr { color: #008000; font-weight: bold } /* Keyword.Reserved */\n",
       "body .kt { color: #B00040 } /* Keyword.Type */\n",
       "body .m { color: #666666 } /* Literal.Number */\n",
       "body .s { color: #BA2121 } /* Literal.String */\n",
       "body .na { color: #7D9029 } /* Name.Attribute */\n",
       "body .nb { color: #008000 } /* Name.Builtin */\n",
       "body .nc { color: #0000FF; font-weight: bold } /* Name.Class */\n",
       "body .no { color: #880000 } /* Name.Constant */\n",
       "body .nd { color: #AA22FF } /* Name.Decorator */\n",
       "body .ni { color: #999999; font-weight: bold } /* Name.Entity */\n",
       "body .ne { color: #D2413A; font-weight: bold } /* Name.Exception */\n",
       "body .nf { color: #0000FF } /* Name.Function */\n",
       "body .nl { color: #A0A000 } /* Name.Label */\n",
       "body .nn { color: #0000FF; font-weight: bold } /* Name.Namespace */\n",
       "body .nt { color: #008000; font-weight: bold } /* Name.Tag */\n",
       "body .nv { color: #19177C } /* Name.Variable */\n",
       "body .ow { color: #AA22FF; font-weight: bold } /* Operator.Word */\n",
       "body .w { color: #bbbbbb } /* Text.Whitespace */\n",
       "body .mb { color: #666666 } /* Literal.Number.Bin */\n",
       "body .mf { color: #666666 } /* Literal.Number.Float */\n",
       "body .mh { color: #666666 } /* Literal.Number.Hex */\n",
       "body .mi { color: #666666 } /* Literal.Number.Integer */\n",
       "body .mo { color: #666666 } /* Literal.Number.Oct */\n",
       "body .sa { color: #BA2121 } /* Literal.String.Affix */\n",
       "body .sb { color: #BA2121 } /* Literal.String.Backtick */\n",
       "body .sc { color: #BA2121 } /* Literal.String.Char */\n",
       "body .dl { color: #BA2121 } /* Literal.String.Delimiter */\n",
       "body .sd { color: #BA2121; font-style: italic } /* Literal.String.Doc */\n",
       "body .s2 { color: #BA2121 } /* Literal.String.Double */\n",
       "body .se { color: #BB6622; font-weight: bold } /* Literal.String.Escape */\n",
       "body .sh { color: #BA2121 } /* Literal.String.Heredoc */\n",
       "body .si { color: #BB6688; font-weight: bold } /* Literal.String.Interpol */\n",
       "body .sx { color: #008000 } /* Literal.String.Other */\n",
       "body .sr { color: #BB6688 } /* Literal.String.Regex */\n",
       "body .s1 { color: #BA2121 } /* Literal.String.Single */\n",
       "body .ss { color: #19177C } /* Literal.String.Symbol */\n",
       "body .bp { color: #008000 } /* Name.Builtin.Pseudo */\n",
       "body .fm { color: #0000FF } /* Name.Function.Magic */\n",
       "body .vc { color: #19177C } /* Name.Variable.Class */\n",
       "body .vg { color: #19177C } /* Name.Variable.Global */\n",
       "body .vi { color: #19177C } /* Name.Variable.Instance */\n",
       "body .vm { color: #19177C } /* Name.Variable.Magic */\n",
       "body .il { color: #666666 } /* Literal.Number.Integer.Long */\n",
       "\n",
       "  </style>\n",
       "</head>\n",
       "<body>\n",
       "<h2></h2>\n",
       "\n",
       "<div class=\"highlight\"><pre><span></span><span class=\"ch\">#!/bin/bash</span>\n",
       "<span class=\"c1\">#SBATCH -p general</span>\n",
       "<span class=\"c1\">#SBATCH -J homer</span>\n",
       "<span class=\"c1\">#SBATCH -n 12</span>\n",
       "<span class=\"c1\">#SBATCH -N 1</span>\n",
       "<span class=\"c1\">#SBATCH -t 0-10:00</span>\n",
       "<span class=\"c1\">#SBATCH --mem 32000</span>\n",
       "<span class=\"c1\">#SBATCH -o homer.out</span>\n",
       "<span class=\"c1\">#SBATCH -e homer.err</span>\n",
       "<span class=\"c1\">#SBATCH --mail-type=ALL</span>\n",
       "<span class=\"c1\">#SBATCH --mail-user=dsong@hsph.harvard.edu</span>\n",
       "\n",
       "<span class=\"nb\">source</span> new-modules.sh\n",
       "module load homer/latest-fasrc01\n",
       "\n",
       "<span class=\"c1\">#sed &#39;/GL/d&#39; ~/BST281/homer/H3K27ac_increase.bed &gt; ./newfile.bed</span>\n",
       "<span class=\"c1\">#awk &#39;$0=&quot;chr&quot;$0&#39; newfile.bed &gt; ./newfile1.bed</span>\n",
       "<span class=\"c1\">#awk &#39;BEGIN {OFS=&quot;\\t&quot;}{$6=0; print $0}&#39; newfile1.bed &gt;~/BST281/homer/H3K27ac_increase_cl.bed</span>\n",
       "<span class=\"c1\">#rm -f newfile.bed newfile1.bed</span>\n",
       "<span class=\"c1\">#findMotifsGenome.pl ~/BST281/homer/H3K27ac_increase_cl.bed hg19 ~/BST281/homer_output/H3K27ac_increase -preparsedDir ~/BST281/homer/preparsed -size 500</span>\n",
       "\n",
       "<span class=\"c1\">#sed &#39;/GL/d&#39; ~/BST281/homer/H3K4me3_increase.bed &gt; ./newfile.bed</span>\n",
       "<span class=\"c1\">#awk &#39;$0=&quot;chr&quot;$0&#39; newfile.bed &gt; ./newfile1.bed</span>\n",
       "<span class=\"c1\">#awk &#39;BEGIN {OFS=&quot;\\t&quot;}{$6=0; print $0}&#39; newfile1.bed &gt;~/BST281/homer/H3K4me3_increase_cl.bed</span>\n",
       "<span class=\"c1\">#rm -f newfile.bed newfile1.bed</span>\n",
       "<span class=\"c1\">#findMotifsGenome.pl ~/BST281/homer/H3K4me3_increase_cl.bed hg19 ~/BST281/homer_output/H3K4me3_increase -preparsedDir ~/BST281/homer/preparsed -size 500</span>\n",
       "\n",
       "<span class=\"c1\">#sed &#39;/GL/d&#39; ~/BST281/homer/H3K27ac_decrease.bed &gt; ./newfile.bed</span>\n",
       "<span class=\"c1\">#awk &#39;$0=&quot;chr&quot;$0&#39; newfile.bed &gt; ./newfile1.bed</span>\n",
       "<span class=\"c1\">#awk &#39;BEGIN {OFS=&quot;\\t&quot;}{$6=0; print $0}&#39; newfile1.bed &gt;~/BST281/homer/H3K27ac_decrease_cl.bed</span>\n",
       "rm -f newfile.bed newfile1.bed\n",
       "findMotifsGenome.pl ~/BST281/homer/H3K27ac_decrease_cl.bed hg19 ~/BST281/homer_output/H3K27ac_decrease -preparsedDir ~/BST281/homer/preparsed -size <span class=\"m\">500</span>\n",
       "\n",
       "sed <span class=\"s1\">&#39;/GL/d&#39;</span> ~/BST281/homer/H3K4me3_decrease.bed &gt; ./newfile.bed\n",
       "awk <span class=\"s1\">&#39;$0=&quot;chr&quot;$0&#39;</span> newfile.bed &gt; ./newfile1.bed\n",
       "awk <span class=\"s1\">&#39;BEGIN {OFS=&quot;\\t&quot;}{$6=0; print $0}&#39;</span> newfile1.bed &gt;~/BST281/homer/H3K4me3_decrease_cl.bed\n",
       "rm -f newfile.bed newfile1.bed\n",
       "findMotifsGenome.pl ~/BST281/homer/H3K4me3_decrease_cl.bed hg19 ~/BST281/homer_output/H3K4me3_decrease -preparsedDir ~/BST281/homer/preparsed -size <span class=\"m\">500</span>\n",
       "</pre></div>\n",
       "</body>\n",
       "</html>\n"
      ],
      "text/plain": [
       "<IPython.core.display.HTML object>"
      ]
     },
     "execution_count": 27,
     "metadata": {},
     "output_type": "execute_result"
    }
   ],
   "source": [
    "highlight_source_bash(\"homer.sh\")"
   ]
  },
  {
   "cell_type": "markdown",
   "metadata": {},
   "source": [
    "The motif analysis results are showed below."
   ]
  },
  {
   "cell_type": "markdown",
   "metadata": {},
   "source": [
    "Result of H3K4me3 increasing binding sites"
   ]
  },
  {
   "cell_type": "code",
   "execution_count": 53,
   "metadata": {},
   "outputs": [
    {
     "data": {
      "text/html": [
       "<a href='./homer_output/H3K4me3_increase/knownResults.html' target='_blank'>./homer_output/H3K4me3_increase/knownResults.html</a><br>"
      ],
      "text/plain": [
       "C:\\Users\\songdongyuan\\group02_final_project_packet\\homer_output\\H3K4me3_increase\\knownResults.html"
      ]
     },
     "execution_count": 53,
     "metadata": {},
     "output_type": "execute_result"
    }
   ],
   "source": [
    "FileLink(\"./homer_output/H3K4me3_increase/knownResults.html\")"
   ]
  },
  {
   "cell_type": "markdown",
   "metadata": {},
   "source": [
    "Result of H3K4me3 decreasing binding sites"
   ]
  },
  {
   "cell_type": "code",
   "execution_count": 55,
   "metadata": {},
   "outputs": [
    {
     "data": {
      "text/html": [
       "<a href='./homer_output/H3K4me3_decrease/knownResults.html' target='_blank'>./homer_output/H3K4me3_decrease/knownResults.html</a><br>"
      ],
      "text/plain": [
       "C:\\Users\\songdongyuan\\group02_final_project_packet\\homer_output\\H3K4me3_decrease\\knownResults.html"
      ]
     },
     "execution_count": 55,
     "metadata": {},
     "output_type": "execute_result"
    }
   ],
   "source": [
    "FileLink(\"./homer_output/H3K4me3_decrease/knownResults.html\")"
   ]
  },
  {
   "cell_type": "markdown",
   "metadata": {},
   "source": [
    "Result of H3K27ac increasing binding sites"
   ]
  },
  {
   "cell_type": "code",
   "execution_count": 58,
   "metadata": {},
   "outputs": [
    {
     "data": {
      "text/html": [
       "<a href='./homer_output/H3K27ac_increase/knownResults.html' target='_blank'>./homer_output/H3K27ac_increase/knownResults.html</a><br>"
      ],
      "text/plain": [
       "C:\\Users\\songdongyuan\\group02_final_project_packet\\homer_output\\H3K27ac_increase\\knownResults.html"
      ]
     },
     "execution_count": 58,
     "metadata": {},
     "output_type": "execute_result"
    }
   ],
   "source": [
    "FileLink(\"./homer_output/H3K27ac_increase/knownResults.html\")"
   ]
  },
  {
   "cell_type": "markdown",
   "metadata": {},
   "source": [
    "Result of H3K27ac\n",
    "decreasing binding sites"
   ]
  },
  {
   "cell_type": "code",
   "execution_count": 59,
   "metadata": {},
   "outputs": [
    {
     "data": {
      "text/html": [
       "<a href='./homer_output/H3K27ac_decrease/knownResults.html' target='_blank'>./homer_output/H3K27ac_decrease/knownResults.html</a><br>"
      ],
      "text/plain": [
       "C:\\Users\\songdongyuan\\group02_final_project_packet\\homer_output\\H3K27ac_decrease\\knownResults.html"
      ]
     },
     "execution_count": 59,
     "metadata": {},
     "output_type": "execute_result"
    }
   ],
   "source": [
    "FileLink(\"./homer_output/H3K27ac_decrease/knownResults.html\")"
   ]
  },
  {
   "cell_type": "code",
   "execution_count": null,
   "metadata": {},
   "outputs": [],
   "source": []
  },
  {
   "cell_type": "code",
   "execution_count": null,
   "metadata": {},
   "outputs": [],
   "source": []
  }
 ],
 "metadata": {
  "kernelspec": {
   "display_name": "Python 3",
   "language": "python",
   "name": "python3"
  },
  "language_info": {
   "codemirror_mode": {
    "name": "ipython",
    "version": 3
   },
   "file_extension": ".py",
   "mimetype": "text/x-python",
   "name": "python",
   "nbconvert_exporter": "python",
   "pygments_lexer": "ipython3",
   "version": "3.6.4"
  }
 },
 "nbformat": 4,
 "nbformat_minor": 2
}
