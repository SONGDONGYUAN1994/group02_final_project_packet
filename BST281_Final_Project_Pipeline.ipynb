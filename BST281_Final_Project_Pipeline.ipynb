{
 "cells": [
  {
   "cell_type": "markdown",
   "metadata": {},
   "source": [
    "# BST281 Final Project Pipeline"
   ]
  },
  {
   "cell_type": "markdown",
   "metadata": {},
   "source": [
    "Group 2  \n",
    "Dongyuan Song, Siquan Wang, Xutao Wang, Linying Zhang"
   ]
  },
  {
   "cell_type": "markdown",
   "metadata": {},
   "source": [
    "## Set Up\n",
    "Import packages; set working direcotries."
   ]
  },
  {
   "cell_type": "code",
   "execution_count": 3,
   "metadata": {},
   "outputs": [],
   "source": [
    "import os\n",
    "import numpy as np\n",
    "import pandas as pd\n",
    "import matplotlib.pyplot as plt\n",
    "from matplotlib import rcParams\n",
    "rcParams['pdf.fonttype'] = 42\n",
    "rcParams['font.sans-serif'] = 'Arial'\n",
    "import warnings\n",
    "warnings.filterwarnings(\"ignore\")\n",
    "import urllib3\n",
    "urllib3.disable_warnings()\n",
    "import rpy2\n",
    "import rpy2.robjects as robjects\n",
    "from rpy2.robjects.packages import importr"
   ]
  },
  {
   "cell_type": "code",
   "execution_count": null,
   "metadata": {},
   "outputs": [],
   "source": [
    "current_path = os.getcwd()\n",
    "print(current_path)"
   ]
  },
  {
   "cell_type": "markdown",
   "metadata": {},
   "source": [
    "Set working directory. Default is this package folder."
   ]
  },
  {
   "cell_type": "code",
   "execution_count": null,
   "metadata": {},
   "outputs": [],
   "source": [
    "os.chdir(current_path)"
   ]
  },
  {
   "cell_type": "markdown",
   "metadata": {},
   "source": [
    "Enable using R in Jupyter notebook."
   ]
  },
  {
   "cell_type": "code",
   "execution_count": null,
   "metadata": {},
   "outputs": [],
   "source": [
    "%load_ext rpy2.ipython"
   ]
  },
  {
   "cell_type": "markdown",
   "metadata": {},
   "source": [
    "## RNA-seq analysis"
   ]
  },
  {
   "cell_type": "code",
   "execution_count": null,
   "metadata": {},
   "outputs": [],
   "source": [
    "expr_df = pd.read_csv(\"expressionFile_counts_MM.csv\")"
   ]
  },
  {
   "cell_type": "code",
   "execution_count": null,
   "metadata": {
    "scrolled": true
   },
   "outputs": [],
   "source": [
    "expr_df = expr_df.set_index(expr_df.columns[0])\n",
    "expr_df.head()"
   ]
  },
  {
   "cell_type": "markdown",
   "metadata": {},
   "source": [
    "### Quality Control\n",
    "Filter out none or low expressed genes."
   ]
  },
  {
   "cell_type": "code",
   "execution_count": null,
   "metadata": {},
   "outputs": [],
   "source": [
    "print(expr_df.shape)"
   ]
  },
  {
   "cell_type": "markdown",
   "metadata": {},
   "source": [
    "Here we only keep genes which counts are larger than 1 in each samples."
   ]
  },
  {
   "cell_type": "code",
   "execution_count": null,
   "metadata": {},
   "outputs": [],
   "source": [
    "mask_low_vals = (expr_df > 0).sum(axis=1) == 6\n",
    "expr_df = expr_df.loc[mask_low_vals, :]\n",
    "print(expr_df.shape)"
   ]
  },
  {
   "cell_type": "markdown",
   "metadata": {},
   "source": [
    "Save the result in working directory."
   ]
  },
  {
   "cell_type": "code",
   "execution_count": null,
   "metadata": {},
   "outputs": [],
   "source": [
    "expr_df.to_csv('filtered.tsv',sep='\\t')"
   ]
  },
  {
   "cell_type": "markdown",
   "metadata": {},
   "source": [
    "### Normalization and Differential Expression Analysis"
   ]
  },
  {
   "cell_type": "code",
   "execution_count": 5,
   "metadata": {
    "scrolled": false
   },
   "outputs": [
    {
     "name": "stderr",
     "output_type": "stream",
     "text": [
      "载入需要的程辑包：limma\n",
      "错误: package or namespace load failed for 'gplots' in loadNamespace(j <- i[[1L]], c(lib.loc, .libPaths()), versionCheck = vI[[j]]):\n",
      " 不存在叫'KernSmooth'这个名字的程辑包\n",
      "此外: Warning message:\n",
      "程辑包'gplots'是用R版本3.4.4 来建造的 \n",
      "停止执行\n"
     ]
    }
   ],
   "source": [
    "!Rscript RNA_seq.R $WORKDIR"
   ]
  },
  {
   "cell_type": "markdown",
   "metadata": {},
   "source": [
    "## Mint-ChIP analysis"
   ]
  },
  {
   "cell_type": "markdown",
   "metadata": {},
   "source": [
    "### Quality Control"
   ]
  },
  {
   "cell_type": "markdown",
   "metadata": {},
   "source": []
  },
  {
   "cell_type": "code",
   "execution_count": 6,
   "metadata": {},
   "outputs": [
    {
     "name": "stderr",
     "output_type": "stream",
     "text": [
      "-bash: line 13: cd: /n/home08/songdongyuan/BST281/: No such file or directory\n",
      "-bash: line 15: new-modules.sh: No such file or directory\n",
      "-bash: line 16: module: command not found\n",
      "-bash: line 18: fastqc: command not found\n",
      "-bash: line 19: /home/songdongyuan/BST281/chip/Alignment_Post_Processing_15005.bam: No such file or directory\n",
      "-bash: line 20: /home/songdongyuan/BST281/chip/Alignment_Post_Processing_15009.bam: No such file or directory\n",
      "-bash: line 21: /home/songdongyuan/BST281/chip/Alignment_Post_Processing_15022.bam: No such file or directory\n",
      "-bash: line 22: /home/songdongyuan/BST281/chip/Alignment_Post_Processing_15175.bam: No such file or directory\n",
      "-bash: line 23: /home/songdongyuan/BST281/chip/Alignment_Post_Processing_15180.bam: No such file or directory\n",
      "-bash: line 24: /home/songdongyuan/BST281/chip/Alignment_Post_Processing_15193.bam: No such file or directory\n",
      "-bash: line 25: /home/songdongyuan/BST281/chip/Alignment_Post_Processing_15223.bam: No such file or directory\n",
      "-bash: line 26: /home/songdongyuan/BST281/chip/Alignment_Post_Processing_15280.bam: No such file or directory\n"
     ]
    }
   ],
   "source": [
    "%%bash\n",
    "#!/bin/bash\n",
    "#SBATCH -p general\n",
    "#SBATCH -J fastqc\n",
    "#SBATCH -n 4\n",
    "#SBATCH -N 1\n",
    "#SBATCH -t 0-10:00\n",
    "#SBATCH --mem 8000\n",
    "#SBATCH -o fastqc.out\n",
    "#SBATCH -e fastqc.err\n",
    "#SBATCH --mail-type=ALL\n",
    "#SBATCH --mail-user=dsong@hsph.harvard.edu\n",
    "\n",
    "cd /n/home08/songdongyuan/BST281/\n",
    "\n",
    "source new-modules.sh\n",
    "module load fastqc/0.11.5-fasrc01\n",
    "\n",
    "fastqc -o ~/BST281/fastqc_output -t 16 \n",
    "~/BST281/chip/Alignment_Post_Processing_15005.bam \n",
    "~/BST281/chip/Alignment_Post_Processing_15009.bam \n",
    "~/BST281/chip/Alignment_Post_Processing_15022.bam \n",
    "~/BST281/chip/Alignment_Post_Processing_15175.bam \n",
    "~/BST281/chip/Alignment_Post_Processing_15180.bam \n",
    "~/BST281/chip/Alignment_Post_Processing_15193.bam \n",
    "~/BST281/chip/Alignment_Post_Processing_15223.bam \n",
    "~/BST281/chip/Alignment_Post_Processing_15280.bam"
   ]
  },
  {
   "cell_type": "code",
   "execution_count": null,
   "metadata": {},
   "outputs": [],
   "source": []
  }
 ],
 "metadata": {
  "kernelspec": {
   "display_name": "Python 3",
   "language": "python",
   "name": "python3"
  },
  "language_info": {
   "codemirror_mode": {
    "name": "ipython",
    "version": 3
   },
   "file_extension": ".py",
   "mimetype": "text/x-python",
   "name": "python",
   "nbconvert_exporter": "python",
   "pygments_lexer": "ipython3",
   "version": "3.6.4"
  }
 },
 "nbformat": 4,
 "nbformat_minor": 2
}
