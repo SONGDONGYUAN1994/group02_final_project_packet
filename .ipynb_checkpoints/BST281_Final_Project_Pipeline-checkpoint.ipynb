{
 "cells": [
  {
   "cell_type": "markdown",
   "metadata": {},
   "source": [
    "# BST281 Final Project Pipeline"
   ]
  },
  {
   "cell_type": "markdown",
   "metadata": {},
   "source": [
    "Group 2  \n",
    "Dongyuan Song, Siquan Wang, Xutao Wang, Linying Zhang"
   ]
  },
  {
   "cell_type": "markdown",
   "metadata": {},
   "source": [
    "## Set Up\n",
    "Import packages; set working direcotries."
   ]
  },
  {
   "cell_type": "code",
   "execution_count": 9,
   "metadata": {},
   "outputs": [],
   "source": [
    "import os\n",
    "import numpy as np\n",
    "import pandas as pd\n",
    "import matplotlib.pyplot as plt\n",
    "from matplotlib import rcParams\n",
    "rcParams['pdf.fonttype'] = 42\n",
    "rcParams['font.sans-serif'] = 'Arial'\n",
    "import warnings\n",
    "warnings.filterwarnings(\"ignore\")\n",
    "import urllib3\n",
    "urllib3.disable_warnings()\n",
    "import rpy2\n",
    "import rpy2.robjects as robjects\n",
    "from rpy2.robjects.packages import importr\n",
    "from IPython.display import FileLinks"
   ]
  },
  {
   "cell_type": "code",
   "execution_count": null,
   "metadata": {},
   "outputs": [],
   "source": [
    "current_path = os.getcwd()\n",
    "print(current_path)"
   ]
  },
  {
   "cell_type": "markdown",
   "metadata": {},
   "source": [
    "Set working directory. Default is this package folder."
   ]
  },
  {
   "cell_type": "code",
   "execution_count": null,
   "metadata": {},
   "outputs": [],
   "source": [
    "os.chdir(current_path)"
   ]
  },
  {
   "cell_type": "markdown",
   "metadata": {},
   "source": [
    "Enable using R in Jupyter notebook."
   ]
  },
  {
   "cell_type": "code",
   "execution_count": 24,
   "metadata": {
    "scrolled": true
   },
   "outputs": [
    {
     "name": "stdout",
     "output_type": "stream",
     "text": [
      "The rpy2.ipython extension is already loaded. To reload it, use:\n",
      "  %reload_ext rpy2.ipython\n"
     ]
    }
   ],
   "source": [
    "%load_ext rpy2.ipython"
   ]
  },
  {
   "cell_type": "markdown",
   "metadata": {},
   "source": [
    "## RNA-seq analysis"
   ]
  },
  {
   "cell_type": "code",
   "execution_count": null,
   "metadata": {},
   "outputs": [],
   "source": [
    "expr_df = pd.read_csv(\"expressionFile_counts_MM.csv\")"
   ]
  },
  {
   "cell_type": "code",
   "execution_count": null,
   "metadata": {
    "scrolled": true
   },
   "outputs": [],
   "source": [
    "expr_df = expr_df.set_index(expr_df.columns[0])\n",
    "expr_df.head()"
   ]
  },
  {
   "cell_type": "markdown",
   "metadata": {},
   "source": [
    "### Quality Control\n",
    "Filter out none or low expressed genes."
   ]
  },
  {
   "cell_type": "code",
   "execution_count": null,
   "metadata": {},
   "outputs": [],
   "source": [
    "print(expr_df.shape)"
   ]
  },
  {
   "cell_type": "markdown",
   "metadata": {},
   "source": [
    "Here we only keep genes which counts are larger than 1 in each samples."
   ]
  },
  {
   "cell_type": "code",
   "execution_count": null,
   "metadata": {},
   "outputs": [],
   "source": [
    "mask_low_vals = (expr_df > 0).sum(axis=1) == 6\n",
    "expr_df = expr_df.loc[mask_low_vals, :]\n",
    "print(expr_df.shape)"
   ]
  },
  {
   "cell_type": "markdown",
   "metadata": {},
   "source": [
    "Save the result in working directory."
   ]
  },
  {
   "cell_type": "code",
   "execution_count": null,
   "metadata": {},
   "outputs": [],
   "source": [
    "expr_df.to_csv('filtered.tsv',sep='\\t')"
   ]
  },
  {
   "cell_type": "markdown",
   "metadata": {},
   "source": [
    "### Normalization and Differential Expression Analysis"
   ]
  },
  {
   "cell_type": "markdown",
   "metadata": {},
   "source": [
    "This step was finished in R. Use Bioconductor Package *edgeR*, *limma* and *DEseq2*."
   ]
  },
  {
   "cell_type": "code",
   "execution_count": 25,
   "metadata": {},
   "outputs": [
    {
     "name": "stdout",
     "output_type": "stream",
     "text": [
      "\n"
     ]
    },
    {
     "ename": "PermissionError",
     "evalue": "[WinError 32] 另一个程序正在使用此文件，进程无法访问。: 'C:\\\\Users\\\\SONGDO~1\\\\AppData\\\\Local\\\\Temp\\\\tmpefxxz94o\\\\Rplots001.png'",
     "output_type": "error",
     "traceback": [
      "\u001b[1;31m---------------------------------------------------------------------------\u001b[0m",
      "\u001b[1;31mRRuntimeError\u001b[0m                             Traceback (most recent call last)",
      "\u001b[1;32m~\\Anaconda3\\lib\\site-packages\\rpy2-2.9.1-py3.6-win-amd64.egg\\rpy2\\ipython\\rmagic.py\u001b[0m in \u001b[0;36meval\u001b[1;34m(self, code)\u001b[0m\n\u001b[0;32m    248\u001b[0m             \u001b[1;31m# Need the newline in case the last line in code is a comment\u001b[0m\u001b[1;33m\u001b[0m\u001b[1;33m\u001b[0m\u001b[0m\n\u001b[1;32m--> 249\u001b[1;33m             \u001b[0mvalue\u001b[0m\u001b[1;33m,\u001b[0m \u001b[0mvisible\u001b[0m \u001b[1;33m=\u001b[0m \u001b[0mro\u001b[0m\u001b[1;33m.\u001b[0m\u001b[0mr\u001b[0m\u001b[1;33m(\u001b[0m\u001b[1;34m\"withVisible({%s\\n})\"\u001b[0m \u001b[1;33m%\u001b[0m \u001b[0mcode\u001b[0m\u001b[1;33m)\u001b[0m\u001b[1;33m\u001b[0m\u001b[0m\n\u001b[0m\u001b[0;32m    250\u001b[0m         \u001b[1;32mexcept\u001b[0m \u001b[1;33m(\u001b[0m\u001b[0mri\u001b[0m\u001b[1;33m.\u001b[0m\u001b[0mRRuntimeError\u001b[0m\u001b[1;33m,\u001b[0m \u001b[0mValueError\u001b[0m\u001b[1;33m)\u001b[0m \u001b[1;32mas\u001b[0m \u001b[0mexception\u001b[0m\u001b[1;33m:\u001b[0m\u001b[1;33m\u001b[0m\u001b[0m\n",
      "\u001b[1;32m~\\Anaconda3\\lib\\site-packages\\rpy2-2.9.1-py3.6-win-amd64.egg\\rpy2\\robjects\\__init__.py\u001b[0m in \u001b[0;36m__call__\u001b[1;34m(self, string)\u001b[0m\n\u001b[0;32m    351\u001b[0m         \u001b[0mp\u001b[0m \u001b[1;33m=\u001b[0m \u001b[0m_rparse\u001b[0m\u001b[1;33m(\u001b[0m\u001b[0mtext\u001b[0m\u001b[1;33m=\u001b[0m\u001b[0mStrSexpVector\u001b[0m\u001b[1;33m(\u001b[0m\u001b[1;33m(\u001b[0m\u001b[0mstring\u001b[0m\u001b[1;33m,\u001b[0m\u001b[1;33m)\u001b[0m\u001b[1;33m)\u001b[0m\u001b[1;33m)\u001b[0m\u001b[1;33m\u001b[0m\u001b[0m\n\u001b[1;32m--> 352\u001b[1;33m         \u001b[0mres\u001b[0m \u001b[1;33m=\u001b[0m \u001b[0mself\u001b[0m\u001b[1;33m.\u001b[0m\u001b[0meval\u001b[0m\u001b[1;33m(\u001b[0m\u001b[0mp\u001b[0m\u001b[1;33m)\u001b[0m\u001b[1;33m\u001b[0m\u001b[0m\n\u001b[0m\u001b[0;32m    353\u001b[0m         \u001b[1;32mreturn\u001b[0m \u001b[0mconversion\u001b[0m\u001b[1;33m.\u001b[0m\u001b[0mri2py\u001b[0m\u001b[1;33m(\u001b[0m\u001b[0mres\u001b[0m\u001b[1;33m)\u001b[0m\u001b[1;33m\u001b[0m\u001b[0m\n",
      "\u001b[1;32m~\\Anaconda3\\lib\\site-packages\\rpy2-2.9.1-py3.6-win-amd64.egg\\rpy2\\robjects\\functions.py\u001b[0m in \u001b[0;36m__call__\u001b[1;34m(self, *args, **kwargs)\u001b[0m\n\u001b[0;32m    177\u001b[0m                 \u001b[0mkwargs\u001b[0m\u001b[1;33m[\u001b[0m\u001b[0mr_k\u001b[0m\u001b[1;33m]\u001b[0m \u001b[1;33m=\u001b[0m \u001b[0mv\u001b[0m\u001b[1;33m\u001b[0m\u001b[0m\n\u001b[1;32m--> 178\u001b[1;33m         \u001b[1;32mreturn\u001b[0m \u001b[0msuper\u001b[0m\u001b[1;33m(\u001b[0m\u001b[0mSignatureTranslatedFunction\u001b[0m\u001b[1;33m,\u001b[0m \u001b[0mself\u001b[0m\u001b[1;33m)\u001b[0m\u001b[1;33m.\u001b[0m\u001b[0m__call__\u001b[0m\u001b[1;33m(\u001b[0m\u001b[1;33m*\u001b[0m\u001b[0margs\u001b[0m\u001b[1;33m,\u001b[0m \u001b[1;33m**\u001b[0m\u001b[0mkwargs\u001b[0m\u001b[1;33m)\u001b[0m\u001b[1;33m\u001b[0m\u001b[0m\n\u001b[0m\u001b[0;32m    179\u001b[0m \u001b[1;33m\u001b[0m\u001b[0m\n",
      "\u001b[1;32m~\\Anaconda3\\lib\\site-packages\\rpy2-2.9.1-py3.6-win-amd64.egg\\rpy2\\robjects\\functions.py\u001b[0m in \u001b[0;36m__call__\u001b[1;34m(self, *args, **kwargs)\u001b[0m\n\u001b[0;32m    105\u001b[0m             \u001b[0mnew_kwargs\u001b[0m\u001b[1;33m[\u001b[0m\u001b[0mk\u001b[0m\u001b[1;33m]\u001b[0m \u001b[1;33m=\u001b[0m \u001b[0mconversion\u001b[0m\u001b[1;33m.\u001b[0m\u001b[0mpy2ri\u001b[0m\u001b[1;33m(\u001b[0m\u001b[0mv\u001b[0m\u001b[1;33m)\u001b[0m\u001b[1;33m\u001b[0m\u001b[0m\n\u001b[1;32m--> 106\u001b[1;33m         \u001b[0mres\u001b[0m \u001b[1;33m=\u001b[0m \u001b[0msuper\u001b[0m\u001b[1;33m(\u001b[0m\u001b[0mFunction\u001b[0m\u001b[1;33m,\u001b[0m \u001b[0mself\u001b[0m\u001b[1;33m)\u001b[0m\u001b[1;33m.\u001b[0m\u001b[0m__call__\u001b[0m\u001b[1;33m(\u001b[0m\u001b[1;33m*\u001b[0m\u001b[0mnew_args\u001b[0m\u001b[1;33m,\u001b[0m \u001b[1;33m**\u001b[0m\u001b[0mnew_kwargs\u001b[0m\u001b[1;33m)\u001b[0m\u001b[1;33m\u001b[0m\u001b[0m\n\u001b[0m\u001b[0;32m    107\u001b[0m         \u001b[0mres\u001b[0m \u001b[1;33m=\u001b[0m \u001b[0mconversion\u001b[0m\u001b[1;33m.\u001b[0m\u001b[0mri2ro\u001b[0m\u001b[1;33m(\u001b[0m\u001b[0mres\u001b[0m\u001b[1;33m)\u001b[0m\u001b[1;33m\u001b[0m\u001b[0m\n",
      "\u001b[1;31mRRuntimeError\u001b[0m: ",
      "\nDuring handling of the above exception, another exception occurred:\n",
      "\u001b[1;31mRInterpreterError\u001b[0m                         Traceback (most recent call last)",
      "\u001b[1;32m~\\Anaconda3\\lib\\site-packages\\rpy2-2.9.1-py3.6-win-amd64.egg\\rpy2\\ipython\\rmagic.py\u001b[0m in \u001b[0;36mR\u001b[1;34m(self, line, cell, local_ns)\u001b[0m\n\u001b[0;32m    698\u001b[0m             \u001b[1;32melse\u001b[0m\u001b[1;33m:\u001b[0m\u001b[1;33m\u001b[0m\u001b[0m\n\u001b[1;32m--> 699\u001b[1;33m                 \u001b[0mtext_result\u001b[0m\u001b[1;33m,\u001b[0m \u001b[0mresult\u001b[0m\u001b[1;33m,\u001b[0m \u001b[0mvisible\u001b[0m \u001b[1;33m=\u001b[0m \u001b[0mself\u001b[0m\u001b[1;33m.\u001b[0m\u001b[0meval\u001b[0m\u001b[1;33m(\u001b[0m\u001b[0mcode\u001b[0m\u001b[1;33m)\u001b[0m\u001b[1;33m\u001b[0m\u001b[0m\n\u001b[0m\u001b[0;32m    700\u001b[0m                 \u001b[0mtext_output\u001b[0m \u001b[1;33m+=\u001b[0m \u001b[0mtext_result\u001b[0m\u001b[1;33m\u001b[0m\u001b[0m\n",
      "\u001b[1;32m~\\Anaconda3\\lib\\site-packages\\rpy2-2.9.1-py3.6-win-amd64.egg\\rpy2\\ipython\\rmagic.py\u001b[0m in \u001b[0;36meval\u001b[1;34m(self, code)\u001b[0m\n\u001b[0;32m    251\u001b[0m             \u001b[0mwarning_or_other_msg\u001b[0m \u001b[1;33m=\u001b[0m \u001b[0mself\u001b[0m\u001b[1;33m.\u001b[0m\u001b[0mflush\u001b[0m\u001b[1;33m(\u001b[0m\u001b[1;33m)\u001b[0m \u001b[1;31m# otherwise next return seems to have copy of error\u001b[0m\u001b[1;33m\u001b[0m\u001b[0m\n\u001b[1;32m--> 252\u001b[1;33m             \u001b[1;32mraise\u001b[0m \u001b[0mRInterpreterError\u001b[0m\u001b[1;33m(\u001b[0m\u001b[0mcode\u001b[0m\u001b[1;33m,\u001b[0m \u001b[0mstr\u001b[0m\u001b[1;33m(\u001b[0m\u001b[0mexception\u001b[0m\u001b[1;33m)\u001b[0m\u001b[1;33m,\u001b[0m \u001b[0mwarning_or_other_msg\u001b[0m\u001b[1;33m)\u001b[0m\u001b[1;33m\u001b[0m\u001b[0m\n\u001b[0m\u001b[0;32m    253\u001b[0m         \u001b[0mtext_output\u001b[0m \u001b[1;33m=\u001b[0m \u001b[0mself\u001b[0m\u001b[1;33m.\u001b[0m\u001b[0mflush\u001b[0m\u001b[1;33m(\u001b[0m\u001b[1;33m)\u001b[0m\u001b[1;33m\u001b[0m\u001b[0m\n",
      "\u001b[1;31mRInterpreterError\u001b[0m: Failed to parse and evaluate line '\\nsetwd(\"C:/Users/songdongyuan/group02_final_project_packet\")\\n\\n#source(\"https://bioconductor.org/biocLite.R\")\\n\\n#R3.3.5 has issues when installing data.table\\n#install.packages(\"https://socialsciences.mcmaster.ca/jfox/.Pickup/data.table_1.10.4-3.zip\",\\n                 #repos=NULL, type=\"win.binary\")\\n\\n#biocLite(\"edgeR\")\\n#biocLite(\"limma\")\\n#biocLite(\"Glimma\")\\n#biocLite(\"org.Mm.eg.db\")\\n#biocLite(\"RColorBrewer\")\\n#biocLite(\"DESeq2\")\\n#biocLite(\"DEFormats\")\\n\\n\\n\\nlibrary(edgeR)\\nlibrary(limma)\\nlibrary(Glimma)\\nlibrary(gplots)\\nlibrary(org.Mm.eg.db)\\nlibrary(RColorBrewer)\\nlibrary(DESeq2)\\nlibrary(DEFormats)\\n\\nfiltered <- read.csv(\"filtered.tsv\", sep = \"\\\\t\", row.names = 1, header= TRUE, stringsAsFactors = F)\\nfiltered <- filtered[, c(4,2,6, 3,1,5)]\\n\\ngroup <- c(\"Co\", \"Co\", \"Co\", \"Mono\", \"Mono\", \"Mono\")\\nnames(filtered) <- c(\"MM_HS5\", \"RPMI_HS5\", \"KMS11_HS5\", \"MM\", \"RPMI\", \"KMS11\")\\n\\nfiltered_counts <- DGEList(filtered, group = group)\\nfiltered_counts$samples$lib.size\\nbarplot(filtered_counts$samples$lib.size,names=colnames(filtered_counts),las=2)\\n# Add a title to the plot\\ntitle(\"Barplot of library sizes\")\\n\\n# Get log2 counts per million\\nlogcounts <- cpm(filtered_counts,log=TRUE)\\n# Check distributions of samples using boxplots\\nboxplot(logcounts, xlab=\"\", ylab=\"Log2 counts per million\",las=2)\\n# Let\\'s add a blue horizontal line that corresponds to the median logCPM\\nabline(h=median(logcounts),col=\"blue\")\\ntitle(\"Boxplots of logCPMs (unnormalised)\")\\n# MA plot\\npar(mfrow = c(2,3))\\nmaPlot(filtered_counts$counts[,1], filtered_counts$counts[,2], lowess = T)\\ntitle(\"MA plot (unnormalised) of #1 & #2\")\\nmaPlot(filtered_counts$counts[,1], filtered_counts$counts[,3], lowess = T)\\ntitle(\"MA plot (unnormalised) of #1 & #3\")\\nmaPlot(filtered_counts$counts[,2], filtered_counts$counts[,3], lowess = T)\\ntitle(\"MA plot (unnormalised) of #2 & #3\")\\nmaPlot(filtered_counts$counts[,4], filtered_counts$counts[,5], lowess = T)\\ntitle(\"MA plot (unnormalised) of #4 & #5\")\\nmaPlot(filtered_counts$counts[,4], filtered_counts$counts[,6], lowess = T)\\ntitle(\"MA plot (unnormalised) of #4 & #6\")\\nmaPlot(filtered_counts$counts[,5], filtered_counts$counts[,6], lowess = T)\\ntitle(\"MA plot (unnormalised) of #5 & #6\")\\n\\n# Apply normalisation to DGEList object\\nfiltered_counts_n <- calcNormFactors(filtered_counts, method = \"TMM\")\\n\\npar(mfrow = c(2,3))\\nmaPlot(filtered_counts_n$counts[,1], filtered_counts_n$counts[,2], lowess = T)\\ntitle(\"MA plot (normalised with TMM) of #1 & #2\")\\nmaPlot(filtered_counts_n$counts[,1], filtered_counts_n$counts[,3], lowess = T)\\ntitle(\"MA plot (normalised with TMM) of #1 & #3\")\\nmaPlot(filtered_counts_n$counts[,2], filtered_counts_n$counts[,3], lowess = T)\\ntitle(\"MA plot (normalised with TMM) of #2 & #3\")\\nmaPlot(filtered_counts_n$counts[,4], filtered_counts_n$counts[,5], lowess = T)\\ntitle(\"MA plot (normalised with TMM) of #4 & #5\")\\nmaPlot(filtered_counts_n$counts[,4], filtered_counts_n$counts[,6], lowess = T)\\ntitle(\"MA plot (normalised with TMM) of #4 & #6\")\\nmaPlot(filtered_counts_n$counts[,5], filtered_counts_n$counts[,6], lowess = T)\\ntitle(\"MA plot (normalised with TMM) of #5 & #6\")\\n\\n\\npar(mfrow = c(1, 2))\\n# Get log2 counts per million\\nlogcounts <- cpm(filtered_counts,log=TRUE)\\n# Check distributions of samples using boxplots\\nboxplot(logcounts, xlab=\"\", ylab=\"Log2 counts per million\",las=2)\\n# Let\\'s add a blue horizontal line that corresponds to the median logCPM\\nabline(h=median(logcounts),col=\"blue\")\\ntitle(\"Boxplots of logCPMs (unnormalised)\")\\n# Get log2 counts per million\\nlogcounts <- cpm(filtered_counts_n,log=TRUE)\\n# Check distributions of samples using boxplots\\nboxplot(logcounts, xlab=\"\", ylab=\"Log2 counts per million\",las=2)\\n# Let\\'s add a blue horizontal line that corresponds to the median logCPM\\nabline(h=median(logcounts),col=\"blue\")\\ntitle(\"Boxplots of logCPMs (TMM normalised)\")\\n\\n\\n\\n# Using limma\\n\\n# Create design matrix\\ndesign <- model.matrix(~ 0 + group)\\n\\n# Fit limma\\nlogCPM <- cpm(filtered_counts_n, log=TRUE, prior.count=1)\\nfit <- lmFit(logCPM, design)\\nfit <- eBayes(fit, trend=TRUE)\\n\\n# Using DESeq2\\n\\nfiltered_counts_n$counts <- round(filtered_counts_n$counts)\\n\\n# You can easily convert data format between edgeR and DESeq2\\ndds <- as.DESeqDataSet(filtered_counts_n)\\nres <- DESeq(dds)\\nres <- results(res)\\nsummary(res)\\n\\nresSig <- res[ which(res$padj < 0.1 ), ]\\n\\nDEgene_list <- rownames(resSig)\\nwrite.table(DEgene_list, file = \"DEgene_list.tsv\", row.names = FALSE, sep = \\'\\\\t\\', col.names = F)'.\nR error message: ''",
      "\nDuring handling of the above exception, another exception occurred:\n",
      "\u001b[1;31mPermissionError\u001b[0m                           Traceback (most recent call last)",
      "\u001b[1;32m<ipython-input-25-631da171b4e9>\u001b[0m in \u001b[0;36m<module>\u001b[1;34m()\u001b[0m\n\u001b[1;32m----> 1\u001b[1;33m \u001b[0mget_ipython\u001b[0m\u001b[1;33m(\u001b[0m\u001b[1;33m)\u001b[0m\u001b[1;33m.\u001b[0m\u001b[0mrun_cell_magic\u001b[0m\u001b[1;33m(\u001b[0m\u001b[1;34m'R'\u001b[0m\u001b[1;33m,\u001b[0m \u001b[1;34m''\u001b[0m\u001b[1;33m,\u001b[0m \u001b[1;34m'\\nsetwd(\"C:/Users/songdongyuan/group02_final_project_packet\")\\n\\n#source(\"https://bioconductor.org/biocLite.R\")\\n\\n#R3.3.5 has issues when installing data.table\\n#install.packages(\"https://socialsciences.mcmaster.ca/jfox/.Pickup/data.table_1.10.4-3.zip\",\\n                 #repos=NULL, type=\"win.binary\")\\n\\n#biocLite(\"edgeR\")\\n#biocLite(\"limma\")\\n#biocLite(\"Glimma\")\\n#biocLite(\"org.Mm.eg.db\")\\n#biocLite(\"RColorBrewer\")\\n#biocLite(\"DESeq2\")\\n#biocLite(\"DEFormats\")\\n\\n\\n\\nlibrary(edgeR)\\nlibrary(limma)\\nlibrary(Glimma)\\nlibrary(gplots)\\nlibrary(org.Mm.eg.db)\\nlibrary(RColorBrewer)\\nlibrary(DESeq2)\\nlibrary(DEFormats)\\n\\nfiltered <- read.csv(\"filtered.tsv\", sep = \"\\\\t\", row.names = 1, header= TRUE, stringsAsFactors = F)\\nfiltered <- filtered[, c(4,2,6, 3,1,5)]\\n\\ngroup <- c(\"Co\", \"Co\", \"Co\", \"Mono\", \"Mono\", \"Mono\")\\nnames(filtered) <- c(\"MM_HS5\", \"RPMI_HS5\", \"KMS11_HS5\", \"MM\", \"RPMI\", \"KMS11\")\\n\\nfiltered_counts <- DGEList(filtered, group = group)\\nfiltered_counts$samples$lib.size\\nbarplot(filtered_counts$samples$lib.size,names=colnames(filtered_counts),las=2)\\n# Add a title to the plot\\ntitle(\"Barplot of library sizes\")\\n\\n# Get log2 counts per million\\nlogcounts <- cpm(filtered_counts,log=TRUE)\\n# Check distributions of samples using boxplots\\nboxplot(logcounts, xlab=\"\", ylab=\"Log2 counts per million\",las=2)\\n# Let\\'s add a blue horizontal line that corresponds to the median logCPM\\nabline(h=median(logcounts),col=\"blue\")\\ntitle(\"Boxplots of logCPMs (unnormalised)\")\\n# MA plot\\npar(mfrow = c(2,3))\\nmaPlot(filtered_counts$counts[,1], filtered_counts$counts[,2], lowess = T)\\ntitle(\"MA plot (unnormalised) of #1 & #2\")\\nmaPlot(filtered_counts$counts[,1], filtered_counts$counts[,3], lowess = T)\\ntitle(\"MA plot (unnormalised) of #1 & #3\")\\nmaPlot(filtered_counts$counts[,2], filtered_counts$counts[,3], lowess = T)\\ntitle(\"MA plot (unnormalised) of #2 & #3\")\\nmaPlot(filtered_counts$counts[,4], filtered_counts$counts[,5], lowess = T)\\ntitle(\"MA plot (unnormalised) of #4 & #5\")\\nmaPlot(filtered_counts$counts[,4], filtered_counts$counts[,6], lowess = T)\\ntitle(\"MA plot (unnormalised) of #4 & #6\")\\nmaPlot(filtered_counts$counts[,5], filtered_counts$counts[,6], lowess = T)\\ntitle(\"MA plot (unnormalised) of #5 & #6\")\\n\\n# Apply normalisation to DGEList object\\nfiltered_counts_n <- calcNormFactors(filtered_counts, method = \"TMM\")\\n\\npar(mfrow = c(2,3))\\nmaPlot(filtered_counts_n$counts[,1], filtered_counts_n$counts[,2], lowess = T)\\ntitle(\"MA plot (normalised with TMM) of #1 & #2\")\\nmaPlot(filtered_counts_n$counts[,1], filtered_counts_n$counts[,3], lowess = T)\\ntitle(\"MA plot (normalised with TMM) of #1 & #3\")\\nmaPlot(filtered_counts_n$counts[,2], filtered_counts_n$counts[,3], lowess = T)\\ntitle(\"MA plot (normalised with TMM) of #2 & #3\")\\nmaPlot(filtered_counts_n$counts[,4], filtered_counts_n$counts[,5], lowess = T)\\ntitle(\"MA plot (normalised with TMM) of #4 & #5\")\\nmaPlot(filtered_counts_n$counts[,4], filtered_counts_n$counts[,6], lowess = T)\\ntitle(\"MA plot (normalised with TMM) of #4 & #6\")\\nmaPlot(filtered_counts_n$counts[,5], filtered_counts_n$counts[,6], lowess = T)\\ntitle(\"MA plot (normalised with TMM) of #5 & #6\")\\n\\n\\npar(mfrow = c(1, 2))\\n# Get log2 counts per million\\nlogcounts <- cpm(filtered_counts,log=TRUE)\\n# Check distributions of samples using boxplots\\nboxplot(logcounts, xlab=\"\", ylab=\"Log2 counts per million\",las=2)\\n# Let\\'s add a blue horizontal line that corresponds to the median logCPM\\nabline(h=median(logcounts),col=\"blue\")\\ntitle(\"Boxplots of logCPMs (unnormalised)\")\\n# Get log2 counts per million\\nlogcounts <- cpm(filtered_counts_n,log=TRUE)\\n# Check distributions of samples using boxplots\\nboxplot(logcounts, xlab=\"\", ylab=\"Log2 counts per million\",las=2)\\n# Let\\'s add a blue horizontal line that corresponds to the median logCPM\\nabline(h=median(logcounts),col=\"blue\")\\ntitle(\"Boxplots of logCPMs (TMM normalised)\")\\n\\n\\n\\n# Using limma\\n\\n# Create design matrix\\ndesign <- model.matrix(~ 0 + group)\\n\\n# Fit limma\\nlogCPM <- cpm(filtered_counts_n, log=TRUE, prior.count=1)\\nfit <- lmFit(logCPM, design)\\nfit <- eBayes(fit, trend=TRUE)\\n\\n# Using DESeq2\\n\\nfiltered_counts_n$counts <- round(filtered_counts_n$counts)\\n\\n# You can easily convert data format between edgeR and DESeq2\\ndds <- as.DESeqDataSet(filtered_counts_n)\\nres <- DESeq(dds)\\nres <- results(res)\\nsummary(res)\\n\\nresSig <- res[ which(res$padj < 0.1 ), ]\\n\\nDEgene_list <- rownames(resSig)\\nwrite.table(DEgene_list, file = \"DEgene_list.tsv\", row.names = FALSE, sep = \\'\\\\t\\', col.names = F)'\u001b[0m\u001b[1;33m)\u001b[0m\u001b[1;33m\u001b[0m\u001b[0m\n\u001b[0m",
      "\u001b[1;32m~\\Anaconda3\\lib\\site-packages\\IPython\\core\\interactiveshell.py\u001b[0m in \u001b[0;36mrun_cell_magic\u001b[1;34m(self, magic_name, line, cell)\u001b[0m\n\u001b[0;32m   2129\u001b[0m             \u001b[0mmagic_arg_s\u001b[0m \u001b[1;33m=\u001b[0m \u001b[0mself\u001b[0m\u001b[1;33m.\u001b[0m\u001b[0mvar_expand\u001b[0m\u001b[1;33m(\u001b[0m\u001b[0mline\u001b[0m\u001b[1;33m,\u001b[0m \u001b[0mstack_depth\u001b[0m\u001b[1;33m)\u001b[0m\u001b[1;33m\u001b[0m\u001b[0m\n\u001b[0;32m   2130\u001b[0m             \u001b[1;32mwith\u001b[0m \u001b[0mself\u001b[0m\u001b[1;33m.\u001b[0m\u001b[0mbuiltin_trap\u001b[0m\u001b[1;33m:\u001b[0m\u001b[1;33m\u001b[0m\u001b[0m\n\u001b[1;32m-> 2131\u001b[1;33m                 \u001b[0mresult\u001b[0m \u001b[1;33m=\u001b[0m \u001b[0mfn\u001b[0m\u001b[1;33m(\u001b[0m\u001b[0mmagic_arg_s\u001b[0m\u001b[1;33m,\u001b[0m \u001b[0mcell\u001b[0m\u001b[1;33m)\u001b[0m\u001b[1;33m\u001b[0m\u001b[0m\n\u001b[0m\u001b[0;32m   2132\u001b[0m             \u001b[1;32mreturn\u001b[0m \u001b[0mresult\u001b[0m\u001b[1;33m\u001b[0m\u001b[0m\n\u001b[0;32m   2133\u001b[0m \u001b[1;33m\u001b[0m\u001b[0m\n",
      "\u001b[1;32m<decorator-gen-130>\u001b[0m in \u001b[0;36mR\u001b[1;34m(self, line, cell, local_ns)\u001b[0m\n",
      "\u001b[1;32m~\\Anaconda3\\lib\\site-packages\\IPython\\core\\magic.py\u001b[0m in \u001b[0;36m<lambda>\u001b[1;34m(f, *a, **k)\u001b[0m\n\u001b[0;32m    185\u001b[0m     \u001b[1;31m# but it's overkill for just that one bit of state.\u001b[0m\u001b[1;33m\u001b[0m\u001b[1;33m\u001b[0m\u001b[0m\n\u001b[0;32m    186\u001b[0m     \u001b[1;32mdef\u001b[0m \u001b[0mmagic_deco\u001b[0m\u001b[1;33m(\u001b[0m\u001b[0marg\u001b[0m\u001b[1;33m)\u001b[0m\u001b[1;33m:\u001b[0m\u001b[1;33m\u001b[0m\u001b[0m\n\u001b[1;32m--> 187\u001b[1;33m         \u001b[0mcall\u001b[0m \u001b[1;33m=\u001b[0m \u001b[1;32mlambda\u001b[0m \u001b[0mf\u001b[0m\u001b[1;33m,\u001b[0m \u001b[1;33m*\u001b[0m\u001b[0ma\u001b[0m\u001b[1;33m,\u001b[0m \u001b[1;33m**\u001b[0m\u001b[0mk\u001b[0m\u001b[1;33m:\u001b[0m \u001b[0mf\u001b[0m\u001b[1;33m(\u001b[0m\u001b[1;33m*\u001b[0m\u001b[0ma\u001b[0m\u001b[1;33m,\u001b[0m \u001b[1;33m**\u001b[0m\u001b[0mk\u001b[0m\u001b[1;33m)\u001b[0m\u001b[1;33m\u001b[0m\u001b[0m\n\u001b[0m\u001b[0;32m    188\u001b[0m \u001b[1;33m\u001b[0m\u001b[0m\n\u001b[0;32m    189\u001b[0m         \u001b[1;32mif\u001b[0m \u001b[0mcallable\u001b[0m\u001b[1;33m(\u001b[0m\u001b[0marg\u001b[0m\u001b[1;33m)\u001b[0m\u001b[1;33m:\u001b[0m\u001b[1;33m\u001b[0m\u001b[0m\n",
      "\u001b[1;32m~\\Anaconda3\\lib\\site-packages\\rpy2-2.9.1-py3.6-win-amd64.egg\\rpy2\\ipython\\rmagic.py\u001b[0m in \u001b[0;36mR\u001b[1;34m(self, line, cell, local_ns)\u001b[0m\n\u001b[0;32m    712\u001b[0m                 \u001b[0mprint\u001b[0m\u001b[1;33m(\u001b[0m\u001b[0me\u001b[0m\u001b[1;33m.\u001b[0m\u001b[0merr\u001b[0m\u001b[1;33m)\u001b[0m\u001b[1;33m\u001b[0m\u001b[0m\n\u001b[0;32m    713\u001b[0m             \u001b[1;32mif\u001b[0m \u001b[0mtmpd\u001b[0m\u001b[1;33m:\u001b[0m\u001b[1;33m\u001b[0m\u001b[0m\n\u001b[1;32m--> 714\u001b[1;33m                 \u001b[0mrmtree\u001b[0m\u001b[1;33m(\u001b[0m\u001b[0mtmpd\u001b[0m\u001b[1;33m)\u001b[0m\u001b[1;33m\u001b[0m\u001b[0m\n\u001b[0m\u001b[0;32m    715\u001b[0m             \u001b[1;32mreturn\u001b[0m\u001b[1;33m\u001b[0m\u001b[0m\n\u001b[0;32m    716\u001b[0m         \u001b[1;32mfinally\u001b[0m\u001b[1;33m:\u001b[0m\u001b[1;33m\u001b[0m\u001b[0m\n",
      "\u001b[1;32m~\\Anaconda3\\lib\\shutil.py\u001b[0m in \u001b[0;36mrmtree\u001b[1;34m(path, ignore_errors, onerror)\u001b[0m\n\u001b[0;32m    492\u001b[0m             \u001b[0mos\u001b[0m\u001b[1;33m.\u001b[0m\u001b[0mclose\u001b[0m\u001b[1;33m(\u001b[0m\u001b[0mfd\u001b[0m\u001b[1;33m)\u001b[0m\u001b[1;33m\u001b[0m\u001b[0m\n\u001b[0;32m    493\u001b[0m     \u001b[1;32melse\u001b[0m\u001b[1;33m:\u001b[0m\u001b[1;33m\u001b[0m\u001b[0m\n\u001b[1;32m--> 494\u001b[1;33m         \u001b[1;32mreturn\u001b[0m \u001b[0m_rmtree_unsafe\u001b[0m\u001b[1;33m(\u001b[0m\u001b[0mpath\u001b[0m\u001b[1;33m,\u001b[0m \u001b[0monerror\u001b[0m\u001b[1;33m)\u001b[0m\u001b[1;33m\u001b[0m\u001b[0m\n\u001b[0m\u001b[0;32m    495\u001b[0m \u001b[1;33m\u001b[0m\u001b[0m\n\u001b[0;32m    496\u001b[0m \u001b[1;31m# Allow introspection of whether or not the hardening against symlink\u001b[0m\u001b[1;33m\u001b[0m\u001b[1;33m\u001b[0m\u001b[0m\n",
      "\u001b[1;32m~\\Anaconda3\\lib\\shutil.py\u001b[0m in \u001b[0;36m_rmtree_unsafe\u001b[1;34m(path, onerror)\u001b[0m\n\u001b[0;32m    387\u001b[0m                 \u001b[0mos\u001b[0m\u001b[1;33m.\u001b[0m\u001b[0munlink\u001b[0m\u001b[1;33m(\u001b[0m\u001b[0mfullname\u001b[0m\u001b[1;33m)\u001b[0m\u001b[1;33m\u001b[0m\u001b[0m\n\u001b[0;32m    388\u001b[0m             \u001b[1;32mexcept\u001b[0m \u001b[0mOSError\u001b[0m\u001b[1;33m:\u001b[0m\u001b[1;33m\u001b[0m\u001b[0m\n\u001b[1;32m--> 389\u001b[1;33m                 \u001b[0monerror\u001b[0m\u001b[1;33m(\u001b[0m\u001b[0mos\u001b[0m\u001b[1;33m.\u001b[0m\u001b[0munlink\u001b[0m\u001b[1;33m,\u001b[0m \u001b[0mfullname\u001b[0m\u001b[1;33m,\u001b[0m \u001b[0msys\u001b[0m\u001b[1;33m.\u001b[0m\u001b[0mexc_info\u001b[0m\u001b[1;33m(\u001b[0m\u001b[1;33m)\u001b[0m\u001b[1;33m)\u001b[0m\u001b[1;33m\u001b[0m\u001b[0m\n\u001b[0m\u001b[0;32m    390\u001b[0m     \u001b[1;32mtry\u001b[0m\u001b[1;33m:\u001b[0m\u001b[1;33m\u001b[0m\u001b[0m\n\u001b[0;32m    391\u001b[0m         \u001b[0mos\u001b[0m\u001b[1;33m.\u001b[0m\u001b[0mrmdir\u001b[0m\u001b[1;33m(\u001b[0m\u001b[0mpath\u001b[0m\u001b[1;33m)\u001b[0m\u001b[1;33m\u001b[0m\u001b[0m\n",
      "\u001b[1;32m~\\Anaconda3\\lib\\shutil.py\u001b[0m in \u001b[0;36m_rmtree_unsafe\u001b[1;34m(path, onerror)\u001b[0m\n\u001b[0;32m    385\u001b[0m         \u001b[1;32melse\u001b[0m\u001b[1;33m:\u001b[0m\u001b[1;33m\u001b[0m\u001b[0m\n\u001b[0;32m    386\u001b[0m             \u001b[1;32mtry\u001b[0m\u001b[1;33m:\u001b[0m\u001b[1;33m\u001b[0m\u001b[0m\n\u001b[1;32m--> 387\u001b[1;33m                 \u001b[0mos\u001b[0m\u001b[1;33m.\u001b[0m\u001b[0munlink\u001b[0m\u001b[1;33m(\u001b[0m\u001b[0mfullname\u001b[0m\u001b[1;33m)\u001b[0m\u001b[1;33m\u001b[0m\u001b[0m\n\u001b[0m\u001b[0;32m    388\u001b[0m             \u001b[1;32mexcept\u001b[0m \u001b[0mOSError\u001b[0m\u001b[1;33m:\u001b[0m\u001b[1;33m\u001b[0m\u001b[0m\n\u001b[0;32m    389\u001b[0m                 \u001b[0monerror\u001b[0m\u001b[1;33m(\u001b[0m\u001b[0mos\u001b[0m\u001b[1;33m.\u001b[0m\u001b[0munlink\u001b[0m\u001b[1;33m,\u001b[0m \u001b[0mfullname\u001b[0m\u001b[1;33m,\u001b[0m \u001b[0msys\u001b[0m\u001b[1;33m.\u001b[0m\u001b[0mexc_info\u001b[0m\u001b[1;33m(\u001b[0m\u001b[1;33m)\u001b[0m\u001b[1;33m)\u001b[0m\u001b[1;33m\u001b[0m\u001b[0m\n",
      "\u001b[1;31mPermissionError\u001b[0m: [WinError 32] 另一个程序正在使用此文件，进程无法访问。: 'C:\\\\Users\\\\SONGDO~1\\\\AppData\\\\Local\\\\Temp\\\\tmpefxxz94o\\\\Rplots001.png'"
     ]
    }
   ],
   "source": [
    "%%R\n",
    "\n",
    "setwd(\"C:/Users/songdongyuan/group02_final_project_packet\")\n",
    "\n",
    "#source(\"https://bioconductor.org/biocLite.R\")\n",
    "\n",
    "#R3.3.5 has issues when installing data.table\n",
    "#install.packages(\"https://socialsciences.mcmaster.ca/jfox/.Pickup/data.table_1.10.4-3.zip\",\n",
    "                 #repos=NULL, type=\"win.binary\")\n",
    "\n",
    "#biocLite(\"edgeR\")\n",
    "#biocLite(\"limma\")\n",
    "#biocLite(\"Glimma\")\n",
    "#biocLite(\"org.Mm.eg.db\")\n",
    "#biocLite(\"RColorBrewer\")\n",
    "#biocLite(\"DESeq2\")\n",
    "#biocLite(\"DEFormats\")\n",
    "\n",
    "\n",
    "\n",
    "library(edgeR)\n",
    "library(limma)\n",
    "library(Glimma)\n",
    "library(gplots)\n",
    "library(org.Mm.eg.db)\n",
    "library(RColorBrewer)\n",
    "library(DESeq2)\n",
    "library(DEFormats)\n",
    "\n",
    "filtered <- read.csv(\"filtered.tsv\", sep = \"\\t\", row.names = 1, header= TRUE, stringsAsFactors = F)\n",
    "filtered <- filtered[, c(4,2,6, 3,1,5)]\n",
    "\n",
    "group <- c(\"Co\", \"Co\", \"Co\", \"Mono\", \"Mono\", \"Mono\")\n",
    "names(filtered) <- c(\"MM_HS5\", \"RPMI_HS5\", \"KMS11_HS5\", \"MM\", \"RPMI\", \"KMS11\")\n",
    "\n",
    "filtered_counts <- DGEList(filtered, group = group)\n",
    "filtered_counts$samples$lib.size\n",
    "barplot(filtered_counts$samples$lib.size,names=colnames(filtered_counts),las=2)\n",
    "# Add a title to the plot\n",
    "title(\"Barplot of library sizes\")\n",
    "\n",
    "# Get log2 counts per million\n",
    "logcounts <- cpm(filtered_counts,log=TRUE)\n",
    "# Check distributions of samples using boxplots\n",
    "boxplot(logcounts, xlab=\"\", ylab=\"Log2 counts per million\",las=2)\n",
    "# Let's add a blue horizontal line that corresponds to the median logCPM\n",
    "abline(h=median(logcounts),col=\"blue\")\n",
    "title(\"Boxplots of logCPMs (unnormalised)\")\n",
    "# MA plot\n",
    "par(mfrow = c(2,3))\n",
    "maPlot(filtered_counts$counts[,1], filtered_counts$counts[,2], lowess = T)\n",
    "title(\"MA plot (unnormalised) of #1 & #2\")\n",
    "maPlot(filtered_counts$counts[,1], filtered_counts$counts[,3], lowess = T)\n",
    "title(\"MA plot (unnormalised) of #1 & #3\")\n",
    "maPlot(filtered_counts$counts[,2], filtered_counts$counts[,3], lowess = T)\n",
    "title(\"MA plot (unnormalised) of #2 & #3\")\n",
    "maPlot(filtered_counts$counts[,4], filtered_counts$counts[,5], lowess = T)\n",
    "title(\"MA plot (unnormalised) of #4 & #5\")\n",
    "maPlot(filtered_counts$counts[,4], filtered_counts$counts[,6], lowess = T)\n",
    "title(\"MA plot (unnormalised) of #4 & #6\")\n",
    "maPlot(filtered_counts$counts[,5], filtered_counts$counts[,6], lowess = T)\n",
    "title(\"MA plot (unnormalised) of #5 & #6\")\n",
    "\n",
    "# Apply normalisation to DGEList object\n",
    "filtered_counts_n <- calcNormFactors(filtered_counts, method = \"TMM\")\n",
    "\n",
    "par(mfrow = c(2,3))\n",
    "maPlot(filtered_counts_n$counts[,1], filtered_counts_n$counts[,2], lowess = T)\n",
    "title(\"MA plot (normalised with TMM) of #1 & #2\")\n",
    "maPlot(filtered_counts_n$counts[,1], filtered_counts_n$counts[,3], lowess = T)\n",
    "title(\"MA plot (normalised with TMM) of #1 & #3\")\n",
    "maPlot(filtered_counts_n$counts[,2], filtered_counts_n$counts[,3], lowess = T)\n",
    "title(\"MA plot (normalised with TMM) of #2 & #3\")\n",
    "maPlot(filtered_counts_n$counts[,4], filtered_counts_n$counts[,5], lowess = T)\n",
    "title(\"MA plot (normalised with TMM) of #4 & #5\")\n",
    "maPlot(filtered_counts_n$counts[,4], filtered_counts_n$counts[,6], lowess = T)\n",
    "title(\"MA plot (normalised with TMM) of #4 & #6\")\n",
    "maPlot(filtered_counts_n$counts[,5], filtered_counts_n$counts[,6], lowess = T)\n",
    "title(\"MA plot (normalised with TMM) of #5 & #6\")\n",
    "\n",
    "\n",
    "par(mfrow = c(1, 2))\n",
    "# Get log2 counts per million\n",
    "logcounts <- cpm(filtered_counts,log=TRUE)\n",
    "# Check distributions of samples using boxplots\n",
    "boxplot(logcounts, xlab=\"\", ylab=\"Log2 counts per million\",las=2)\n",
    "# Let's add a blue horizontal line that corresponds to the median logCPM\n",
    "abline(h=median(logcounts),col=\"blue\")\n",
    "title(\"Boxplots of logCPMs (unnormalised)\")\n",
    "# Get log2 counts per million\n",
    "logcounts <- cpm(filtered_counts_n,log=TRUE)\n",
    "# Check distributions of samples using boxplots\n",
    "boxplot(logcounts, xlab=\"\", ylab=\"Log2 counts per million\",las=2)\n",
    "# Let's add a blue horizontal line that corresponds to the median logCPM\n",
    "abline(h=median(logcounts),col=\"blue\")\n",
    "title(\"Boxplots of logCPMs (TMM normalised)\")\n",
    "\n",
    "\n",
    "\n",
    "# Using limma\n",
    "\n",
    "# Create design matrix\n",
    "design <- model.matrix(~ 0 + group)\n",
    "\n",
    "# Fit limma\n",
    "logCPM <- cpm(filtered_counts_n, log=TRUE, prior.count=1)\n",
    "fit <- lmFit(logCPM, design)\n",
    "fit <- eBayes(fit, trend=TRUE)\n",
    "\n",
    "# Using DESeq2\n",
    "\n",
    "filtered_counts_n$counts <- round(filtered_counts_n$counts)\n",
    "\n",
    "# You can easily convert data format between edgeR and DESeq2\n",
    "dds <- as.DESeqDataSet(filtered_counts_n)\n",
    "res <- DESeq(dds)\n",
    "res <- results(res)\n",
    "summary(res)\n",
    "\n",
    "resSig <- res[ which(res$padj < 0.1 ), ]\n",
    "\n",
    "DEgene_list <- rownames(resSig)\n",
    "write.table(DEgene_list, file = \"DEgene_list.tsv\", row.names = FALSE, sep = '\\t', col.names = F)"
   ]
  },
  {
   "cell_type": "code",
   "execution_count": 28,
   "metadata": {
    "scrolled": false
   },
   "outputs": [
    {
     "name": "stderr",
     "output_type": "stream",
     "text": [
      "Error in library(gplots) : 不存在叫'gplots'这个名字的程辑包\n",
      "停止执行\n"
     ]
    }
   ],
   "source": [
    "!Rscript RNA_seq.R $WORKDIR"
   ]
  },
  {
   "cell_type": "markdown",
   "metadata": {},
   "source": [
    "## Mint-ChIP analysis"
   ]
  },
  {
   "cell_type": "markdown",
   "metadata": {},
   "source": [
    "### Quality Control"
   ]
  },
  {
   "cell_type": "markdown",
   "metadata": {},
   "source": [
    "The input Mint-ChIP files are BAM file already. Use **fastqc** to do quality control."
   ]
  },
  {
   "cell_type": "code",
   "execution_count": 8,
   "metadata": {
    "scrolled": true
   },
   "outputs": [
    {
     "name": "stderr",
     "output_type": "stream",
     "text": [
      "-bash: line 13: cd: /n/home08/songdongyuan/BST281/: No such file or directory\n",
      "-bash: line 15: new-modules.sh: No such file or directory\n",
      "-bash: line 16: module: command not found\n",
      "-bash: line 18: fastqc: command not found\n",
      "-bash: line 19: /home/songdongyuan/BST281/chip/Alignment_Post_Processing_15005.bam: No such file or directory\n",
      "-bash: line 20: /home/songdongyuan/BST281/chip/Alignment_Post_Processing_15009.bam: No such file or directory\n",
      "-bash: line 21: /home/songdongyuan/BST281/chip/Alignment_Post_Processing_15022.bam: No such file or directory\n",
      "-bash: line 22: /home/songdongyuan/BST281/chip/Alignment_Post_Processing_15175.bam: No such file or directory\n",
      "-bash: line 23: /home/songdongyuan/BST281/chip/Alignment_Post_Processing_15180.bam: No such file or directory\n",
      "-bash: line 24: /home/songdongyuan/BST281/chip/Alignment_Post_Processing_15193.bam: No such file or directory\n",
      "-bash: line 25: /home/songdongyuan/BST281/chip/Alignment_Post_Processing_15223.bam: No such file or directory\n",
      "-bash: line 26: /home/songdongyuan/BST281/chip/Alignment_Post_Processing_15280.bam: No such file or directory\n"
     ]
    }
   ],
   "source": [
    "%%bash\n",
    "sbatch fastqc.sh\n",
    "\n",
    "#!/bin/bash\n",
    "#SBATCH -p general\n",
    "#SBATCH -J fastqc\n",
    "#SBATCH -n 4\n",
    "#SBATCH -N 1\n",
    "#SBATCH -t 0-10:00\n",
    "#SBATCH --mem 8000\n",
    "#SBATCH -o fastqc.out\n",
    "#SBATCH -e fastqc.err\n",
    "#SBATCH --mail-type=ALL\n",
    "#SBATCH --mail-user=dsong@hsph.harvard.edu\n",
    "\n",
    "cd /n/home08/songdongyuan/BST281/\n",
    "\n",
    "source new-modules.sh\n",
    "module load fastqc/0.11.5-fasrc01\n",
    "\n",
    "fastqc -o ~/BST281/fastqc_output -t 16 \n",
    "~/BST281/chip/Alignment_Post_Processing_15005.bam \n",
    "~/BST281/chip/Alignment_Post_Processing_15009.bam \n",
    "~/BST281/chip/Alignment_Post_Processing_15022.bam \n",
    "~/BST281/chip/Alignment_Post_Processing_15175.bam \n",
    "~/BST281/chip/Alignment_Post_Processing_15180.bam \n",
    "~/BST281/chip/Alignment_Post_Processing_15193.bam \n",
    "~/BST281/chip/Alignment_Post_Processing_15223.bam \n",
    "~/BST281/chip/Alignment_Post_Processing_15280.bam"
   ]
  },
  {
   "cell_type": "markdown",
   "metadata": {},
   "source": [
    "Show the fastqc reports."
   ]
  },
  {
   "cell_type": "code",
   "execution_count": 15,
   "metadata": {},
   "outputs": [
    {
     "data": {
      "text/html": [
       "./fastqc_output/<br>\n",
       "&nbsp;&nbsp;<a href='./fastqc_output/Alignment_Post_Processing_15005_fastqc.html' target='_blank'>Alignment_Post_Processing_15005_fastqc.html</a><br>\n",
       "&nbsp;&nbsp;<a href='./fastqc_output/Alignment_Post_Processing_15009_fastqc.html' target='_blank'>Alignment_Post_Processing_15009_fastqc.html</a><br>\n",
       "&nbsp;&nbsp;<a href='./fastqc_output/Alignment_Post_Processing_15022_fastqc.html' target='_blank'>Alignment_Post_Processing_15022_fastqc.html</a><br>\n",
       "&nbsp;&nbsp;<a href='./fastqc_output/Alignment_Post_Processing_15175_fastqc.html' target='_blank'>Alignment_Post_Processing_15175_fastqc.html</a><br>\n",
       "&nbsp;&nbsp;<a href='./fastqc_output/Alignment_Post_Processing_15180_fastqc.html' target='_blank'>Alignment_Post_Processing_15180_fastqc.html</a><br>\n",
       "&nbsp;&nbsp;<a href='./fastqc_output/Alignment_Post_Processing_15193_fastqc.html' target='_blank'>Alignment_Post_Processing_15193_fastqc.html</a><br>\n",
       "&nbsp;&nbsp;<a href='./fastqc_output/Alignment_Post_Processing_15223_fastqc.html' target='_blank'>Alignment_Post_Processing_15223_fastqc.html</a><br>\n",
       "&nbsp;&nbsp;<a href='./fastqc_output/Alignment_Post_Processing_15280_fastqc.html' target='_blank'>Alignment_Post_Processing_15280_fastqc.html</a><br>"
      ],
      "text/plain": [
       "./fastqc_output/\n",
       "  Alignment_Post_Processing_15005_fastqc.html\n",
       "  Alignment_Post_Processing_15009_fastqc.html\n",
       "  Alignment_Post_Processing_15022_fastqc.html\n",
       "  Alignment_Post_Processing_15175_fastqc.html\n",
       "  Alignment_Post_Processing_15180_fastqc.html\n",
       "  Alignment_Post_Processing_15193_fastqc.html\n",
       "  Alignment_Post_Processing_15223_fastqc.html\n",
       "  Alignment_Post_Processing_15280_fastqc.html"
      ]
     },
     "execution_count": 15,
     "metadata": {},
     "output_type": "execute_result"
    }
   ],
   "source": [
    "FileLinks(os.path.join('./fastqc_output'), included_suffixes=['.html'])"
   ]
  },
  {
   "cell_type": "markdown",
   "metadata": {},
   "source": [
    "The reports show that the quality is fine. Use the BAM file for next step."
   ]
  },
  {
   "cell_type": "markdown",
   "metadata": {},
   "source": [
    "### Peak Calling"
   ]
  },
  {
   "cell_type": "markdown",
   "metadata": {},
   "source": [
    "Use MACS2 do peak calling. Notice some parameters: file type is BAMPE, q = 0.01."
   ]
  },
  {
   "cell_type": "code",
   "execution_count": 17,
   "metadata": {},
   "outputs": [
    {
     "name": "stderr",
     "output_type": "stream",
     "text": [
      "-bash: line 1: sbatch: command not found\n",
      "-bash: line 15: cd: /n/home08/songdongyuan/BST281/: No such file or directory\n",
      "-bash: line 17: new-modules.sh: No such file or directory\n",
      "-bash: line 18: module: command not found\n",
      "-bash: line 20: macs2: command not found\n",
      "-bash: line 21: macs2: command not found\n",
      "-bash: line 22: macs2: command not found\n",
      "-bash: line 23: macs2: command not found\n",
      "-bash: line 24: macs2: command not found\n",
      "-bash: line 25: macs2: command not found\n",
      "-bash: line 26: macs2: command not found\n",
      "-bash: line 27: macs2: command not found\n"
     ]
    }
   ],
   "source": [
    "%%bash\n",
    "sbatch MACS2.sh\n",
    "\n",
    "#!/bin/bash\n",
    "#SBATCH -p general\n",
    "#SBATCH -J macs2\n",
    "#SBATCH -n 4\n",
    "#SBATCH -N 1\n",
    "#SBATCH -t 0-10:00\n",
    "#SBATCH --mem 8000\n",
    "#SBATCH -o macs2.out\n",
    "#SBATCH -e macs2.err\n",
    "#SBATCH --mail-type=ALL\n",
    "#SBATCH --mail-user=dsong@hsph.harvard.edu\n",
    "\n",
    "cd /n/home08/songdongyuan/BST281/\n",
    "\n",
    "source new-modules.sh\n",
    "module load macs2/2.1.1.20160309-fasrc01\n",
    "\n",
    "macs2 callpeak -t ~/BST281/chip/Alignment_Post_Processing_15005.bam --outdir ~/BST281/macs2_output -f BAMPE -g hs -n 15005 -q 0.01\n",
    "macs2 callpeak -t ~/BST281/chip/Alignment_Post_Processing_15009.bam --outdir ~/BST281/macs2_output -f BAMPE -g hs -n 15009 -q 0.01\n",
    "macs2 callpeak -t ~/BST281/chip/Alignment_Post_Processing_15022.bam --outdir ~/BST281/macs2_output -f BAMPE -g hs -n 15022 -q 0.01\n",
    "macs2 callpeak -t ~/BST281/chip/Alignment_Post_Processing_15175.bam --outdir ~/BST281/macs2_output -f BAMPE -g hs -n 15175 -q 0.01\n",
    "macs2 callpeak -t ~/BST281/chip/Alignment_Post_Processing_15180.bam --outdir ~/BST281/macs2_output -f BAMPE -g hs -n 15180 -q 0.01\n",
    "macs2 callpeak -t ~/BST281/chip/Alignment_Post_Processing_15193.bam --outdir ~/BST281/macs2_output -f BAMPE -g hs -n 15193 -q 0.01\n",
    "macs2 callpeak -t ~/BST281/chip/Alignment_Post_Processing_15223.bam --outdir ~/BST281/macs2_output -f BAMPE -g hs -n 15223 -q 0.01\n",
    "macs2 callpeak -t ~/BST281/chip/Alignment_Post_Processing_15280.bam --outdir ~/BST281/macs2_output -f BAMPE -g hs -n 15280 -q 0.01"
   ]
  },
  {
   "cell_type": "code",
   "execution_count": 18,
   "metadata": {},
   "outputs": [
    {
     "data": {
      "text/html": [
       "./macs2_output/<br>\n",
       "&nbsp;&nbsp;<a href='./macs2_output/15005_peaks.xls' target='_blank'>15005_peaks.xls</a><br>\n",
       "&nbsp;&nbsp;<a href='./macs2_output/15009_peaks.xls' target='_blank'>15009_peaks.xls</a><br>\n",
       "&nbsp;&nbsp;<a href='./macs2_output/15022_peaks.xls' target='_blank'>15022_peaks.xls</a><br>\n",
       "&nbsp;&nbsp;<a href='./macs2_output/15175_peaks.xls' target='_blank'>15175_peaks.xls</a><br>\n",
       "&nbsp;&nbsp;<a href='./macs2_output/15180_peaks.xls' target='_blank'>15180_peaks.xls</a><br>\n",
       "&nbsp;&nbsp;<a href='./macs2_output/15193_peaks.xls' target='_blank'>15193_peaks.xls</a><br>"
      ],
      "text/plain": [
       "./macs2_output/\n",
       "  15005_peaks.xls\n",
       "  15009_peaks.xls\n",
       "  15022_peaks.xls\n",
       "  15175_peaks.xls\n",
       "  15180_peaks.xls\n",
       "  15193_peaks.xls"
      ]
     },
     "execution_count": 18,
     "metadata": {},
     "output_type": "execute_result"
    }
   ],
   "source": [
    "FileLinks(os.path.join('./macs2_output'), included_suffixes=['.xls'])"
   ]
  },
  {
   "cell_type": "markdown",
   "metadata": {},
   "source": [
    "### Differential Binding Analysis"
   ]
  }
 ],
 "metadata": {
  "kernelspec": {
   "display_name": "Python 3",
   "language": "python",
   "name": "python3"
  },
  "language_info": {
   "codemirror_mode": {
    "name": "ipython",
    "version": 3
   },
   "file_extension": ".py",
   "mimetype": "text/x-python",
   "name": "python",
   "nbconvert_exporter": "python",
   "pygments_lexer": "ipython3",
   "version": "3.6.4"
  }
 },
 "nbformat": 4,
 "nbformat_minor": 2
}
