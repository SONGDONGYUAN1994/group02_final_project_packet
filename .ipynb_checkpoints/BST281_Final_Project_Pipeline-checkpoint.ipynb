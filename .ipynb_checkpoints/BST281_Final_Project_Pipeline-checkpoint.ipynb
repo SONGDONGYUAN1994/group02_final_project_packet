{
 "cells": [
  {
   "cell_type": "markdown",
   "metadata": {},
   "source": [
    "# BST281 Final Project Pipeline"
   ]
  },
  {
   "cell_type": "markdown",
   "metadata": {},
   "source": [
    "Group 2  \n",
    "Dongyuan Song, Siquan Wang, Xutao Wang, Linying Zhang"
   ]
  },
  {
   "cell_type": "markdown",
   "metadata": {},
   "source": [
    "## Set Up\n",
    "Import packages; set working direcotries."
   ]
  },
  {
   "cell_type": "code",
   "execution_count": 1,
   "metadata": {},
   "outputs": [],
   "source": [
    "import os\n",
    "import numpy as np\n",
    "import pandas as pd\n",
    "import matplotlib.pyplot as plt\n",
    "from matplotlib import rcParams\n",
    "rcParams['pdf.fonttype'] = 42\n",
    "rcParams['font.sans-serif'] = 'Arial'\n",
    "import warnings\n",
    "warnings.filterwarnings(\"ignore\")\n",
    "import urllib3\n",
    "urllib3.disable_warnings()\n",
    "import rpy2\n",
    "import rpy2.robjects as robjects\n",
    "from rpy2.robjects.packages import importr"
   ]
  },
  {
   "cell_type": "code",
   "execution_count": 2,
   "metadata": {},
   "outputs": [
    {
     "name": "stdout",
     "output_type": "stream",
     "text": [
      "C:\\Users\\songdongyuan\\group02_final_project_packet\n"
     ]
    }
   ],
   "source": [
    "current_path = os.getcwd()\n",
    "print(current_path)"
   ]
  },
  {
   "cell_type": "markdown",
   "metadata": {},
   "source": [
    "Set working directory. Default is this package folder."
   ]
  },
  {
   "cell_type": "code",
   "execution_count": 3,
   "metadata": {},
   "outputs": [],
   "source": [
    "os.chdir(current_path)"
   ]
  },
  {
   "cell_type": "markdown",
   "metadata": {},
   "source": [
    "Enable using R in Jupyter notebook."
   ]
  },
  {
   "cell_type": "code",
   "execution_count": 4,
   "metadata": {},
   "outputs": [],
   "source": [
    "%load_ext rpy2.ipython"
   ]
  },
  {
   "cell_type": "markdown",
   "metadata": {},
   "source": [
    "## RNA-seq analysis"
   ]
  },
  {
   "cell_type": "code",
   "execution_count": 5,
   "metadata": {},
   "outputs": [],
   "source": [
    "expr_df = pd.read_csv(\"expressionFile_counts_MM.csv\")"
   ]
  },
  {
   "cell_type": "code",
   "execution_count": 6,
   "metadata": {
    "scrolled": true
   },
   "outputs": [
    {
     "data": {
      "text/html": [
       "<div>\n",
       "<style scoped>\n",
       "    .dataframe tbody tr th:only-of-type {\n",
       "        vertical-align: middle;\n",
       "    }\n",
       "\n",
       "    .dataframe tbody tr th {\n",
       "        vertical-align: top;\n",
       "    }\n",
       "\n",
       "    .dataframe thead th {\n",
       "        text-align: right;\n",
       "    }\n",
       "</style>\n",
       "<table border=\"1\" class=\"dataframe\">\n",
       "  <thead>\n",
       "    <tr style=\"text-align: right;\">\n",
       "      <th></th>\n",
       "      <th>..NM89_RPMI_salmon.quant.sf</th>\n",
       "      <th>..NM90_RPMI_HS5_salmon.quant.sf</th>\n",
       "      <th>..NM91_MM1S_salmon.quant.sf</th>\n",
       "      <th>..NM92_MM1S_HS5_salmon.quant.sf</th>\n",
       "      <th>..NM95_KMS11_salmon.quant.sf</th>\n",
       "      <th>..NM96_KMS11_HS5_salmon.quant.sf</th>\n",
       "    </tr>\n",
       "    <tr>\n",
       "      <th>Name</th>\n",
       "      <th></th>\n",
       "      <th></th>\n",
       "      <th></th>\n",
       "      <th></th>\n",
       "      <th></th>\n",
       "      <th></th>\n",
       "    </tr>\n",
       "  </thead>\n",
       "  <tbody>\n",
       "    <tr>\n",
       "      <th>5_8S_rRNA</th>\n",
       "      <td>0.00000</td>\n",
       "      <td>0.00000</td>\n",
       "      <td>0.00000</td>\n",
       "      <td>0.00000</td>\n",
       "      <td>0.00000</td>\n",
       "      <td>0.00000</td>\n",
       "    </tr>\n",
       "    <tr>\n",
       "      <th>5S_rRNA</th>\n",
       "      <td>6.45945</td>\n",
       "      <td>21.44398</td>\n",
       "      <td>10.03000</td>\n",
       "      <td>10.11391</td>\n",
       "      <td>0.00000</td>\n",
       "      <td>1.01000</td>\n",
       "    </tr>\n",
       "    <tr>\n",
       "      <th>7SK</th>\n",
       "      <td>3.03000</td>\n",
       "      <td>3.26734</td>\n",
       "      <td>0.78000</td>\n",
       "      <td>0.00000</td>\n",
       "      <td>0.00000</td>\n",
       "      <td>2.78045</td>\n",
       "    </tr>\n",
       "    <tr>\n",
       "      <th>A1BG</th>\n",
       "      <td>980.97371</td>\n",
       "      <td>1196.18930</td>\n",
       "      <td>38.39037</td>\n",
       "      <td>79.96080</td>\n",
       "      <td>4.68050</td>\n",
       "      <td>20.19474</td>\n",
       "    </tr>\n",
       "    <tr>\n",
       "      <th>A1BG-AS1</th>\n",
       "      <td>944.94700</td>\n",
       "      <td>1099.25405</td>\n",
       "      <td>3.76547</td>\n",
       "      <td>21.01000</td>\n",
       "      <td>1.84924</td>\n",
       "      <td>2.56537</td>\n",
       "    </tr>\n",
       "  </tbody>\n",
       "</table>\n",
       "</div>"
      ],
      "text/plain": [
       "           ..NM89_RPMI_salmon.quant.sf  ..NM90_RPMI_HS5_salmon.quant.sf  \\\n",
       "Name                                                                      \n",
       "5_8S_rRNA                      0.00000                          0.00000   \n",
       "5S_rRNA                        6.45945                         21.44398   \n",
       "7SK                            3.03000                          3.26734   \n",
       "A1BG                         980.97371                       1196.18930   \n",
       "A1BG-AS1                     944.94700                       1099.25405   \n",
       "\n",
       "           ..NM91_MM1S_salmon.quant.sf  ..NM92_MM1S_HS5_salmon.quant.sf  \\\n",
       "Name                                                                      \n",
       "5_8S_rRNA                      0.00000                          0.00000   \n",
       "5S_rRNA                       10.03000                         10.11391   \n",
       "7SK                            0.78000                          0.00000   \n",
       "A1BG                          38.39037                         79.96080   \n",
       "A1BG-AS1                       3.76547                         21.01000   \n",
       "\n",
       "           ..NM95_KMS11_salmon.quant.sf  ..NM96_KMS11_HS5_salmon.quant.sf  \n",
       "Name                                                                       \n",
       "5_8S_rRNA                       0.00000                           0.00000  \n",
       "5S_rRNA                         0.00000                           1.01000  \n",
       "7SK                             0.00000                           2.78045  \n",
       "A1BG                            4.68050                          20.19474  \n",
       "A1BG-AS1                        1.84924                           2.56537  "
      ]
     },
     "execution_count": 6,
     "metadata": {},
     "output_type": "execute_result"
    }
   ],
   "source": [
    "expr_df = expr_df.set_index(expr_df.columns[0])\n",
    "expr_df.head()"
   ]
  },
  {
   "cell_type": "markdown",
   "metadata": {},
   "source": [
    "### Quality Control\n",
    "Filter out none or low expressed genes."
   ]
  },
  {
   "cell_type": "code",
   "execution_count": 7,
   "metadata": {},
   "outputs": [
    {
     "name": "stdout",
     "output_type": "stream",
     "text": [
      "(58671, 6)\n"
     ]
    }
   ],
   "source": [
    "print(expr_df.shape)"
   ]
  },
  {
   "cell_type": "markdown",
   "metadata": {},
   "source": [
    "Here we only keep genes which counts are larger than 1 in each samples."
   ]
  },
  {
   "cell_type": "code",
   "execution_count": 8,
   "metadata": {},
   "outputs": [
    {
     "name": "stdout",
     "output_type": "stream",
     "text": [
      "(22366, 6)\n"
     ]
    }
   ],
   "source": [
    "mask_low_vals = (expr_df > 0).sum(axis=1) == 6\n",
    "expr_df = expr_df.loc[mask_low_vals, :]\n",
    "print(expr_df.shape)"
   ]
  },
  {
   "cell_type": "markdown",
   "metadata": {},
   "source": [
    "Save the result in working directory."
   ]
  },
  {
   "cell_type": "code",
   "execution_count": 9,
   "metadata": {},
   "outputs": [],
   "source": [
    "expr_df.to_csv('filtered.tsv',sep='\\t')"
   ]
  },
  {
   "cell_type": "code",
   "execution_count": 13,
   "metadata": {},
   "outputs": [
    {
     "name": "stdout",
     "output_type": "stream",
     "text": [
      "Setting WORKDIR to: $WORKDIR \n"
     ]
    },
    {
     "name": "stderr",
     "output_type": "stream",
     "text": [
      "Error in setwd(WORKDIR) : 无法改变工作目录\n",
      "停止执行\n"
     ]
    }
   ],
   "source": [
    "!Rscript test.r $WORKDIR"
   ]
  }
 ],
 "metadata": {
  "kernelspec": {
   "display_name": "Python 3",
   "language": "python",
   "name": "python3"
  },
  "language_info": {
   "codemirror_mode": {
    "name": "ipython",
    "version": 3
   },
   "file_extension": ".py",
   "mimetype": "text/x-python",
   "name": "python",
   "nbconvert_exporter": "python",
   "pygments_lexer": "ipython3",
   "version": "3.6.4"
  }
 },
 "nbformat": 4,
 "nbformat_minor": 2
}
